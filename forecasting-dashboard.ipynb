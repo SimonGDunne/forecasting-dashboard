{
 "cells": [
  {
   "cell_type": "markdown",
   "metadata": {},
   "source": [
    "# Create Beautiful AI Dashboards on a Shoestring with Python\n",
    "\n",
    "<table><tr>\n",
    "<td> <img src=\"img/logo_plotly.png\" alt=\"Drawing\" style=\"width: 50%;padding: 10px;\"/> </td>\n",
    "<td> <img src=\"img/logo_prophet.png\" alt=\"Drawing\" style=\"width: 50%;padding: 10px\"/> </td>\n",
    "<td> <img src=\"img/logo_panel.png\" alt=\"Drawing\" style=\"width: 50%;padding: 10px\"/> </td>\n",
    "</tr></table>\n",
    "\n",
    "## Introduction\n",
    "Reading online blog posts can give the impression that a company needs an army of data analysts and scientists working on the latest and greatest infrastructure to gain any value from their data. But in reality, a single resourceful data scientist equipped with a laptop and some data, can often reveal the most valuable insights.\n",
    "\n",
    "In this blog post, we will show you how to build [this interactive, time-series forecasting dashboard](https://dataaccelerators.com/panel_dashboards/forecast.html) using only free, open-source Python packages. This dashboard can be shared with anyone who has a web browser – all without costly databases, analytics platforms, or servers!\n"
   ]
  },
  {
   "cell_type": "markdown",
   "metadata": {},
   "source": [
    "<p>\n",
    "Our dashboard visualises historical sales for a fictional company and uses a statistical forecasting model to generate a dynamic forecast of future sales using three great packages: Plotly for interactive visualisation, Prophet for forecasting and Panel for dashboarding.\n",
    "</p>"
   ]
  },
  {
   "cell_type": "markdown",
   "metadata": {},
   "source": [
    "## Visualise our historical data with Plotly\n",
    "\n",
    "Let’s start by visualising our monthly sales data using Plotly. Plotly lets us create beautiful visualisations that users can interact with; a helpful tooltip appears when you hover over a data point, clicking and dragging allows you to zoom the chart in on an interesting time window."
   ]
  },
  {
   "cell_type": "markdown",
   "metadata": {},
   "source": [
    "First we install and load the Python packages needed to build our dashboard"
   ]
  },
  {
   "cell_type": "code",
   "execution_count": null,
   "metadata": {},
   "outputs": [],
   "source": [
    "!pip install -r requirements.txt"
   ]
  },
  {
   "cell_type": "code",
   "execution_count": 4,
   "metadata": {},
   "outputs": [],
   "source": [
    "import numpy as np\n",
    "import pandas as pd\n",
    "import plotly.express as px\n",
    "import plotly.graph_objs as go\n",
    "from plotly.graph_objs._figure import Figure\n",
    "from typing import Optional"
   ]
  },
  {
   "cell_type": "markdown",
   "metadata": {},
   "source": [
    "Now, let's load our sales data."
   ]
  },
  {
   "cell_type": "code",
   "execution_count": 5,
   "metadata": {},
   "outputs": [
    {
     "data": {
      "text/html": [
       "<div>\n",
       "<style scoped>\n",
       "    .dataframe tbody tr th:only-of-type {\n",
       "        vertical-align: middle;\n",
       "    }\n",
       "\n",
       "    .dataframe tbody tr th {\n",
       "        vertical-align: top;\n",
       "    }\n",
       "\n",
       "    .dataframe thead th {\n",
       "        text-align: right;\n",
       "    }\n",
       "</style>\n",
       "<table border=\"1\" class=\"dataframe\">\n",
       "  <thead>\n",
       "    <tr style=\"text-align: right;\">\n",
       "      <th></th>\n",
       "      <th>Month</th>\n",
       "      <th>Sales</th>\n",
       "    </tr>\n",
       "  </thead>\n",
       "  <tbody>\n",
       "    <tr>\n",
       "      <th>0</th>\n",
       "      <td>2014-01-01</td>\n",
       "      <td>19650.09</td>\n",
       "    </tr>\n",
       "    <tr>\n",
       "      <th>1</th>\n",
       "      <td>2014-02-01</td>\n",
       "      <td>26184.90</td>\n",
       "    </tr>\n",
       "    <tr>\n",
       "      <th>2</th>\n",
       "      <td>2014-03-01</td>\n",
       "      <td>36078.76</td>\n",
       "    </tr>\n",
       "    <tr>\n",
       "      <th>3</th>\n",
       "      <td>2014-04-01</td>\n",
       "      <td>43185.21</td>\n",
       "    </tr>\n",
       "    <tr>\n",
       "      <th>4</th>\n",
       "      <td>2014-05-01</td>\n",
       "      <td>43761.61</td>\n",
       "    </tr>\n",
       "  </tbody>\n",
       "</table>\n",
       "</div>"
      ],
      "text/plain": [
       "       Month     Sales\n",
       "0 2014-01-01  19650.09\n",
       "1 2014-02-01  26184.90\n",
       "2 2014-03-01  36078.76\n",
       "3 2014-04-01  43185.21\n",
       "4 2014-05-01  43761.61"
      ]
     },
     "execution_count": 5,
     "metadata": {},
     "output_type": "execute_result"
    }
   ],
   "source": [
    "df = pd.read_csv(\"./sales.csv\", parse_dates=[\"Month\"], dtype={\"Sales\": float})\n",
    "df.head()"
   ]
  },
  {
   "cell_type": "markdown",
   "metadata": {},
   "source": [
    "Let's create a function that will plot our sales data for us using Plotly."
   ]
  },
  {
   "cell_type": "code",
   "execution_count": 3,
   "metadata": {},
   "outputs": [],
   "source": [
    "def plot_historical_sales(\n",
    "    df: pd.DataFrame, outliers: Optional[list] = None\n",
    ") -> Figure:\n",
    "    \"\"\"\n",
    "    Create an interactive line graph from timeseries data\n",
    "\n",
    "    Parameters\n",
    "    ----------\n",
    "    df: dataframe containing two columns: Month and Sales\n",
    "    outliers: optional list of strings representing outlier dates, e.g. (\"2021-08-01, \"2021-09-03\")\n",
    "\n",
    "    Returns\n",
    "    ------\n",
    "    Plotly figure\n",
    "    \"\"\"\n",
    "    # Copy the data so that we don't modify the original\n",
    "    df = df.copy(deep=True)\n",
    "\n",
    "    # Plot line\n",
    "    fig = px.line(\n",
    "        df,\n",
    "        x=\"Month\",\n",
    "        y=\"Sales\",\n",
    "        markers=False,\n",
    "    ).update_layout(yaxis_range=[0, 90_000])\n",
    "\n",
    "    # Prepare markers, with outliers coloured red \n",
    "    df[\"colour\"] = \"#636efa\"\n",
    "    if outliers is not None:\n",
    "        df.loc[df[\"Month\"].isin(outliers), \"colour\"] = \"red\"\n",
    "        \n",
    "    fig.add_traces(\n",
    "        list(\n",
    "            px.scatter(\n",
    "                df,\n",
    "                x=\"Month\",\n",
    "                y=\"Sales\",\n",
    "                color=\"colour\",\n",
    "                hover_data={\"colour\": False},\n",
    "            ).select_traces()\n",
    "        )\n",
    "    )\n",
    "\n",
    "    # Insert some space between the yaxis tick labels and axis\n",
    "    fig = fig.update_yaxes(ticksuffix=\" \")\n",
    "\n",
    "    # Move legend and modify y-axis title\n",
    "    fig.update_layout(\n",
    "        showlegend=False, \n",
    "        yaxis_title=\"Sales (€)\",\n",
    "        margin=dict(l=20, r=20, t=30, b=20),\n",
    "    )\n",
    "\n",
    "    # Format the tooltip\n",
    "    fig.update_traces(\n",
    "        hovertemplate=\"<br>\".join(\n",
    "            [\"Month = %{x|%b %Y}\", \"Sales = €%{y:.2s}\", \"<extra></extra>\"]\n",
    "        ),\n",
    "    )\n",
    "\n",
    "    return fig"
   ]
  },
  {
   "cell_type": "code",
   "execution_count": 21,
   "metadata": {},
   "outputs": [
    {
     "data": {
      "application/vnd.plotly.v1+json": {
       "config": {
        "plotlyServerURL": "https://plotly.com"
       },
       "data": [
        {
         "hovertemplate": "Month = %{x|%b %Y}<br>Sales = €%{y:.2s}<br><extra></extra>",
         "legendgroup": "",
         "line": {
          "color": "#636efa",
          "dash": "solid"
         },
         "marker": {
          "symbol": "circle"
         },
         "mode": "lines",
         "name": "",
         "orientation": "v",
         "showlegend": false,
         "type": "scatter",
         "x": [
          "2014-01-01T00:00:00",
          "2014-02-01T00:00:00",
          "2014-03-01T00:00:00",
          "2014-04-01T00:00:00",
          "2014-05-01T00:00:00",
          "2014-06-01T00:00:00",
          "2014-07-01T00:00:00",
          "2014-08-01T00:00:00",
          "2014-09-01T00:00:00",
          "2014-10-01T00:00:00",
          "2014-11-01T00:00:00",
          "2014-12-01T00:00:00",
          "2015-01-01T00:00:00",
          "2015-02-01T00:00:00",
          "2015-03-01T00:00:00",
          "2015-04-01T00:00:00",
          "2015-05-01T00:00:00",
          "2015-06-01T00:00:00",
          "2015-07-01T00:00:00",
          "2015-08-01T00:00:00",
          "2015-09-01T00:00:00",
          "2015-10-01T00:00:00",
          "2015-11-01T00:00:00",
          "2015-12-01T00:00:00",
          "2016-01-01T00:00:00",
          "2016-02-01T00:00:00",
          "2016-03-01T00:00:00",
          "2016-04-01T00:00:00",
          "2016-05-01T00:00:00",
          "2016-06-01T00:00:00",
          "2016-07-01T00:00:00",
          "2016-08-01T00:00:00",
          "2016-09-01T00:00:00",
          "2016-10-01T00:00:00",
          "2016-11-01T00:00:00",
          "2016-12-01T00:00:00",
          "2017-01-01T00:00:00",
          "2017-02-01T00:00:00",
          "2017-03-01T00:00:00",
          "2017-04-01T00:00:00",
          "2017-05-01T00:00:00",
          "2017-06-01T00:00:00",
          "2017-07-01T00:00:00",
          "2017-08-01T00:00:00",
          "2017-09-01T00:00:00",
          "2017-10-01T00:00:00",
          "2017-11-01T00:00:00",
          "2017-12-01T00:00:00",
          "2018-01-01T00:00:00",
          "2018-02-01T00:00:00",
          "2018-03-01T00:00:00",
          "2018-04-01T00:00:00",
          "2018-05-01T00:00:00",
          "2018-06-01T00:00:00",
          "2018-07-01T00:00:00",
          "2018-08-01T00:00:00",
          "2018-09-01T00:00:00",
          "2018-10-01T00:00:00",
          "2018-11-01T00:00:00",
          "2018-12-01T00:00:00",
          "2019-01-01T00:00:00",
          "2019-02-01T00:00:00",
          "2019-03-01T00:00:00",
          "2019-04-01T00:00:00",
          "2019-05-01T00:00:00",
          "2019-06-01T00:00:00",
          "2019-07-01T00:00:00",
          "2019-08-01T00:00:00",
          "2019-09-01T00:00:00",
          "2019-10-01T00:00:00",
          "2019-11-01T00:00:00",
          "2019-12-01T00:00:00",
          "2020-01-01T00:00:00",
          "2020-02-01T00:00:00",
          "2020-03-01T00:00:00",
          "2020-04-01T00:00:00",
          "2020-05-01T00:00:00",
          "2020-06-01T00:00:00",
          "2020-07-01T00:00:00",
          "2020-08-01T00:00:00",
          "2020-09-01T00:00:00",
          "2020-10-01T00:00:00",
          "2020-11-01T00:00:00",
          "2020-12-01T00:00:00",
          "2021-01-01T00:00:00",
          "2021-02-01T00:00:00",
          "2021-03-01T00:00:00",
          "2021-04-01T00:00:00",
          "2021-05-01T00:00:00",
          "2021-06-01T00:00:00",
          "2021-07-01T00:00:00",
          "2021-08-01T00:00:00",
          "2021-09-01T00:00:00",
          "2021-10-01T00:00:00",
          "2021-11-01T00:00:00",
          "2021-12-01T00:00:00",
          "2022-01-01T00:00:00",
          "2022-02-01T00:00:00",
          "2022-03-01T00:00:00",
          "2022-04-01T00:00:00",
          "2022-05-01T00:00:00",
          "2022-06-01T00:00:00",
          "2022-07-01T00:00:00",
          "2022-08-01T00:00:00",
          "2022-09-01T00:00:00",
          "2022-10-01T00:00:00",
          "2022-11-01T00:00:00",
          "2022-12-01T00:00:00"
         ],
         "xaxis": "x",
         "y": [
          19650.09,
          26184.9,
          36078.76,
          43185.21,
          43761.61,
          41373.7,
          28494.88,
          24753.44,
          21147.64,
          28635.81,
          28092.45,
          25368.85,
          21711.97,
          28122.94,
          35511.8,
          41352.02,
          47778.37,
          41463.59,
          33429.77,
          23925.17,
          22830.52,
          30045.87,
          38277.75,
          26448.86,
          32031.85,
          32841.63,
          45600.5,
          51030.65,
          62700.83,
          48615.11,
          36429.08,
          26991.71,
          16704.53,
          34422.95,
          36768.33,
          31749.89,
          32586.01,
          32895.14,
          43215.56,
          61137.09,
          60384.42,
          53448.38,
          36804.88,
          25926.32,
          23886.35,
          41796.21,
          47808.11,
          37884.68,
          36801.62,
          37410.88,
          56832.5,
          63777.32,
          66045.14,
          55743.71,
          45525.06,
          30918.3,
          32376.52,
          44256.61,
          41262.25,
          35214.92,
          36543.34,
          38895.58,
          59970.86,
          69375.32,
          70623.86,
          63741.36,
          45567.54,
          44301.32,
          32685.73,
          51390.59,
          53091.93,
          49833.63,
          38022.55,
          38280.85,
          15186.9375,
          16601.275,
          15507.895,
          14949.7625,
          46164.37,
          45339.85,
          40203.61,
          48405.77,
          52686.81,
          44160.89,
          36675.06,
          34824.3,
          62955.75,
          59076.05,
          72243.08,
          66342.87,
          42660.56,
          40302.97,
          40794.29,
          51561.18,
          48357.44,
          41139.67,
          39630.53,
          42753.38,
          60417.57,
          65175.57,
          78297.68,
          63252.47,
          54072.12,
          50166.74,
          43155.66,
          64026.12,
          51540.45,
          43731.19
         ],
         "yaxis": "y"
        },
        {
         "customdata": [
          [
           "#636efa"
          ],
          [
           "#636efa"
          ],
          [
           "#636efa"
          ],
          [
           "#636efa"
          ],
          [
           "#636efa"
          ],
          [
           "#636efa"
          ],
          [
           "#636efa"
          ],
          [
           "#636efa"
          ],
          [
           "#636efa"
          ],
          [
           "#636efa"
          ],
          [
           "#636efa"
          ],
          [
           "#636efa"
          ],
          [
           "#636efa"
          ],
          [
           "#636efa"
          ],
          [
           "#636efa"
          ],
          [
           "#636efa"
          ],
          [
           "#636efa"
          ],
          [
           "#636efa"
          ],
          [
           "#636efa"
          ],
          [
           "#636efa"
          ],
          [
           "#636efa"
          ],
          [
           "#636efa"
          ],
          [
           "#636efa"
          ],
          [
           "#636efa"
          ],
          [
           "#636efa"
          ],
          [
           "#636efa"
          ],
          [
           "#636efa"
          ],
          [
           "#636efa"
          ],
          [
           "#636efa"
          ],
          [
           "#636efa"
          ],
          [
           "#636efa"
          ],
          [
           "#636efa"
          ],
          [
           "#636efa"
          ],
          [
           "#636efa"
          ],
          [
           "#636efa"
          ],
          [
           "#636efa"
          ],
          [
           "#636efa"
          ],
          [
           "#636efa"
          ],
          [
           "#636efa"
          ],
          [
           "#636efa"
          ],
          [
           "#636efa"
          ],
          [
           "#636efa"
          ],
          [
           "#636efa"
          ],
          [
           "#636efa"
          ],
          [
           "#636efa"
          ],
          [
           "#636efa"
          ],
          [
           "#636efa"
          ],
          [
           "#636efa"
          ],
          [
           "#636efa"
          ],
          [
           "#636efa"
          ],
          [
           "#636efa"
          ],
          [
           "#636efa"
          ],
          [
           "#636efa"
          ],
          [
           "#636efa"
          ],
          [
           "#636efa"
          ],
          [
           "#636efa"
          ],
          [
           "#636efa"
          ],
          [
           "#636efa"
          ],
          [
           "#636efa"
          ],
          [
           "#636efa"
          ],
          [
           "#636efa"
          ],
          [
           "#636efa"
          ],
          [
           "#636efa"
          ],
          [
           "#636efa"
          ],
          [
           "#636efa"
          ],
          [
           "#636efa"
          ],
          [
           "#636efa"
          ],
          [
           "#636efa"
          ],
          [
           "#636efa"
          ],
          [
           "#636efa"
          ],
          [
           "#636efa"
          ],
          [
           "#636efa"
          ],
          [
           "#636efa"
          ],
          [
           "#636efa"
          ],
          [
           "#636efa"
          ],
          [
           "#636efa"
          ],
          [
           "#636efa"
          ],
          [
           "#636efa"
          ],
          [
           "#636efa"
          ],
          [
           "#636efa"
          ],
          [
           "#636efa"
          ],
          [
           "#636efa"
          ],
          [
           "#636efa"
          ],
          [
           "#636efa"
          ],
          [
           "#636efa"
          ],
          [
           "#636efa"
          ],
          [
           "#636efa"
          ],
          [
           "#636efa"
          ],
          [
           "#636efa"
          ],
          [
           "#636efa"
          ],
          [
           "#636efa"
          ],
          [
           "#636efa"
          ],
          [
           "#636efa"
          ],
          [
           "#636efa"
          ],
          [
           "#636efa"
          ],
          [
           "#636efa"
          ],
          [
           "#636efa"
          ],
          [
           "#636efa"
          ],
          [
           "#636efa"
          ],
          [
           "#636efa"
          ],
          [
           "#636efa"
          ],
          [
           "#636efa"
          ],
          [
           "#636efa"
          ],
          [
           "#636efa"
          ]
         ],
         "hovertemplate": "Month = %{x|%b %Y}<br>Sales = €%{y:.2s}<br><extra></extra>",
         "legendgroup": "#636efa",
         "marker": {
          "color": "#636efa",
          "symbol": "circle"
         },
         "mode": "markers",
         "name": "#636efa",
         "orientation": "v",
         "showlegend": true,
         "type": "scatter",
         "x": [
          "2014-01-01T00:00:00",
          "2014-02-01T00:00:00",
          "2014-03-01T00:00:00",
          "2014-04-01T00:00:00",
          "2014-05-01T00:00:00",
          "2014-06-01T00:00:00",
          "2014-07-01T00:00:00",
          "2014-08-01T00:00:00",
          "2014-09-01T00:00:00",
          "2014-10-01T00:00:00",
          "2014-11-01T00:00:00",
          "2014-12-01T00:00:00",
          "2015-01-01T00:00:00",
          "2015-02-01T00:00:00",
          "2015-03-01T00:00:00",
          "2015-04-01T00:00:00",
          "2015-05-01T00:00:00",
          "2015-06-01T00:00:00",
          "2015-07-01T00:00:00",
          "2015-08-01T00:00:00",
          "2015-09-01T00:00:00",
          "2015-10-01T00:00:00",
          "2015-11-01T00:00:00",
          "2015-12-01T00:00:00",
          "2016-01-01T00:00:00",
          "2016-02-01T00:00:00",
          "2016-03-01T00:00:00",
          "2016-04-01T00:00:00",
          "2016-05-01T00:00:00",
          "2016-06-01T00:00:00",
          "2016-07-01T00:00:00",
          "2016-08-01T00:00:00",
          "2016-09-01T00:00:00",
          "2016-10-01T00:00:00",
          "2016-11-01T00:00:00",
          "2016-12-01T00:00:00",
          "2017-01-01T00:00:00",
          "2017-02-01T00:00:00",
          "2017-03-01T00:00:00",
          "2017-04-01T00:00:00",
          "2017-05-01T00:00:00",
          "2017-06-01T00:00:00",
          "2017-07-01T00:00:00",
          "2017-08-01T00:00:00",
          "2017-09-01T00:00:00",
          "2017-10-01T00:00:00",
          "2017-11-01T00:00:00",
          "2017-12-01T00:00:00",
          "2018-01-01T00:00:00",
          "2018-02-01T00:00:00",
          "2018-03-01T00:00:00",
          "2018-04-01T00:00:00",
          "2018-05-01T00:00:00",
          "2018-06-01T00:00:00",
          "2018-07-01T00:00:00",
          "2018-08-01T00:00:00",
          "2018-09-01T00:00:00",
          "2018-10-01T00:00:00",
          "2018-11-01T00:00:00",
          "2018-12-01T00:00:00",
          "2019-01-01T00:00:00",
          "2019-02-01T00:00:00",
          "2019-03-01T00:00:00",
          "2019-04-01T00:00:00",
          "2019-05-01T00:00:00",
          "2019-06-01T00:00:00",
          "2019-07-01T00:00:00",
          "2019-08-01T00:00:00",
          "2019-09-01T00:00:00",
          "2019-10-01T00:00:00",
          "2019-11-01T00:00:00",
          "2019-12-01T00:00:00",
          "2020-01-01T00:00:00",
          "2020-02-01T00:00:00",
          "2020-07-01T00:00:00",
          "2020-08-01T00:00:00",
          "2020-09-01T00:00:00",
          "2020-10-01T00:00:00",
          "2020-11-01T00:00:00",
          "2020-12-01T00:00:00",
          "2021-01-01T00:00:00",
          "2021-02-01T00:00:00",
          "2021-03-01T00:00:00",
          "2021-04-01T00:00:00",
          "2021-05-01T00:00:00",
          "2021-06-01T00:00:00",
          "2021-07-01T00:00:00",
          "2021-08-01T00:00:00",
          "2021-09-01T00:00:00",
          "2021-10-01T00:00:00",
          "2021-11-01T00:00:00",
          "2021-12-01T00:00:00",
          "2022-01-01T00:00:00",
          "2022-02-01T00:00:00",
          "2022-03-01T00:00:00",
          "2022-04-01T00:00:00",
          "2022-05-01T00:00:00",
          "2022-06-01T00:00:00",
          "2022-07-01T00:00:00",
          "2022-08-01T00:00:00",
          "2022-09-01T00:00:00",
          "2022-10-01T00:00:00",
          "2022-11-01T00:00:00",
          "2022-12-01T00:00:00"
         ],
         "xaxis": "x",
         "y": [
          19650.09,
          26184.9,
          36078.76,
          43185.21,
          43761.61,
          41373.7,
          28494.88,
          24753.44,
          21147.64,
          28635.81,
          28092.45,
          25368.85,
          21711.97,
          28122.94,
          35511.8,
          41352.02,
          47778.37,
          41463.59,
          33429.77,
          23925.17,
          22830.52,
          30045.87,
          38277.75,
          26448.86,
          32031.85,
          32841.63,
          45600.5,
          51030.65,
          62700.83,
          48615.11,
          36429.08,
          26991.71,
          16704.53,
          34422.95,
          36768.33,
          31749.89,
          32586.01,
          32895.14,
          43215.56,
          61137.09,
          60384.42,
          53448.38,
          36804.88,
          25926.32,
          23886.35,
          41796.21,
          47808.11,
          37884.68,
          36801.62,
          37410.88,
          56832.5,
          63777.32,
          66045.14,
          55743.71,
          45525.06,
          30918.3,
          32376.52,
          44256.61,
          41262.25,
          35214.92,
          36543.34,
          38895.58,
          59970.86,
          69375.32,
          70623.86,
          63741.36,
          45567.54,
          44301.32,
          32685.73,
          51390.59,
          53091.93,
          49833.63,
          38022.55,
          38280.85,
          46164.37,
          45339.85,
          40203.61,
          48405.77,
          52686.81,
          44160.89,
          36675.06,
          34824.3,
          62955.75,
          59076.05,
          72243.08,
          66342.87,
          42660.56,
          40302.97,
          40794.29,
          51561.18,
          48357.44,
          41139.67,
          39630.53,
          42753.38,
          60417.57,
          65175.57,
          78297.68,
          63252.47,
          54072.12,
          50166.74,
          43155.66,
          64026.12,
          51540.45,
          43731.19
         ],
         "yaxis": "y"
        },
        {
         "customdata": [
          [
           "red"
          ],
          [
           "red"
          ],
          [
           "red"
          ],
          [
           "red"
          ]
         ],
         "hovertemplate": "Month = %{x|%b %Y}<br>Sales = €%{y:.2s}<br><extra></extra>",
         "legendgroup": "red",
         "marker": {
          "color": "#EF553B",
          "symbol": "circle"
         },
         "mode": "markers",
         "name": "red",
         "orientation": "v",
         "showlegend": true,
         "type": "scatter",
         "x": [
          "2020-03-01T00:00:00",
          "2020-04-01T00:00:00",
          "2020-05-01T00:00:00",
          "2020-06-01T00:00:00"
         ],
         "xaxis": "x",
         "y": [
          15186.9375,
          16601.275,
          15507.895,
          14949.7625
         ],
         "yaxis": "y"
        }
       ],
       "layout": {
        "legend": {
         "tracegroupgap": 0
        },
        "margin": {
         "b": 20,
         "l": 20,
         "r": 20,
         "t": 30
        },
        "showlegend": false,
        "template": {
         "data": {
          "bar": [
           {
            "error_x": {
             "color": "#2a3f5f"
            },
            "error_y": {
             "color": "#2a3f5f"
            },
            "marker": {
             "line": {
              "color": "#E5ECF6",
              "width": 0.5
             },
             "pattern": {
              "fillmode": "overlay",
              "size": 10,
              "solidity": 0.2
             }
            },
            "type": "bar"
           }
          ],
          "barpolar": [
           {
            "marker": {
             "line": {
              "color": "#E5ECF6",
              "width": 0.5
             },
             "pattern": {
              "fillmode": "overlay",
              "size": 10,
              "solidity": 0.2
             }
            },
            "type": "barpolar"
           }
          ],
          "carpet": [
           {
            "aaxis": {
             "endlinecolor": "#2a3f5f",
             "gridcolor": "white",
             "linecolor": "white",
             "minorgridcolor": "white",
             "startlinecolor": "#2a3f5f"
            },
            "baxis": {
             "endlinecolor": "#2a3f5f",
             "gridcolor": "white",
             "linecolor": "white",
             "minorgridcolor": "white",
             "startlinecolor": "#2a3f5f"
            },
            "type": "carpet"
           }
          ],
          "choropleth": [
           {
            "colorbar": {
             "outlinewidth": 0,
             "ticks": ""
            },
            "type": "choropleth"
           }
          ],
          "contour": [
           {
            "colorbar": {
             "outlinewidth": 0,
             "ticks": ""
            },
            "colorscale": [
             [
              0,
              "#0d0887"
             ],
             [
              0.1111111111111111,
              "#46039f"
             ],
             [
              0.2222222222222222,
              "#7201a8"
             ],
             [
              0.3333333333333333,
              "#9c179e"
             ],
             [
              0.4444444444444444,
              "#bd3786"
             ],
             [
              0.5555555555555556,
              "#d8576b"
             ],
             [
              0.6666666666666666,
              "#ed7953"
             ],
             [
              0.7777777777777778,
              "#fb9f3a"
             ],
             [
              0.8888888888888888,
              "#fdca26"
             ],
             [
              1,
              "#f0f921"
             ]
            ],
            "type": "contour"
           }
          ],
          "contourcarpet": [
           {
            "colorbar": {
             "outlinewidth": 0,
             "ticks": ""
            },
            "type": "contourcarpet"
           }
          ],
          "heatmap": [
           {
            "colorbar": {
             "outlinewidth": 0,
             "ticks": ""
            },
            "colorscale": [
             [
              0,
              "#0d0887"
             ],
             [
              0.1111111111111111,
              "#46039f"
             ],
             [
              0.2222222222222222,
              "#7201a8"
             ],
             [
              0.3333333333333333,
              "#9c179e"
             ],
             [
              0.4444444444444444,
              "#bd3786"
             ],
             [
              0.5555555555555556,
              "#d8576b"
             ],
             [
              0.6666666666666666,
              "#ed7953"
             ],
             [
              0.7777777777777778,
              "#fb9f3a"
             ],
             [
              0.8888888888888888,
              "#fdca26"
             ],
             [
              1,
              "#f0f921"
             ]
            ],
            "type": "heatmap"
           }
          ],
          "heatmapgl": [
           {
            "colorbar": {
             "outlinewidth": 0,
             "ticks": ""
            },
            "colorscale": [
             [
              0,
              "#0d0887"
             ],
             [
              0.1111111111111111,
              "#46039f"
             ],
             [
              0.2222222222222222,
              "#7201a8"
             ],
             [
              0.3333333333333333,
              "#9c179e"
             ],
             [
              0.4444444444444444,
              "#bd3786"
             ],
             [
              0.5555555555555556,
              "#d8576b"
             ],
             [
              0.6666666666666666,
              "#ed7953"
             ],
             [
              0.7777777777777778,
              "#fb9f3a"
             ],
             [
              0.8888888888888888,
              "#fdca26"
             ],
             [
              1,
              "#f0f921"
             ]
            ],
            "type": "heatmapgl"
           }
          ],
          "histogram": [
           {
            "marker": {
             "pattern": {
              "fillmode": "overlay",
              "size": 10,
              "solidity": 0.2
             }
            },
            "type": "histogram"
           }
          ],
          "histogram2d": [
           {
            "colorbar": {
             "outlinewidth": 0,
             "ticks": ""
            },
            "colorscale": [
             [
              0,
              "#0d0887"
             ],
             [
              0.1111111111111111,
              "#46039f"
             ],
             [
              0.2222222222222222,
              "#7201a8"
             ],
             [
              0.3333333333333333,
              "#9c179e"
             ],
             [
              0.4444444444444444,
              "#bd3786"
             ],
             [
              0.5555555555555556,
              "#d8576b"
             ],
             [
              0.6666666666666666,
              "#ed7953"
             ],
             [
              0.7777777777777778,
              "#fb9f3a"
             ],
             [
              0.8888888888888888,
              "#fdca26"
             ],
             [
              1,
              "#f0f921"
             ]
            ],
            "type": "histogram2d"
           }
          ],
          "histogram2dcontour": [
           {
            "colorbar": {
             "outlinewidth": 0,
             "ticks": ""
            },
            "colorscale": [
             [
              0,
              "#0d0887"
             ],
             [
              0.1111111111111111,
              "#46039f"
             ],
             [
              0.2222222222222222,
              "#7201a8"
             ],
             [
              0.3333333333333333,
              "#9c179e"
             ],
             [
              0.4444444444444444,
              "#bd3786"
             ],
             [
              0.5555555555555556,
              "#d8576b"
             ],
             [
              0.6666666666666666,
              "#ed7953"
             ],
             [
              0.7777777777777778,
              "#fb9f3a"
             ],
             [
              0.8888888888888888,
              "#fdca26"
             ],
             [
              1,
              "#f0f921"
             ]
            ],
            "type": "histogram2dcontour"
           }
          ],
          "mesh3d": [
           {
            "colorbar": {
             "outlinewidth": 0,
             "ticks": ""
            },
            "type": "mesh3d"
           }
          ],
          "parcoords": [
           {
            "line": {
             "colorbar": {
              "outlinewidth": 0,
              "ticks": ""
             }
            },
            "type": "parcoords"
           }
          ],
          "pie": [
           {
            "automargin": true,
            "type": "pie"
           }
          ],
          "scatter": [
           {
            "fillpattern": {
             "fillmode": "overlay",
             "size": 10,
             "solidity": 0.2
            },
            "type": "scatter"
           }
          ],
          "scatter3d": [
           {
            "line": {
             "colorbar": {
              "outlinewidth": 0,
              "ticks": ""
             }
            },
            "marker": {
             "colorbar": {
              "outlinewidth": 0,
              "ticks": ""
             }
            },
            "type": "scatter3d"
           }
          ],
          "scattercarpet": [
           {
            "marker": {
             "colorbar": {
              "outlinewidth": 0,
              "ticks": ""
             }
            },
            "type": "scattercarpet"
           }
          ],
          "scattergeo": [
           {
            "marker": {
             "colorbar": {
              "outlinewidth": 0,
              "ticks": ""
             }
            },
            "type": "scattergeo"
           }
          ],
          "scattergl": [
           {
            "marker": {
             "colorbar": {
              "outlinewidth": 0,
              "ticks": ""
             }
            },
            "type": "scattergl"
           }
          ],
          "scattermapbox": [
           {
            "marker": {
             "colorbar": {
              "outlinewidth": 0,
              "ticks": ""
             }
            },
            "type": "scattermapbox"
           }
          ],
          "scatterpolar": [
           {
            "marker": {
             "colorbar": {
              "outlinewidth": 0,
              "ticks": ""
             }
            },
            "type": "scatterpolar"
           }
          ],
          "scatterpolargl": [
           {
            "marker": {
             "colorbar": {
              "outlinewidth": 0,
              "ticks": ""
             }
            },
            "type": "scatterpolargl"
           }
          ],
          "scatterternary": [
           {
            "marker": {
             "colorbar": {
              "outlinewidth": 0,
              "ticks": ""
             }
            },
            "type": "scatterternary"
           }
          ],
          "surface": [
           {
            "colorbar": {
             "outlinewidth": 0,
             "ticks": ""
            },
            "colorscale": [
             [
              0,
              "#0d0887"
             ],
             [
              0.1111111111111111,
              "#46039f"
             ],
             [
              0.2222222222222222,
              "#7201a8"
             ],
             [
              0.3333333333333333,
              "#9c179e"
             ],
             [
              0.4444444444444444,
              "#bd3786"
             ],
             [
              0.5555555555555556,
              "#d8576b"
             ],
             [
              0.6666666666666666,
              "#ed7953"
             ],
             [
              0.7777777777777778,
              "#fb9f3a"
             ],
             [
              0.8888888888888888,
              "#fdca26"
             ],
             [
              1,
              "#f0f921"
             ]
            ],
            "type": "surface"
           }
          ],
          "table": [
           {
            "cells": {
             "fill": {
              "color": "#EBF0F8"
             },
             "line": {
              "color": "white"
             }
            },
            "header": {
             "fill": {
              "color": "#C8D4E3"
             },
             "line": {
              "color": "white"
             }
            },
            "type": "table"
           }
          ]
         },
         "layout": {
          "annotationdefaults": {
           "arrowcolor": "#2a3f5f",
           "arrowhead": 0,
           "arrowwidth": 1
          },
          "autotypenumbers": "strict",
          "coloraxis": {
           "colorbar": {
            "outlinewidth": 0,
            "ticks": ""
           }
          },
          "colorscale": {
           "diverging": [
            [
             0,
             "#8e0152"
            ],
            [
             0.1,
             "#c51b7d"
            ],
            [
             0.2,
             "#de77ae"
            ],
            [
             0.3,
             "#f1b6da"
            ],
            [
             0.4,
             "#fde0ef"
            ],
            [
             0.5,
             "#f7f7f7"
            ],
            [
             0.6,
             "#e6f5d0"
            ],
            [
             0.7,
             "#b8e186"
            ],
            [
             0.8,
             "#7fbc41"
            ],
            [
             0.9,
             "#4d9221"
            ],
            [
             1,
             "#276419"
            ]
           ],
           "sequential": [
            [
             0,
             "#0d0887"
            ],
            [
             0.1111111111111111,
             "#46039f"
            ],
            [
             0.2222222222222222,
             "#7201a8"
            ],
            [
             0.3333333333333333,
             "#9c179e"
            ],
            [
             0.4444444444444444,
             "#bd3786"
            ],
            [
             0.5555555555555556,
             "#d8576b"
            ],
            [
             0.6666666666666666,
             "#ed7953"
            ],
            [
             0.7777777777777778,
             "#fb9f3a"
            ],
            [
             0.8888888888888888,
             "#fdca26"
            ],
            [
             1,
             "#f0f921"
            ]
           ],
           "sequentialminus": [
            [
             0,
             "#0d0887"
            ],
            [
             0.1111111111111111,
             "#46039f"
            ],
            [
             0.2222222222222222,
             "#7201a8"
            ],
            [
             0.3333333333333333,
             "#9c179e"
            ],
            [
             0.4444444444444444,
             "#bd3786"
            ],
            [
             0.5555555555555556,
             "#d8576b"
            ],
            [
             0.6666666666666666,
             "#ed7953"
            ],
            [
             0.7777777777777778,
             "#fb9f3a"
            ],
            [
             0.8888888888888888,
             "#fdca26"
            ],
            [
             1,
             "#f0f921"
            ]
           ]
          },
          "colorway": [
           "#636efa",
           "#EF553B",
           "#00cc96",
           "#ab63fa",
           "#FFA15A",
           "#19d3f3",
           "#FF6692",
           "#B6E880",
           "#FF97FF",
           "#FECB52"
          ],
          "font": {
           "color": "#2a3f5f"
          },
          "geo": {
           "bgcolor": "white",
           "lakecolor": "white",
           "landcolor": "#E5ECF6",
           "showlakes": true,
           "showland": true,
           "subunitcolor": "white"
          },
          "hoverlabel": {
           "align": "left"
          },
          "hovermode": "closest",
          "mapbox": {
           "style": "light"
          },
          "paper_bgcolor": "white",
          "plot_bgcolor": "#E5ECF6",
          "polar": {
           "angularaxis": {
            "gridcolor": "white",
            "linecolor": "white",
            "ticks": ""
           },
           "bgcolor": "#E5ECF6",
           "radialaxis": {
            "gridcolor": "white",
            "linecolor": "white",
            "ticks": ""
           }
          },
          "scene": {
           "xaxis": {
            "backgroundcolor": "#E5ECF6",
            "gridcolor": "white",
            "gridwidth": 2,
            "linecolor": "white",
            "showbackground": true,
            "ticks": "",
            "zerolinecolor": "white"
           },
           "yaxis": {
            "backgroundcolor": "#E5ECF6",
            "gridcolor": "white",
            "gridwidth": 2,
            "linecolor": "white",
            "showbackground": true,
            "ticks": "",
            "zerolinecolor": "white"
           },
           "zaxis": {
            "backgroundcolor": "#E5ECF6",
            "gridcolor": "white",
            "gridwidth": 2,
            "linecolor": "white",
            "showbackground": true,
            "ticks": "",
            "zerolinecolor": "white"
           }
          },
          "shapedefaults": {
           "line": {
            "color": "#2a3f5f"
           }
          },
          "ternary": {
           "aaxis": {
            "gridcolor": "white",
            "linecolor": "white",
            "ticks": ""
           },
           "baxis": {
            "gridcolor": "white",
            "linecolor": "white",
            "ticks": ""
           },
           "bgcolor": "#E5ECF6",
           "caxis": {
            "gridcolor": "white",
            "linecolor": "white",
            "ticks": ""
           }
          },
          "title": {
           "x": 0.05
          },
          "xaxis": {
           "automargin": true,
           "gridcolor": "white",
           "linecolor": "white",
           "ticks": "",
           "title": {
            "standoff": 15
           },
           "zerolinecolor": "white",
           "zerolinewidth": 2
          },
          "yaxis": {
           "automargin": true,
           "gridcolor": "white",
           "linecolor": "white",
           "ticks": "",
           "title": {
            "standoff": 15
           },
           "zerolinecolor": "white",
           "zerolinewidth": 2
          }
         }
        },
        "xaxis": {
         "anchor": "y",
         "domain": [
          0,
          1
         ],
         "title": {
          "text": "Month"
         }
        },
        "yaxis": {
         "anchor": "x",
         "domain": [
          0,
          1
         ],
         "range": [
          0,
          90000
         ],
         "ticksuffix": " ",
         "title": {
          "text": "Sales (€)"
         }
        }
       }
      },
      "text/html": [
       "<div>                            <div id=\"79a95602-319b-4720-b8ab-aa1edb31902a\" class=\"plotly-graph-div\" style=\"height:525px; width:100%;\"></div>            <script type=\"text/javascript\">                require([\"plotly\"], function(Plotly) {                    window.PLOTLYENV=window.PLOTLYENV || {};                                    if (document.getElementById(\"79a95602-319b-4720-b8ab-aa1edb31902a\")) {                    Plotly.newPlot(                        \"79a95602-319b-4720-b8ab-aa1edb31902a\",                        [{\"hovertemplate\":\"Month = %{x|%b %Y}<br>Sales = \\u20ac%{y:.2s}<br><extra></extra>\",\"legendgroup\":\"\",\"line\":{\"color\":\"#636efa\",\"dash\":\"solid\"},\"marker\":{\"symbol\":\"circle\"},\"mode\":\"lines\",\"name\":\"\",\"orientation\":\"v\",\"showlegend\":false,\"x\":[\"2014-01-01T00:00:00\",\"2014-02-01T00:00:00\",\"2014-03-01T00:00:00\",\"2014-04-01T00:00:00\",\"2014-05-01T00:00:00\",\"2014-06-01T00:00:00\",\"2014-07-01T00:00:00\",\"2014-08-01T00:00:00\",\"2014-09-01T00:00:00\",\"2014-10-01T00:00:00\",\"2014-11-01T00:00:00\",\"2014-12-01T00:00:00\",\"2015-01-01T00:00:00\",\"2015-02-01T00:00:00\",\"2015-03-01T00:00:00\",\"2015-04-01T00:00:00\",\"2015-05-01T00:00:00\",\"2015-06-01T00:00:00\",\"2015-07-01T00:00:00\",\"2015-08-01T00:00:00\",\"2015-09-01T00:00:00\",\"2015-10-01T00:00:00\",\"2015-11-01T00:00:00\",\"2015-12-01T00:00:00\",\"2016-01-01T00:00:00\",\"2016-02-01T00:00:00\",\"2016-03-01T00:00:00\",\"2016-04-01T00:00:00\",\"2016-05-01T00:00:00\",\"2016-06-01T00:00:00\",\"2016-07-01T00:00:00\",\"2016-08-01T00:00:00\",\"2016-09-01T00:00:00\",\"2016-10-01T00:00:00\",\"2016-11-01T00:00:00\",\"2016-12-01T00:00:00\",\"2017-01-01T00:00:00\",\"2017-02-01T00:00:00\",\"2017-03-01T00:00:00\",\"2017-04-01T00:00:00\",\"2017-05-01T00:00:00\",\"2017-06-01T00:00:00\",\"2017-07-01T00:00:00\",\"2017-08-01T00:00:00\",\"2017-09-01T00:00:00\",\"2017-10-01T00:00:00\",\"2017-11-01T00:00:00\",\"2017-12-01T00:00:00\",\"2018-01-01T00:00:00\",\"2018-02-01T00:00:00\",\"2018-03-01T00:00:00\",\"2018-04-01T00:00:00\",\"2018-05-01T00:00:00\",\"2018-06-01T00:00:00\",\"2018-07-01T00:00:00\",\"2018-08-01T00:00:00\",\"2018-09-01T00:00:00\",\"2018-10-01T00:00:00\",\"2018-11-01T00:00:00\",\"2018-12-01T00:00:00\",\"2019-01-01T00:00:00\",\"2019-02-01T00:00:00\",\"2019-03-01T00:00:00\",\"2019-04-01T00:00:00\",\"2019-05-01T00:00:00\",\"2019-06-01T00:00:00\",\"2019-07-01T00:00:00\",\"2019-08-01T00:00:00\",\"2019-09-01T00:00:00\",\"2019-10-01T00:00:00\",\"2019-11-01T00:00:00\",\"2019-12-01T00:00:00\",\"2020-01-01T00:00:00\",\"2020-02-01T00:00:00\",\"2020-03-01T00:00:00\",\"2020-04-01T00:00:00\",\"2020-05-01T00:00:00\",\"2020-06-01T00:00:00\",\"2020-07-01T00:00:00\",\"2020-08-01T00:00:00\",\"2020-09-01T00:00:00\",\"2020-10-01T00:00:00\",\"2020-11-01T00:00:00\",\"2020-12-01T00:00:00\",\"2021-01-01T00:00:00\",\"2021-02-01T00:00:00\",\"2021-03-01T00:00:00\",\"2021-04-01T00:00:00\",\"2021-05-01T00:00:00\",\"2021-06-01T00:00:00\",\"2021-07-01T00:00:00\",\"2021-08-01T00:00:00\",\"2021-09-01T00:00:00\",\"2021-10-01T00:00:00\",\"2021-11-01T00:00:00\",\"2021-12-01T00:00:00\",\"2022-01-01T00:00:00\",\"2022-02-01T00:00:00\",\"2022-03-01T00:00:00\",\"2022-04-01T00:00:00\",\"2022-05-01T00:00:00\",\"2022-06-01T00:00:00\",\"2022-07-01T00:00:00\",\"2022-08-01T00:00:00\",\"2022-09-01T00:00:00\",\"2022-10-01T00:00:00\",\"2022-11-01T00:00:00\",\"2022-12-01T00:00:00\"],\"xaxis\":\"x\",\"y\":[19650.09,26184.9,36078.76,43185.21,43761.61,41373.7,28494.88,24753.44,21147.64,28635.81,28092.45,25368.85,21711.97,28122.94,35511.8,41352.02,47778.37,41463.59,33429.77,23925.17,22830.52,30045.87,38277.75,26448.86,32031.85,32841.63,45600.5,51030.65,62700.83,48615.11,36429.08,26991.71,16704.53,34422.95,36768.33,31749.89,32586.01,32895.14,43215.56,61137.09,60384.42,53448.38,36804.88,25926.32,23886.35,41796.21,47808.11,37884.68,36801.62,37410.88,56832.5,63777.32,66045.14,55743.71,45525.06,30918.3,32376.52,44256.61,41262.25,35214.92,36543.34,38895.58,59970.86,69375.32,70623.86,63741.36,45567.54,44301.32,32685.73,51390.59,53091.93,49833.63,38022.55,38280.85,15186.9375,16601.275,15507.895,14949.7625,46164.37,45339.85,40203.61,48405.77,52686.81,44160.89,36675.06,34824.3,62955.75,59076.05,72243.08,66342.87,42660.56,40302.97,40794.29,51561.18,48357.44,41139.67,39630.53,42753.38,60417.57,65175.57,78297.68,63252.47,54072.12,50166.74,43155.66,64026.12,51540.45,43731.19],\"yaxis\":\"y\",\"type\":\"scatter\"},{\"customdata\":[[\"#636efa\"],[\"#636efa\"],[\"#636efa\"],[\"#636efa\"],[\"#636efa\"],[\"#636efa\"],[\"#636efa\"],[\"#636efa\"],[\"#636efa\"],[\"#636efa\"],[\"#636efa\"],[\"#636efa\"],[\"#636efa\"],[\"#636efa\"],[\"#636efa\"],[\"#636efa\"],[\"#636efa\"],[\"#636efa\"],[\"#636efa\"],[\"#636efa\"],[\"#636efa\"],[\"#636efa\"],[\"#636efa\"],[\"#636efa\"],[\"#636efa\"],[\"#636efa\"],[\"#636efa\"],[\"#636efa\"],[\"#636efa\"],[\"#636efa\"],[\"#636efa\"],[\"#636efa\"],[\"#636efa\"],[\"#636efa\"],[\"#636efa\"],[\"#636efa\"],[\"#636efa\"],[\"#636efa\"],[\"#636efa\"],[\"#636efa\"],[\"#636efa\"],[\"#636efa\"],[\"#636efa\"],[\"#636efa\"],[\"#636efa\"],[\"#636efa\"],[\"#636efa\"],[\"#636efa\"],[\"#636efa\"],[\"#636efa\"],[\"#636efa\"],[\"#636efa\"],[\"#636efa\"],[\"#636efa\"],[\"#636efa\"],[\"#636efa\"],[\"#636efa\"],[\"#636efa\"],[\"#636efa\"],[\"#636efa\"],[\"#636efa\"],[\"#636efa\"],[\"#636efa\"],[\"#636efa\"],[\"#636efa\"],[\"#636efa\"],[\"#636efa\"],[\"#636efa\"],[\"#636efa\"],[\"#636efa\"],[\"#636efa\"],[\"#636efa\"],[\"#636efa\"],[\"#636efa\"],[\"#636efa\"],[\"#636efa\"],[\"#636efa\"],[\"#636efa\"],[\"#636efa\"],[\"#636efa\"],[\"#636efa\"],[\"#636efa\"],[\"#636efa\"],[\"#636efa\"],[\"#636efa\"],[\"#636efa\"],[\"#636efa\"],[\"#636efa\"],[\"#636efa\"],[\"#636efa\"],[\"#636efa\"],[\"#636efa\"],[\"#636efa\"],[\"#636efa\"],[\"#636efa\"],[\"#636efa\"],[\"#636efa\"],[\"#636efa\"],[\"#636efa\"],[\"#636efa\"],[\"#636efa\"],[\"#636efa\"],[\"#636efa\"],[\"#636efa\"]],\"hovertemplate\":\"Month = %{x|%b %Y}<br>Sales = \\u20ac%{y:.2s}<br><extra></extra>\",\"legendgroup\":\"#636efa\",\"marker\":{\"color\":\"#636efa\",\"symbol\":\"circle\"},\"mode\":\"markers\",\"name\":\"#636efa\",\"orientation\":\"v\",\"showlegend\":true,\"x\":[\"2014-01-01T00:00:00\",\"2014-02-01T00:00:00\",\"2014-03-01T00:00:00\",\"2014-04-01T00:00:00\",\"2014-05-01T00:00:00\",\"2014-06-01T00:00:00\",\"2014-07-01T00:00:00\",\"2014-08-01T00:00:00\",\"2014-09-01T00:00:00\",\"2014-10-01T00:00:00\",\"2014-11-01T00:00:00\",\"2014-12-01T00:00:00\",\"2015-01-01T00:00:00\",\"2015-02-01T00:00:00\",\"2015-03-01T00:00:00\",\"2015-04-01T00:00:00\",\"2015-05-01T00:00:00\",\"2015-06-01T00:00:00\",\"2015-07-01T00:00:00\",\"2015-08-01T00:00:00\",\"2015-09-01T00:00:00\",\"2015-10-01T00:00:00\",\"2015-11-01T00:00:00\",\"2015-12-01T00:00:00\",\"2016-01-01T00:00:00\",\"2016-02-01T00:00:00\",\"2016-03-01T00:00:00\",\"2016-04-01T00:00:00\",\"2016-05-01T00:00:00\",\"2016-06-01T00:00:00\",\"2016-07-01T00:00:00\",\"2016-08-01T00:00:00\",\"2016-09-01T00:00:00\",\"2016-10-01T00:00:00\",\"2016-11-01T00:00:00\",\"2016-12-01T00:00:00\",\"2017-01-01T00:00:00\",\"2017-02-01T00:00:00\",\"2017-03-01T00:00:00\",\"2017-04-01T00:00:00\",\"2017-05-01T00:00:00\",\"2017-06-01T00:00:00\",\"2017-07-01T00:00:00\",\"2017-08-01T00:00:00\",\"2017-09-01T00:00:00\",\"2017-10-01T00:00:00\",\"2017-11-01T00:00:00\",\"2017-12-01T00:00:00\",\"2018-01-01T00:00:00\",\"2018-02-01T00:00:00\",\"2018-03-01T00:00:00\",\"2018-04-01T00:00:00\",\"2018-05-01T00:00:00\",\"2018-06-01T00:00:00\",\"2018-07-01T00:00:00\",\"2018-08-01T00:00:00\",\"2018-09-01T00:00:00\",\"2018-10-01T00:00:00\",\"2018-11-01T00:00:00\",\"2018-12-01T00:00:00\",\"2019-01-01T00:00:00\",\"2019-02-01T00:00:00\",\"2019-03-01T00:00:00\",\"2019-04-01T00:00:00\",\"2019-05-01T00:00:00\",\"2019-06-01T00:00:00\",\"2019-07-01T00:00:00\",\"2019-08-01T00:00:00\",\"2019-09-01T00:00:00\",\"2019-10-01T00:00:00\",\"2019-11-01T00:00:00\",\"2019-12-01T00:00:00\",\"2020-01-01T00:00:00\",\"2020-02-01T00:00:00\",\"2020-07-01T00:00:00\",\"2020-08-01T00:00:00\",\"2020-09-01T00:00:00\",\"2020-10-01T00:00:00\",\"2020-11-01T00:00:00\",\"2020-12-01T00:00:00\",\"2021-01-01T00:00:00\",\"2021-02-01T00:00:00\",\"2021-03-01T00:00:00\",\"2021-04-01T00:00:00\",\"2021-05-01T00:00:00\",\"2021-06-01T00:00:00\",\"2021-07-01T00:00:00\",\"2021-08-01T00:00:00\",\"2021-09-01T00:00:00\",\"2021-10-01T00:00:00\",\"2021-11-01T00:00:00\",\"2021-12-01T00:00:00\",\"2022-01-01T00:00:00\",\"2022-02-01T00:00:00\",\"2022-03-01T00:00:00\",\"2022-04-01T00:00:00\",\"2022-05-01T00:00:00\",\"2022-06-01T00:00:00\",\"2022-07-01T00:00:00\",\"2022-08-01T00:00:00\",\"2022-09-01T00:00:00\",\"2022-10-01T00:00:00\",\"2022-11-01T00:00:00\",\"2022-12-01T00:00:00\"],\"xaxis\":\"x\",\"y\":[19650.09,26184.9,36078.76,43185.21,43761.61,41373.7,28494.88,24753.44,21147.64,28635.81,28092.45,25368.85,21711.97,28122.94,35511.8,41352.02,47778.37,41463.59,33429.77,23925.17,22830.52,30045.87,38277.75,26448.86,32031.85,32841.63,45600.5,51030.65,62700.83,48615.11,36429.08,26991.71,16704.53,34422.95,36768.33,31749.89,32586.01,32895.14,43215.56,61137.09,60384.42,53448.38,36804.88,25926.32,23886.35,41796.21,47808.11,37884.68,36801.62,37410.88,56832.5,63777.32,66045.14,55743.71,45525.06,30918.3,32376.52,44256.61,41262.25,35214.92,36543.34,38895.58,59970.86,69375.32,70623.86,63741.36,45567.54,44301.32,32685.73,51390.59,53091.93,49833.63,38022.55,38280.85,46164.37,45339.85,40203.61,48405.77,52686.81,44160.89,36675.06,34824.3,62955.75,59076.05,72243.08,66342.87,42660.56,40302.97,40794.29,51561.18,48357.44,41139.67,39630.53,42753.38,60417.57,65175.57,78297.68,63252.47,54072.12,50166.74,43155.66,64026.12,51540.45,43731.19],\"yaxis\":\"y\",\"type\":\"scatter\"},{\"customdata\":[[\"red\"],[\"red\"],[\"red\"],[\"red\"]],\"hovertemplate\":\"Month = %{x|%b %Y}<br>Sales = \\u20ac%{y:.2s}<br><extra></extra>\",\"legendgroup\":\"red\",\"marker\":{\"color\":\"#EF553B\",\"symbol\":\"circle\"},\"mode\":\"markers\",\"name\":\"red\",\"orientation\":\"v\",\"showlegend\":true,\"x\":[\"2020-03-01T00:00:00\",\"2020-04-01T00:00:00\",\"2020-05-01T00:00:00\",\"2020-06-01T00:00:00\"],\"xaxis\":\"x\",\"y\":[15186.9375,16601.275,15507.895,14949.7625],\"yaxis\":\"y\",\"type\":\"scatter\"}],                        {\"template\":{\"data\":{\"histogram2dcontour\":[{\"type\":\"histogram2dcontour\",\"colorbar\":{\"outlinewidth\":0,\"ticks\":\"\"},\"colorscale\":[[0.0,\"#0d0887\"],[0.1111111111111111,\"#46039f\"],[0.2222222222222222,\"#7201a8\"],[0.3333333333333333,\"#9c179e\"],[0.4444444444444444,\"#bd3786\"],[0.5555555555555556,\"#d8576b\"],[0.6666666666666666,\"#ed7953\"],[0.7777777777777778,\"#fb9f3a\"],[0.8888888888888888,\"#fdca26\"],[1.0,\"#f0f921\"]]}],\"choropleth\":[{\"type\":\"choropleth\",\"colorbar\":{\"outlinewidth\":0,\"ticks\":\"\"}}],\"histogram2d\":[{\"type\":\"histogram2d\",\"colorbar\":{\"outlinewidth\":0,\"ticks\":\"\"},\"colorscale\":[[0.0,\"#0d0887\"],[0.1111111111111111,\"#46039f\"],[0.2222222222222222,\"#7201a8\"],[0.3333333333333333,\"#9c179e\"],[0.4444444444444444,\"#bd3786\"],[0.5555555555555556,\"#d8576b\"],[0.6666666666666666,\"#ed7953\"],[0.7777777777777778,\"#fb9f3a\"],[0.8888888888888888,\"#fdca26\"],[1.0,\"#f0f921\"]]}],\"heatmap\":[{\"type\":\"heatmap\",\"colorbar\":{\"outlinewidth\":0,\"ticks\":\"\"},\"colorscale\":[[0.0,\"#0d0887\"],[0.1111111111111111,\"#46039f\"],[0.2222222222222222,\"#7201a8\"],[0.3333333333333333,\"#9c179e\"],[0.4444444444444444,\"#bd3786\"],[0.5555555555555556,\"#d8576b\"],[0.6666666666666666,\"#ed7953\"],[0.7777777777777778,\"#fb9f3a\"],[0.8888888888888888,\"#fdca26\"],[1.0,\"#f0f921\"]]}],\"heatmapgl\":[{\"type\":\"heatmapgl\",\"colorbar\":{\"outlinewidth\":0,\"ticks\":\"\"},\"colorscale\":[[0.0,\"#0d0887\"],[0.1111111111111111,\"#46039f\"],[0.2222222222222222,\"#7201a8\"],[0.3333333333333333,\"#9c179e\"],[0.4444444444444444,\"#bd3786\"],[0.5555555555555556,\"#d8576b\"],[0.6666666666666666,\"#ed7953\"],[0.7777777777777778,\"#fb9f3a\"],[0.8888888888888888,\"#fdca26\"],[1.0,\"#f0f921\"]]}],\"contourcarpet\":[{\"type\":\"contourcarpet\",\"colorbar\":{\"outlinewidth\":0,\"ticks\":\"\"}}],\"contour\":[{\"type\":\"contour\",\"colorbar\":{\"outlinewidth\":0,\"ticks\":\"\"},\"colorscale\":[[0.0,\"#0d0887\"],[0.1111111111111111,\"#46039f\"],[0.2222222222222222,\"#7201a8\"],[0.3333333333333333,\"#9c179e\"],[0.4444444444444444,\"#bd3786\"],[0.5555555555555556,\"#d8576b\"],[0.6666666666666666,\"#ed7953\"],[0.7777777777777778,\"#fb9f3a\"],[0.8888888888888888,\"#fdca26\"],[1.0,\"#f0f921\"]]}],\"surface\":[{\"type\":\"surface\",\"colorbar\":{\"outlinewidth\":0,\"ticks\":\"\"},\"colorscale\":[[0.0,\"#0d0887\"],[0.1111111111111111,\"#46039f\"],[0.2222222222222222,\"#7201a8\"],[0.3333333333333333,\"#9c179e\"],[0.4444444444444444,\"#bd3786\"],[0.5555555555555556,\"#d8576b\"],[0.6666666666666666,\"#ed7953\"],[0.7777777777777778,\"#fb9f3a\"],[0.8888888888888888,\"#fdca26\"],[1.0,\"#f0f921\"]]}],\"mesh3d\":[{\"type\":\"mesh3d\",\"colorbar\":{\"outlinewidth\":0,\"ticks\":\"\"}}],\"scatter\":[{\"fillpattern\":{\"fillmode\":\"overlay\",\"size\":10,\"solidity\":0.2},\"type\":\"scatter\"}],\"parcoords\":[{\"type\":\"parcoords\",\"line\":{\"colorbar\":{\"outlinewidth\":0,\"ticks\":\"\"}}}],\"scatterpolargl\":[{\"type\":\"scatterpolargl\",\"marker\":{\"colorbar\":{\"outlinewidth\":0,\"ticks\":\"\"}}}],\"bar\":[{\"error_x\":{\"color\":\"#2a3f5f\"},\"error_y\":{\"color\":\"#2a3f5f\"},\"marker\":{\"line\":{\"color\":\"#E5ECF6\",\"width\":0.5},\"pattern\":{\"fillmode\":\"overlay\",\"size\":10,\"solidity\":0.2}},\"type\":\"bar\"}],\"scattergeo\":[{\"type\":\"scattergeo\",\"marker\":{\"colorbar\":{\"outlinewidth\":0,\"ticks\":\"\"}}}],\"scatterpolar\":[{\"type\":\"scatterpolar\",\"marker\":{\"colorbar\":{\"outlinewidth\":0,\"ticks\":\"\"}}}],\"histogram\":[{\"marker\":{\"pattern\":{\"fillmode\":\"overlay\",\"size\":10,\"solidity\":0.2}},\"type\":\"histogram\"}],\"scattergl\":[{\"type\":\"scattergl\",\"marker\":{\"colorbar\":{\"outlinewidth\":0,\"ticks\":\"\"}}}],\"scatter3d\":[{\"type\":\"scatter3d\",\"line\":{\"colorbar\":{\"outlinewidth\":0,\"ticks\":\"\"}},\"marker\":{\"colorbar\":{\"outlinewidth\":0,\"ticks\":\"\"}}}],\"scattermapbox\":[{\"type\":\"scattermapbox\",\"marker\":{\"colorbar\":{\"outlinewidth\":0,\"ticks\":\"\"}}}],\"scatterternary\":[{\"type\":\"scatterternary\",\"marker\":{\"colorbar\":{\"outlinewidth\":0,\"ticks\":\"\"}}}],\"scattercarpet\":[{\"type\":\"scattercarpet\",\"marker\":{\"colorbar\":{\"outlinewidth\":0,\"ticks\":\"\"}}}],\"carpet\":[{\"aaxis\":{\"endlinecolor\":\"#2a3f5f\",\"gridcolor\":\"white\",\"linecolor\":\"white\",\"minorgridcolor\":\"white\",\"startlinecolor\":\"#2a3f5f\"},\"baxis\":{\"endlinecolor\":\"#2a3f5f\",\"gridcolor\":\"white\",\"linecolor\":\"white\",\"minorgridcolor\":\"white\",\"startlinecolor\":\"#2a3f5f\"},\"type\":\"carpet\"}],\"table\":[{\"cells\":{\"fill\":{\"color\":\"#EBF0F8\"},\"line\":{\"color\":\"white\"}},\"header\":{\"fill\":{\"color\":\"#C8D4E3\"},\"line\":{\"color\":\"white\"}},\"type\":\"table\"}],\"barpolar\":[{\"marker\":{\"line\":{\"color\":\"#E5ECF6\",\"width\":0.5},\"pattern\":{\"fillmode\":\"overlay\",\"size\":10,\"solidity\":0.2}},\"type\":\"barpolar\"}],\"pie\":[{\"automargin\":true,\"type\":\"pie\"}]},\"layout\":{\"autotypenumbers\":\"strict\",\"colorway\":[\"#636efa\",\"#EF553B\",\"#00cc96\",\"#ab63fa\",\"#FFA15A\",\"#19d3f3\",\"#FF6692\",\"#B6E880\",\"#FF97FF\",\"#FECB52\"],\"font\":{\"color\":\"#2a3f5f\"},\"hovermode\":\"closest\",\"hoverlabel\":{\"align\":\"left\"},\"paper_bgcolor\":\"white\",\"plot_bgcolor\":\"#E5ECF6\",\"polar\":{\"bgcolor\":\"#E5ECF6\",\"angularaxis\":{\"gridcolor\":\"white\",\"linecolor\":\"white\",\"ticks\":\"\"},\"radialaxis\":{\"gridcolor\":\"white\",\"linecolor\":\"white\",\"ticks\":\"\"}},\"ternary\":{\"bgcolor\":\"#E5ECF6\",\"aaxis\":{\"gridcolor\":\"white\",\"linecolor\":\"white\",\"ticks\":\"\"},\"baxis\":{\"gridcolor\":\"white\",\"linecolor\":\"white\",\"ticks\":\"\"},\"caxis\":{\"gridcolor\":\"white\",\"linecolor\":\"white\",\"ticks\":\"\"}},\"coloraxis\":{\"colorbar\":{\"outlinewidth\":0,\"ticks\":\"\"}},\"colorscale\":{\"sequential\":[[0.0,\"#0d0887\"],[0.1111111111111111,\"#46039f\"],[0.2222222222222222,\"#7201a8\"],[0.3333333333333333,\"#9c179e\"],[0.4444444444444444,\"#bd3786\"],[0.5555555555555556,\"#d8576b\"],[0.6666666666666666,\"#ed7953\"],[0.7777777777777778,\"#fb9f3a\"],[0.8888888888888888,\"#fdca26\"],[1.0,\"#f0f921\"]],\"sequentialminus\":[[0.0,\"#0d0887\"],[0.1111111111111111,\"#46039f\"],[0.2222222222222222,\"#7201a8\"],[0.3333333333333333,\"#9c179e\"],[0.4444444444444444,\"#bd3786\"],[0.5555555555555556,\"#d8576b\"],[0.6666666666666666,\"#ed7953\"],[0.7777777777777778,\"#fb9f3a\"],[0.8888888888888888,\"#fdca26\"],[1.0,\"#f0f921\"]],\"diverging\":[[0,\"#8e0152\"],[0.1,\"#c51b7d\"],[0.2,\"#de77ae\"],[0.3,\"#f1b6da\"],[0.4,\"#fde0ef\"],[0.5,\"#f7f7f7\"],[0.6,\"#e6f5d0\"],[0.7,\"#b8e186\"],[0.8,\"#7fbc41\"],[0.9,\"#4d9221\"],[1,\"#276419\"]]},\"xaxis\":{\"gridcolor\":\"white\",\"linecolor\":\"white\",\"ticks\":\"\",\"title\":{\"standoff\":15},\"zerolinecolor\":\"white\",\"automargin\":true,\"zerolinewidth\":2},\"yaxis\":{\"gridcolor\":\"white\",\"linecolor\":\"white\",\"ticks\":\"\",\"title\":{\"standoff\":15},\"zerolinecolor\":\"white\",\"automargin\":true,\"zerolinewidth\":2},\"scene\":{\"xaxis\":{\"backgroundcolor\":\"#E5ECF6\",\"gridcolor\":\"white\",\"linecolor\":\"white\",\"showbackground\":true,\"ticks\":\"\",\"zerolinecolor\":\"white\",\"gridwidth\":2},\"yaxis\":{\"backgroundcolor\":\"#E5ECF6\",\"gridcolor\":\"white\",\"linecolor\":\"white\",\"showbackground\":true,\"ticks\":\"\",\"zerolinecolor\":\"white\",\"gridwidth\":2},\"zaxis\":{\"backgroundcolor\":\"#E5ECF6\",\"gridcolor\":\"white\",\"linecolor\":\"white\",\"showbackground\":true,\"ticks\":\"\",\"zerolinecolor\":\"white\",\"gridwidth\":2}},\"shapedefaults\":{\"line\":{\"color\":\"#2a3f5f\"}},\"annotationdefaults\":{\"arrowcolor\":\"#2a3f5f\",\"arrowhead\":0,\"arrowwidth\":1},\"geo\":{\"bgcolor\":\"white\",\"landcolor\":\"#E5ECF6\",\"subunitcolor\":\"white\",\"showland\":true,\"showlakes\":true,\"lakecolor\":\"white\"},\"title\":{\"x\":0.05},\"mapbox\":{\"style\":\"light\"}}},\"xaxis\":{\"anchor\":\"y\",\"domain\":[0.0,1.0],\"title\":{\"text\":\"Month\"}},\"yaxis\":{\"anchor\":\"x\",\"domain\":[0.0,1.0],\"title\":{\"text\":\"Sales (\\u20ac)\"},\"range\":[0,90000],\"ticksuffix\":\" \"},\"legend\":{\"tracegroupgap\":0},\"margin\":{\"t\":30,\"l\":20,\"r\":20,\"b\":20},\"showlegend\":false},                        {\"responsive\": true}                    ).then(function(){\n",
       "                            \n",
       "var gd = document.getElementById('79a95602-319b-4720-b8ab-aa1edb31902a');\n",
       "var x = new MutationObserver(function (mutations, observer) {{\n",
       "        var display = window.getComputedStyle(gd).display;\n",
       "        if (!display || display === 'none') {{\n",
       "            console.log([gd, 'removed!']);\n",
       "            Plotly.purge(gd);\n",
       "            observer.disconnect();\n",
       "        }}\n",
       "}});\n",
       "\n",
       "// Listen for the removal of the full notebook cells\n",
       "var notebookContainer = gd.closest('#notebook-container');\n",
       "if (notebookContainer) {{\n",
       "    x.observe(notebookContainer, {childList: true});\n",
       "}}\n",
       "\n",
       "// Listen for the clearing of the current output cell\n",
       "var outputEl = gd.closest('.output');\n",
       "if (outputEl) {{\n",
       "    x.observe(outputEl, {childList: true});\n",
       "}}\n",
       "\n",
       "                        })                };                });            </script>        </div>"
      ]
     },
     "metadata": {},
     "output_type": "display_data"
    }
   ],
   "source": [
    "# Use our new function to plot the monthly sales data, highlighting outliers\n",
    "fig = plot_historical_sales(\n",
    "    df, outliers=[\"2020-03-01\", \"2020-04-01\", \"2020-05-01\", \"2020-06-01\"]\n",
    ")\n",
    "fig"
   ]
  },
  {
   "cell_type": "markdown",
   "metadata": {},
   "source": [
    "We can see that our turnover is characterised by \n",
    "- a pattern of **yearly seasonality**, with sales peaking between March and May, with a smaller peak in October and November\n",
    "- a **long-term trend**, with sales approximately doubling across the period\n",
    "- and a series of four **outliers** months from March to June of 2020, marked by unusually low turnover. "
   ]
  },
  {
   "cell_type": "markdown",
   "metadata": {},
   "source": [
    "## Develop our forecast with Prophet\n",
    "Let's use what we have learned to develop a statistical model that captures the patterns and trends in our data, enabling it to accurately forecast future sales. We will use, Prophet, a package developed by Facebook for forecasting time-series, by combining relatively intuitive components."
   ]
  },
  {
   "cell_type": "code",
   "execution_count": 5,
   "metadata": {},
   "outputs": [],
   "source": [
    "from prophet import Prophet"
   ]
  },
  {
   "cell_type": "markdown",
   "metadata": {},
   "source": [
    "We create a function that takes our time-series of historical sales and a set of assumptions about the time-series and provides us with a trained statistical model."
   ]
  },
  {
   "cell_type": "code",
   "execution_count": 6,
   "metadata": {},
   "outputs": [],
   "source": [
    "def fit_sales_model(\n",
    "    df,\n",
    "    linear_trend: Optional[bool] = True,\n",
    "    show_outliers: Optional[bool] = True,\n",
    "    yearly_seasonality: Optional[bool] = True,\n",
    "    weekly_seasonality: Optional[bool] = False,\n",
    "    daily_seasonality: Optional[bool] = False,\n",
    "    seasonality_mode: Optional[str] = \"multiplicative\",\n",
    "    **kwargs\n",
    "):\n",
    "    \"\"\"\n",
    "    Fits a Prophet model to our sales timeseries\n",
    "\n",
    "    Parameters\n",
    "    ----------\n",
    "    df: Dataframe containing two columns: Month and Sales\n",
    "    linear_trend: Controls whether the model includes a linear trend\n",
    "    show_outliers: Controls whether outliers are excluded from model\n",
    "    yearly_seasonality: Fit yearly seasonality.\n",
    "        Can be 'auto', True, False, or a number of Fourier terms to generate.\n",
    "    weekly_seasonality: Fit weekly seasonality.\n",
    "        Can be 'auto', True, False, or a number of Fourier terms to generate.\n",
    "    daily_seasonality: Fit daily seasonality.\n",
    "        Can be 'auto', True, False, or a number of Fourier terms to generate.\n",
    "    seasonality_mode: 'additive' or 'multiplicative' (default).\n",
    "\n",
    "    Returns\n",
    "    ------\n",
    "    Fitted Prophet model.\n",
    "    \"\"\"\n",
    "\n",
    "    # Create dictionary to hold the model parameters\n",
    "    model_params = {\n",
    "        \"yearly_seasonality\": yearly_seasonality,\n",
    "        \"weekly_seasonality\": weekly_seasonality,\n",
    "        \"daily_seasonality\": daily_seasonality,\n",
    "        \"seasonality_mode\": seasonality_mode,\n",
    "    }\n",
    "    if linear_trend:\n",
    "        model_params[\"growth\"] = \"linear\"\n",
    "    else:\n",
    "        model_params[\"growth\"] = \"flat\"\n",
    "\n",
    "\n",
    "    # Prepare data used for model fitting\n",
    "    df = df.copy(deep=True)\n",
    "\n",
    "    # Rename the columns to what Prophet expects\n",
    "    df = df.rename(columns={\"Month\": \"ds\", \"Sales\": \"y\"})\n",
    "\n",
    "    # Remove outliers, if specified\n",
    "    if show_outliers:\n",
    "        outliers = (\"2020-03-01\", \"2020-04-01\", \"2020-05-01\", \"2020-06-01\")\n",
    "        df.loc[df[\"ds\"].isin(outliers), \"y\"] = np.nan        \n",
    "\n",
    "    # Check that we have only one row per date\n",
    "    assert df[\"ds\"].is_unique\n",
    "\n",
    "    # Define the model structure\n",
    "    m = Prophet(**model_params)\n",
    "\n",
    "    # Fit model\n",
    "    m.fit(df, **kwargs)\n",
    "\n",
    "    return m"
   ]
  },
  {
   "cell_type": "code",
   "execution_count": 22,
   "metadata": {},
   "outputs": [
    {
     "name": "stderr",
     "output_type": "stream",
     "text": [
      "23:13:31 - cmdstanpy - INFO - Chain [1] start processing\n",
      "23:13:31 - cmdstanpy - INFO - Chain [1] done processing\n"
     ]
    }
   ],
   "source": [
    "m = fit_sales_model(df)"
   ]
  },
  {
   "cell_type": "markdown",
   "metadata": {},
   "source": [
    "Now let's use our fitted statistical model to generate a forecast. "
   ]
  },
  {
   "cell_type": "code",
   "execution_count": 8,
   "metadata": {},
   "outputs": [],
   "source": [
    "from typing import Optional, Union\n",
    "from datetime import datetime\n",
    "from pandas.tseries.offsets import DateOffset"
   ]
  },
  {
   "cell_type": "code",
   "execution_count": 9,
   "metadata": {},
   "outputs": [],
   "source": [
    "def generate_predictions(\n",
    "    m: Prophet,\n",
    "    start: Optional[Union[str, datetime]] = None,\n",
    "    end: Optional[Union[str, datetime]] = None,\n",
    "    periods: Optional[int] = None, \n",
    "    freq: Optional[Union[str, DateOffset]] = None\n",
    ") -> pd.DataFrame:\n",
    "    \"\"\"\n",
    "    Generate a forecast using fitted Prophet model\n",
    "\n",
    "    Parameters\n",
    "    ----------\n",
    "    m: a fitted Prophet model\n",
    "    start : str or datetime-like, optional\n",
    "        Left bound for generating forecast dates.\n",
    "    end : str or datetime-like, optional\n",
    "        Right bound for generating forecast dates.\n",
    "    periods : int, optional\n",
    "        Number of forecast periods to generate.\n",
    "    freq : str or DateOffset, default 'D'\n",
    "        Frequency strings can have multiples, e.g. '5H'. See\n",
    "        :ref:`here <timeseries.offset_aliases>` for a list of\n",
    "        frequency aliases.\n",
    "\n",
    "    Returns\n",
    "    -------\n",
    "    Dataframe containing forecast\n",
    "\n",
    "    Notes\n",
    "    -----\n",
    "    Of the four parameters ``start``, ``end``, ``periods``, and ``freq``,\n",
    "    exactly three must be specified. If ``freq`` is omitted, the resulting\n",
    "    ``DatetimeIndex`` will have ``periods`` linearly spaced elements between\n",
    "    ``start`` and ``end`` (closed on both sides).\n",
    "\n",
    "    To learn more about the frequency strings, please see `this link\n",
    "    <https://pandas.pydata.org/pandas-docs/stable/user_guide/timeseries.html#offset-aliases>`__.\n",
    "    \"\"\"\n",
    "    # Prepare dataframe of dates we want to forecast\n",
    "    forecast_dates = pd.date_range(start=start, end=end, periods=periods, freq=freq)\n",
    "    future = pd.DataFrame(forecast_dates, columns=[\"ds\"])\n",
    "\n",
    "    # Check that there are no duplicate dates\n",
    "    assert future[\"ds\"].is_unique\n",
    "\n",
    "    # Generate predictions\n",
    "    forecast = m.predict(future)\n",
    "\n",
    "    return forecast"
   ]
  },
  {
   "cell_type": "code",
   "execution_count": 10,
   "metadata": {},
   "outputs": [
    {
     "data": {
      "text/html": [
       "<div>\n",
       "<style scoped>\n",
       "    .dataframe tbody tr th:only-of-type {\n",
       "        vertical-align: middle;\n",
       "    }\n",
       "\n",
       "    .dataframe tbody tr th {\n",
       "        vertical-align: top;\n",
       "    }\n",
       "\n",
       "    .dataframe thead th {\n",
       "        text-align: right;\n",
       "    }\n",
       "</style>\n",
       "<table border=\"1\" class=\"dataframe\">\n",
       "  <thead>\n",
       "    <tr style=\"text-align: right;\">\n",
       "      <th></th>\n",
       "      <th>ds</th>\n",
       "      <th>yhat_lower</th>\n",
       "      <th>yhat</th>\n",
       "      <th>yhat_upper</th>\n",
       "    </tr>\n",
       "  </thead>\n",
       "  <tbody>\n",
       "    <tr>\n",
       "      <th>0</th>\n",
       "      <td>2023-01-01</td>\n",
       "      <td>37378.097155</td>\n",
       "      <td>42093.830489</td>\n",
       "      <td>46867.464563</td>\n",
       "    </tr>\n",
       "    <tr>\n",
       "      <th>1</th>\n",
       "      <td>2023-02-01</td>\n",
       "      <td>39267.932425</td>\n",
       "      <td>44275.761861</td>\n",
       "      <td>49434.959285</td>\n",
       "    </tr>\n",
       "    <tr>\n",
       "      <th>2</th>\n",
       "      <td>2023-03-01</td>\n",
       "      <td>60827.780975</td>\n",
       "      <td>65937.779121</td>\n",
       "      <td>70645.212855</td>\n",
       "    </tr>\n",
       "    <tr>\n",
       "      <th>3</th>\n",
       "      <td>2023-04-01</td>\n",
       "      <td>68832.443847</td>\n",
       "      <td>73796.828699</td>\n",
       "      <td>78591.154043</td>\n",
       "    </tr>\n",
       "    <tr>\n",
       "      <th>4</th>\n",
       "      <td>2023-05-01</td>\n",
       "      <td>76406.127853</td>\n",
       "      <td>81463.359935</td>\n",
       "      <td>86554.342068</td>\n",
       "    </tr>\n",
       "  </tbody>\n",
       "</table>\n",
       "</div>"
      ],
      "text/plain": [
       "          ds    yhat_lower          yhat    yhat_upper\n",
       "0 2023-01-01  37378.097155  42093.830489  46867.464563\n",
       "1 2023-02-01  39267.932425  44275.761861  49434.959285\n",
       "2 2023-03-01  60827.780975  65937.779121  70645.212855\n",
       "3 2023-04-01  68832.443847  73796.828699  78591.154043\n",
       "4 2023-05-01  76406.127853  81463.359935  86554.342068"
      ]
     },
     "execution_count": 10,
     "metadata": {},
     "output_type": "execute_result"
    }
   ],
   "source": [
    "forecast = generate_predictions(m, start=\"2023-01-01\", periods=5, freq=\"MS\")\n",
    "forecast.loc[:, [\"ds\", \"yhat_lower\", \"yhat\", \"yhat_upper\"]]"
   ]
  },
  {
   "cell_type": "markdown",
   "metadata": {},
   "source": [
    "Prophet has provided us with a dataframe containing our forecast. But it's a little hard to absorb. Let's create a new function that uses Plotly to visualise it for us."
   ]
  },
  {
   "cell_type": "code",
   "execution_count": 11,
   "metadata": {},
   "outputs": [],
   "source": [
    "def plot_sales_forecast(forecast: pd.DataFrame):\n",
    "    \"\"\"\n",
    "    Generate a forecast using fitted Prophet model\n",
    "\n",
    "    Parameters\n",
    "    ----------\n",
    "    m: a fitted Prophet model\n",
    "    start : str or datetime-like, optional\n",
    "        Left bound for generating forecast dates.\n",
    "    end : str or datetime-like, optional\n",
    "        Right bound for generating forecast dates.\n",
    "    periods : int, optional\n",
    "        Number of forecast periods to generate.\n",
    "    freq : str or DateOffset, default 'D'\n",
    "        Frequency strings can have multiples, e.g. '5H'. See\n",
    "        :ref:`here <timeseries.offset_aliases>` for a list of\n",
    "        frequency aliases.\n",
    "\n",
    "    Returns\n",
    "    -------\n",
    "    Dataframe containing forecast\n",
    "\n",
    "    Notes\n",
    "    -----\n",
    "    Of the four parameters ``start``, ``end``, ``periods``, and ``freq``,\n",
    "    exactly three must be specified. If ``freq`` is omitted, the resulting\n",
    "    ``DatetimeIndex`` will have ``periods`` linearly spaced elements between\n",
    "    ``start`` and ``end`` (closed on both sides).\n",
    "\n",
    "    To learn more about the frequency strings, please see `this link\n",
    "    <https://pandas.pydata.org/pandas-docs/stable/user_guide/timeseries.html#offset-aliases>`__.\n",
    "    \"\"\"\n",
    "    # Formatting string for tooltip\n",
    "    tooltip = \"Month = %{x|%b %Y}<br>Sales = €%{y:.2s}\"\n",
    "\n",
    "    # Create a line chart with the average prediction,\n",
    "    # adding the upper and lower bounds of the forecast's uncertainty\n",
    "    fig = go.Figure(\n",
    "        [\n",
    "            go.Scatter(\n",
    "                name=\"Upper Bound\",\n",
    "                x=forecast[\"ds\"],\n",
    "                y=forecast[\"yhat_upper\"],\n",
    "                mode=\"lines\",\n",
    "                marker=dict(color=\"#444\"),\n",
    "                line=dict(width=0),\n",
    "                showlegend=False,\n",
    "                hovertemplate=tooltip,\n",
    "            ),\n",
    "            go.Scatter(\n",
    "                name=\"Lower Bound\",\n",
    "                x=forecast[\"ds\"],\n",
    "                y=forecast[\"yhat_lower\"],\n",
    "                marker=dict(color=\"#444\"),\n",
    "                line=dict(width=0),\n",
    "                mode=\"lines\",\n",
    "                fillcolor=\"rgba(68, 68, 68, 0.3)\",\n",
    "                fill=\"tonexty\",\n",
    "                showlegend=False,\n",
    "                hovertemplate=tooltip,\n",
    "            ),\n",
    "            go.Scatter(\n",
    "                name=\"Prediction\",\n",
    "                x=forecast[\"ds\"],\n",
    "                y=forecast[\"yhat\"],\n",
    "                mode=\"lines+markers\",\n",
    "                line=dict(color=\"#636efa\"),\n",
    "                showlegend=False,\n",
    "                hovertemplate=tooltip,\n",
    "            ),\n",
    "        ]\n",
    "    )\n",
    "\n",
    "    # Modify the y-axis limits and title\n",
    "    (\n",
    "        fig.update_layout(\n",
    "            yaxis_range=[0, 90_000], \n",
    "            yaxis_title=\"Sales (€)\",\n",
    "            margin=dict(l=20, r=20, t=30, b=20),\n",
    "        ).update_yaxes(showticklabels=True, showgrid=True)\n",
    "    )\n",
    "\n",
    "    # Insert some space between the yaxis tick labels and axis\n",
    "    fig = fig.update_yaxes(ticksuffix=\" \")\n",
    "\n",
    "    # Force the x-axis to use monthly tick marks when we only have a small number of timepoints\n",
    "    if len(forecast.index) <= 6:\n",
    "        fig = fig.update_xaxes(\n",
    "            tickformat=\"%b\\n%Y\", tickmode=\"array\", tickvals=forecast[\"ds\"].values\n",
    "        )\n",
    "\n",
    "    return fig"
   ]
  },
  {
   "cell_type": "code",
   "execution_count": 12,
   "metadata": {},
   "outputs": [
    {
     "data": {
      "application/vnd.plotly.v1+json": {
       "config": {
        "plotlyServerURL": "https://plotly.com"
       },
       "data": [
        {
         "hovertemplate": "Month = %{x|%b %Y}<br>Sales = €%{y:.2s}",
         "line": {
          "width": 0
         },
         "marker": {
          "color": "#444"
         },
         "mode": "lines",
         "name": "Upper Bound",
         "showlegend": false,
         "type": "scatter",
         "x": [
          "2023-01-01T00:00:00",
          "2023-02-01T00:00:00",
          "2023-03-01T00:00:00",
          "2023-04-01T00:00:00",
          "2023-05-01T00:00:00"
         ],
         "y": [
          46867.46456252726,
          49434.95928511581,
          70645.2128552489,
          78591.15404311744,
          86554.3420684303
         ]
        },
        {
         "fill": "tonexty",
         "fillcolor": "rgba(68, 68, 68, 0.3)",
         "hovertemplate": "Month = %{x|%b %Y}<br>Sales = €%{y:.2s}",
         "line": {
          "width": 0
         },
         "marker": {
          "color": "#444"
         },
         "mode": "lines",
         "name": "Lower Bound",
         "showlegend": false,
         "type": "scatter",
         "x": [
          "2023-01-01T00:00:00",
          "2023-02-01T00:00:00",
          "2023-03-01T00:00:00",
          "2023-04-01T00:00:00",
          "2023-05-01T00:00:00"
         ],
         "y": [
          37378.09715454696,
          39267.93242525073,
          60827.78097470374,
          68832.44384727393,
          76406.12785285413
         ]
        },
        {
         "hovertemplate": "Month = %{x|%b %Y}<br>Sales = €%{y:.2s}",
         "line": {
          "color": "#636efa"
         },
         "mode": "lines+markers",
         "name": "Prediction",
         "showlegend": false,
         "type": "scatter",
         "x": [
          "2023-01-01T00:00:00",
          "2023-02-01T00:00:00",
          "2023-03-01T00:00:00",
          "2023-04-01T00:00:00",
          "2023-05-01T00:00:00"
         ],
         "y": [
          42093.83048921977,
          44275.76186147606,
          65937.7791205806,
          73796.82869893093,
          81463.35993521214
         ]
        }
       ],
       "layout": {
        "margin": {
         "b": 20,
         "l": 20,
         "r": 20,
         "t": 30
        },
        "template": {
         "data": {
          "bar": [
           {
            "error_x": {
             "color": "#2a3f5f"
            },
            "error_y": {
             "color": "#2a3f5f"
            },
            "marker": {
             "line": {
              "color": "#E5ECF6",
              "width": 0.5
             },
             "pattern": {
              "fillmode": "overlay",
              "size": 10,
              "solidity": 0.2
             }
            },
            "type": "bar"
           }
          ],
          "barpolar": [
           {
            "marker": {
             "line": {
              "color": "#E5ECF6",
              "width": 0.5
             },
             "pattern": {
              "fillmode": "overlay",
              "size": 10,
              "solidity": 0.2
             }
            },
            "type": "barpolar"
           }
          ],
          "carpet": [
           {
            "aaxis": {
             "endlinecolor": "#2a3f5f",
             "gridcolor": "white",
             "linecolor": "white",
             "minorgridcolor": "white",
             "startlinecolor": "#2a3f5f"
            },
            "baxis": {
             "endlinecolor": "#2a3f5f",
             "gridcolor": "white",
             "linecolor": "white",
             "minorgridcolor": "white",
             "startlinecolor": "#2a3f5f"
            },
            "type": "carpet"
           }
          ],
          "choropleth": [
           {
            "colorbar": {
             "outlinewidth": 0,
             "ticks": ""
            },
            "type": "choropleth"
           }
          ],
          "contour": [
           {
            "colorbar": {
             "outlinewidth": 0,
             "ticks": ""
            },
            "colorscale": [
             [
              0,
              "#0d0887"
             ],
             [
              0.1111111111111111,
              "#46039f"
             ],
             [
              0.2222222222222222,
              "#7201a8"
             ],
             [
              0.3333333333333333,
              "#9c179e"
             ],
             [
              0.4444444444444444,
              "#bd3786"
             ],
             [
              0.5555555555555556,
              "#d8576b"
             ],
             [
              0.6666666666666666,
              "#ed7953"
             ],
             [
              0.7777777777777778,
              "#fb9f3a"
             ],
             [
              0.8888888888888888,
              "#fdca26"
             ],
             [
              1,
              "#f0f921"
             ]
            ],
            "type": "contour"
           }
          ],
          "contourcarpet": [
           {
            "colorbar": {
             "outlinewidth": 0,
             "ticks": ""
            },
            "type": "contourcarpet"
           }
          ],
          "heatmap": [
           {
            "colorbar": {
             "outlinewidth": 0,
             "ticks": ""
            },
            "colorscale": [
             [
              0,
              "#0d0887"
             ],
             [
              0.1111111111111111,
              "#46039f"
             ],
             [
              0.2222222222222222,
              "#7201a8"
             ],
             [
              0.3333333333333333,
              "#9c179e"
             ],
             [
              0.4444444444444444,
              "#bd3786"
             ],
             [
              0.5555555555555556,
              "#d8576b"
             ],
             [
              0.6666666666666666,
              "#ed7953"
             ],
             [
              0.7777777777777778,
              "#fb9f3a"
             ],
             [
              0.8888888888888888,
              "#fdca26"
             ],
             [
              1,
              "#f0f921"
             ]
            ],
            "type": "heatmap"
           }
          ],
          "heatmapgl": [
           {
            "colorbar": {
             "outlinewidth": 0,
             "ticks": ""
            },
            "colorscale": [
             [
              0,
              "#0d0887"
             ],
             [
              0.1111111111111111,
              "#46039f"
             ],
             [
              0.2222222222222222,
              "#7201a8"
             ],
             [
              0.3333333333333333,
              "#9c179e"
             ],
             [
              0.4444444444444444,
              "#bd3786"
             ],
             [
              0.5555555555555556,
              "#d8576b"
             ],
             [
              0.6666666666666666,
              "#ed7953"
             ],
             [
              0.7777777777777778,
              "#fb9f3a"
             ],
             [
              0.8888888888888888,
              "#fdca26"
             ],
             [
              1,
              "#f0f921"
             ]
            ],
            "type": "heatmapgl"
           }
          ],
          "histogram": [
           {
            "marker": {
             "pattern": {
              "fillmode": "overlay",
              "size": 10,
              "solidity": 0.2
             }
            },
            "type": "histogram"
           }
          ],
          "histogram2d": [
           {
            "colorbar": {
             "outlinewidth": 0,
             "ticks": ""
            },
            "colorscale": [
             [
              0,
              "#0d0887"
             ],
             [
              0.1111111111111111,
              "#46039f"
             ],
             [
              0.2222222222222222,
              "#7201a8"
             ],
             [
              0.3333333333333333,
              "#9c179e"
             ],
             [
              0.4444444444444444,
              "#bd3786"
             ],
             [
              0.5555555555555556,
              "#d8576b"
             ],
             [
              0.6666666666666666,
              "#ed7953"
             ],
             [
              0.7777777777777778,
              "#fb9f3a"
             ],
             [
              0.8888888888888888,
              "#fdca26"
             ],
             [
              1,
              "#f0f921"
             ]
            ],
            "type": "histogram2d"
           }
          ],
          "histogram2dcontour": [
           {
            "colorbar": {
             "outlinewidth": 0,
             "ticks": ""
            },
            "colorscale": [
             [
              0,
              "#0d0887"
             ],
             [
              0.1111111111111111,
              "#46039f"
             ],
             [
              0.2222222222222222,
              "#7201a8"
             ],
             [
              0.3333333333333333,
              "#9c179e"
             ],
             [
              0.4444444444444444,
              "#bd3786"
             ],
             [
              0.5555555555555556,
              "#d8576b"
             ],
             [
              0.6666666666666666,
              "#ed7953"
             ],
             [
              0.7777777777777778,
              "#fb9f3a"
             ],
             [
              0.8888888888888888,
              "#fdca26"
             ],
             [
              1,
              "#f0f921"
             ]
            ],
            "type": "histogram2dcontour"
           }
          ],
          "mesh3d": [
           {
            "colorbar": {
             "outlinewidth": 0,
             "ticks": ""
            },
            "type": "mesh3d"
           }
          ],
          "parcoords": [
           {
            "line": {
             "colorbar": {
              "outlinewidth": 0,
              "ticks": ""
             }
            },
            "type": "parcoords"
           }
          ],
          "pie": [
           {
            "automargin": true,
            "type": "pie"
           }
          ],
          "scatter": [
           {
            "fillpattern": {
             "fillmode": "overlay",
             "size": 10,
             "solidity": 0.2
            },
            "type": "scatter"
           }
          ],
          "scatter3d": [
           {
            "line": {
             "colorbar": {
              "outlinewidth": 0,
              "ticks": ""
             }
            },
            "marker": {
             "colorbar": {
              "outlinewidth": 0,
              "ticks": ""
             }
            },
            "type": "scatter3d"
           }
          ],
          "scattercarpet": [
           {
            "marker": {
             "colorbar": {
              "outlinewidth": 0,
              "ticks": ""
             }
            },
            "type": "scattercarpet"
           }
          ],
          "scattergeo": [
           {
            "marker": {
             "colorbar": {
              "outlinewidth": 0,
              "ticks": ""
             }
            },
            "type": "scattergeo"
           }
          ],
          "scattergl": [
           {
            "marker": {
             "colorbar": {
              "outlinewidth": 0,
              "ticks": ""
             }
            },
            "type": "scattergl"
           }
          ],
          "scattermapbox": [
           {
            "marker": {
             "colorbar": {
              "outlinewidth": 0,
              "ticks": ""
             }
            },
            "type": "scattermapbox"
           }
          ],
          "scatterpolar": [
           {
            "marker": {
             "colorbar": {
              "outlinewidth": 0,
              "ticks": ""
             }
            },
            "type": "scatterpolar"
           }
          ],
          "scatterpolargl": [
           {
            "marker": {
             "colorbar": {
              "outlinewidth": 0,
              "ticks": ""
             }
            },
            "type": "scatterpolargl"
           }
          ],
          "scatterternary": [
           {
            "marker": {
             "colorbar": {
              "outlinewidth": 0,
              "ticks": ""
             }
            },
            "type": "scatterternary"
           }
          ],
          "surface": [
           {
            "colorbar": {
             "outlinewidth": 0,
             "ticks": ""
            },
            "colorscale": [
             [
              0,
              "#0d0887"
             ],
             [
              0.1111111111111111,
              "#46039f"
             ],
             [
              0.2222222222222222,
              "#7201a8"
             ],
             [
              0.3333333333333333,
              "#9c179e"
             ],
             [
              0.4444444444444444,
              "#bd3786"
             ],
             [
              0.5555555555555556,
              "#d8576b"
             ],
             [
              0.6666666666666666,
              "#ed7953"
             ],
             [
              0.7777777777777778,
              "#fb9f3a"
             ],
             [
              0.8888888888888888,
              "#fdca26"
             ],
             [
              1,
              "#f0f921"
             ]
            ],
            "type": "surface"
           }
          ],
          "table": [
           {
            "cells": {
             "fill": {
              "color": "#EBF0F8"
             },
             "line": {
              "color": "white"
             }
            },
            "header": {
             "fill": {
              "color": "#C8D4E3"
             },
             "line": {
              "color": "white"
             }
            },
            "type": "table"
           }
          ]
         },
         "layout": {
          "annotationdefaults": {
           "arrowcolor": "#2a3f5f",
           "arrowhead": 0,
           "arrowwidth": 1
          },
          "autotypenumbers": "strict",
          "coloraxis": {
           "colorbar": {
            "outlinewidth": 0,
            "ticks": ""
           }
          },
          "colorscale": {
           "diverging": [
            [
             0,
             "#8e0152"
            ],
            [
             0.1,
             "#c51b7d"
            ],
            [
             0.2,
             "#de77ae"
            ],
            [
             0.3,
             "#f1b6da"
            ],
            [
             0.4,
             "#fde0ef"
            ],
            [
             0.5,
             "#f7f7f7"
            ],
            [
             0.6,
             "#e6f5d0"
            ],
            [
             0.7,
             "#b8e186"
            ],
            [
             0.8,
             "#7fbc41"
            ],
            [
             0.9,
             "#4d9221"
            ],
            [
             1,
             "#276419"
            ]
           ],
           "sequential": [
            [
             0,
             "#0d0887"
            ],
            [
             0.1111111111111111,
             "#46039f"
            ],
            [
             0.2222222222222222,
             "#7201a8"
            ],
            [
             0.3333333333333333,
             "#9c179e"
            ],
            [
             0.4444444444444444,
             "#bd3786"
            ],
            [
             0.5555555555555556,
             "#d8576b"
            ],
            [
             0.6666666666666666,
             "#ed7953"
            ],
            [
             0.7777777777777778,
             "#fb9f3a"
            ],
            [
             0.8888888888888888,
             "#fdca26"
            ],
            [
             1,
             "#f0f921"
            ]
           ],
           "sequentialminus": [
            [
             0,
             "#0d0887"
            ],
            [
             0.1111111111111111,
             "#46039f"
            ],
            [
             0.2222222222222222,
             "#7201a8"
            ],
            [
             0.3333333333333333,
             "#9c179e"
            ],
            [
             0.4444444444444444,
             "#bd3786"
            ],
            [
             0.5555555555555556,
             "#d8576b"
            ],
            [
             0.6666666666666666,
             "#ed7953"
            ],
            [
             0.7777777777777778,
             "#fb9f3a"
            ],
            [
             0.8888888888888888,
             "#fdca26"
            ],
            [
             1,
             "#f0f921"
            ]
           ]
          },
          "colorway": [
           "#636efa",
           "#EF553B",
           "#00cc96",
           "#ab63fa",
           "#FFA15A",
           "#19d3f3",
           "#FF6692",
           "#B6E880",
           "#FF97FF",
           "#FECB52"
          ],
          "font": {
           "color": "#2a3f5f"
          },
          "geo": {
           "bgcolor": "white",
           "lakecolor": "white",
           "landcolor": "#E5ECF6",
           "showlakes": true,
           "showland": true,
           "subunitcolor": "white"
          },
          "hoverlabel": {
           "align": "left"
          },
          "hovermode": "closest",
          "mapbox": {
           "style": "light"
          },
          "paper_bgcolor": "white",
          "plot_bgcolor": "#E5ECF6",
          "polar": {
           "angularaxis": {
            "gridcolor": "white",
            "linecolor": "white",
            "ticks": ""
           },
           "bgcolor": "#E5ECF6",
           "radialaxis": {
            "gridcolor": "white",
            "linecolor": "white",
            "ticks": ""
           }
          },
          "scene": {
           "xaxis": {
            "backgroundcolor": "#E5ECF6",
            "gridcolor": "white",
            "gridwidth": 2,
            "linecolor": "white",
            "showbackground": true,
            "ticks": "",
            "zerolinecolor": "white"
           },
           "yaxis": {
            "backgroundcolor": "#E5ECF6",
            "gridcolor": "white",
            "gridwidth": 2,
            "linecolor": "white",
            "showbackground": true,
            "ticks": "",
            "zerolinecolor": "white"
           },
           "zaxis": {
            "backgroundcolor": "#E5ECF6",
            "gridcolor": "white",
            "gridwidth": 2,
            "linecolor": "white",
            "showbackground": true,
            "ticks": "",
            "zerolinecolor": "white"
           }
          },
          "shapedefaults": {
           "line": {
            "color": "#2a3f5f"
           }
          },
          "ternary": {
           "aaxis": {
            "gridcolor": "white",
            "linecolor": "white",
            "ticks": ""
           },
           "baxis": {
            "gridcolor": "white",
            "linecolor": "white",
            "ticks": ""
           },
           "bgcolor": "#E5ECF6",
           "caxis": {
            "gridcolor": "white",
            "linecolor": "white",
            "ticks": ""
           }
          },
          "title": {
           "x": 0.05
          },
          "xaxis": {
           "automargin": true,
           "gridcolor": "white",
           "linecolor": "white",
           "ticks": "",
           "title": {
            "standoff": 15
           },
           "zerolinecolor": "white",
           "zerolinewidth": 2
          },
          "yaxis": {
           "automargin": true,
           "gridcolor": "white",
           "linecolor": "white",
           "ticks": "",
           "title": {
            "standoff": 15
           },
           "zerolinecolor": "white",
           "zerolinewidth": 2
          }
         }
        },
        "xaxis": {
         "tickformat": "%b\n%Y",
         "tickmode": "array",
         "tickvals": [
          "2023-01-01T00:00:00.000000000",
          "2023-02-01T00:00:00.000000000",
          "2023-03-01T00:00:00.000000000",
          "2023-04-01T00:00:00.000000000",
          "2023-05-01T00:00:00.000000000"
         ]
        },
        "yaxis": {
         "range": [
          0,
          90000
         ],
         "showgrid": true,
         "showticklabels": true,
         "ticksuffix": " ",
         "title": {
          "text": "Sales (€)"
         }
        }
       }
      },
      "text/html": [
       "<div>                            <div id=\"5f098dfc-4db8-440b-bc5c-9bd0dfe1d1af\" class=\"plotly-graph-div\" style=\"height:525px; width:100%;\"></div>            <script type=\"text/javascript\">                require([\"plotly\"], function(Plotly) {                    window.PLOTLYENV=window.PLOTLYENV || {};                                    if (document.getElementById(\"5f098dfc-4db8-440b-bc5c-9bd0dfe1d1af\")) {                    Plotly.newPlot(                        \"5f098dfc-4db8-440b-bc5c-9bd0dfe1d1af\",                        [{\"hovertemplate\":\"Month = %{x|%b %Y}<br>Sales = \\u20ac%{y:.2s}\",\"line\":{\"width\":0},\"marker\":{\"color\":\"#444\"},\"mode\":\"lines\",\"name\":\"Upper Bound\",\"showlegend\":false,\"x\":[\"2023-01-01T00:00:00\",\"2023-02-01T00:00:00\",\"2023-03-01T00:00:00\",\"2023-04-01T00:00:00\",\"2023-05-01T00:00:00\"],\"y\":[46867.46456252726,49434.95928511581,70645.2128552489,78591.15404311744,86554.3420684303],\"type\":\"scatter\"},{\"fill\":\"tonexty\",\"fillcolor\":\"rgba(68, 68, 68, 0.3)\",\"hovertemplate\":\"Month = %{x|%b %Y}<br>Sales = \\u20ac%{y:.2s}\",\"line\":{\"width\":0},\"marker\":{\"color\":\"#444\"},\"mode\":\"lines\",\"name\":\"Lower Bound\",\"showlegend\":false,\"x\":[\"2023-01-01T00:00:00\",\"2023-02-01T00:00:00\",\"2023-03-01T00:00:00\",\"2023-04-01T00:00:00\",\"2023-05-01T00:00:00\"],\"y\":[37378.09715454696,39267.93242525073,60827.78097470374,68832.44384727393,76406.12785285413],\"type\":\"scatter\"},{\"hovertemplate\":\"Month = %{x|%b %Y}<br>Sales = \\u20ac%{y:.2s}\",\"line\":{\"color\":\"#636efa\"},\"mode\":\"lines+markers\",\"name\":\"Prediction\",\"showlegend\":false,\"x\":[\"2023-01-01T00:00:00\",\"2023-02-01T00:00:00\",\"2023-03-01T00:00:00\",\"2023-04-01T00:00:00\",\"2023-05-01T00:00:00\"],\"y\":[42093.83048921977,44275.76186147606,65937.7791205806,73796.82869893093,81463.35993521214],\"type\":\"scatter\"}],                        {\"template\":{\"data\":{\"histogram2dcontour\":[{\"type\":\"histogram2dcontour\",\"colorbar\":{\"outlinewidth\":0,\"ticks\":\"\"},\"colorscale\":[[0.0,\"#0d0887\"],[0.1111111111111111,\"#46039f\"],[0.2222222222222222,\"#7201a8\"],[0.3333333333333333,\"#9c179e\"],[0.4444444444444444,\"#bd3786\"],[0.5555555555555556,\"#d8576b\"],[0.6666666666666666,\"#ed7953\"],[0.7777777777777778,\"#fb9f3a\"],[0.8888888888888888,\"#fdca26\"],[1.0,\"#f0f921\"]]}],\"choropleth\":[{\"type\":\"choropleth\",\"colorbar\":{\"outlinewidth\":0,\"ticks\":\"\"}}],\"histogram2d\":[{\"type\":\"histogram2d\",\"colorbar\":{\"outlinewidth\":0,\"ticks\":\"\"},\"colorscale\":[[0.0,\"#0d0887\"],[0.1111111111111111,\"#46039f\"],[0.2222222222222222,\"#7201a8\"],[0.3333333333333333,\"#9c179e\"],[0.4444444444444444,\"#bd3786\"],[0.5555555555555556,\"#d8576b\"],[0.6666666666666666,\"#ed7953\"],[0.7777777777777778,\"#fb9f3a\"],[0.8888888888888888,\"#fdca26\"],[1.0,\"#f0f921\"]]}],\"heatmap\":[{\"type\":\"heatmap\",\"colorbar\":{\"outlinewidth\":0,\"ticks\":\"\"},\"colorscale\":[[0.0,\"#0d0887\"],[0.1111111111111111,\"#46039f\"],[0.2222222222222222,\"#7201a8\"],[0.3333333333333333,\"#9c179e\"],[0.4444444444444444,\"#bd3786\"],[0.5555555555555556,\"#d8576b\"],[0.6666666666666666,\"#ed7953\"],[0.7777777777777778,\"#fb9f3a\"],[0.8888888888888888,\"#fdca26\"],[1.0,\"#f0f921\"]]}],\"heatmapgl\":[{\"type\":\"heatmapgl\",\"colorbar\":{\"outlinewidth\":0,\"ticks\":\"\"},\"colorscale\":[[0.0,\"#0d0887\"],[0.1111111111111111,\"#46039f\"],[0.2222222222222222,\"#7201a8\"],[0.3333333333333333,\"#9c179e\"],[0.4444444444444444,\"#bd3786\"],[0.5555555555555556,\"#d8576b\"],[0.6666666666666666,\"#ed7953\"],[0.7777777777777778,\"#fb9f3a\"],[0.8888888888888888,\"#fdca26\"],[1.0,\"#f0f921\"]]}],\"contourcarpet\":[{\"type\":\"contourcarpet\",\"colorbar\":{\"outlinewidth\":0,\"ticks\":\"\"}}],\"contour\":[{\"type\":\"contour\",\"colorbar\":{\"outlinewidth\":0,\"ticks\":\"\"},\"colorscale\":[[0.0,\"#0d0887\"],[0.1111111111111111,\"#46039f\"],[0.2222222222222222,\"#7201a8\"],[0.3333333333333333,\"#9c179e\"],[0.4444444444444444,\"#bd3786\"],[0.5555555555555556,\"#d8576b\"],[0.6666666666666666,\"#ed7953\"],[0.7777777777777778,\"#fb9f3a\"],[0.8888888888888888,\"#fdca26\"],[1.0,\"#f0f921\"]]}],\"surface\":[{\"type\":\"surface\",\"colorbar\":{\"outlinewidth\":0,\"ticks\":\"\"},\"colorscale\":[[0.0,\"#0d0887\"],[0.1111111111111111,\"#46039f\"],[0.2222222222222222,\"#7201a8\"],[0.3333333333333333,\"#9c179e\"],[0.4444444444444444,\"#bd3786\"],[0.5555555555555556,\"#d8576b\"],[0.6666666666666666,\"#ed7953\"],[0.7777777777777778,\"#fb9f3a\"],[0.8888888888888888,\"#fdca26\"],[1.0,\"#f0f921\"]]}],\"mesh3d\":[{\"type\":\"mesh3d\",\"colorbar\":{\"outlinewidth\":0,\"ticks\":\"\"}}],\"scatter\":[{\"fillpattern\":{\"fillmode\":\"overlay\",\"size\":10,\"solidity\":0.2},\"type\":\"scatter\"}],\"parcoords\":[{\"type\":\"parcoords\",\"line\":{\"colorbar\":{\"outlinewidth\":0,\"ticks\":\"\"}}}],\"scatterpolargl\":[{\"type\":\"scatterpolargl\",\"marker\":{\"colorbar\":{\"outlinewidth\":0,\"ticks\":\"\"}}}],\"bar\":[{\"error_x\":{\"color\":\"#2a3f5f\"},\"error_y\":{\"color\":\"#2a3f5f\"},\"marker\":{\"line\":{\"color\":\"#E5ECF6\",\"width\":0.5},\"pattern\":{\"fillmode\":\"overlay\",\"size\":10,\"solidity\":0.2}},\"type\":\"bar\"}],\"scattergeo\":[{\"type\":\"scattergeo\",\"marker\":{\"colorbar\":{\"outlinewidth\":0,\"ticks\":\"\"}}}],\"scatterpolar\":[{\"type\":\"scatterpolar\",\"marker\":{\"colorbar\":{\"outlinewidth\":0,\"ticks\":\"\"}}}],\"histogram\":[{\"marker\":{\"pattern\":{\"fillmode\":\"overlay\",\"size\":10,\"solidity\":0.2}},\"type\":\"histogram\"}],\"scattergl\":[{\"type\":\"scattergl\",\"marker\":{\"colorbar\":{\"outlinewidth\":0,\"ticks\":\"\"}}}],\"scatter3d\":[{\"type\":\"scatter3d\",\"line\":{\"colorbar\":{\"outlinewidth\":0,\"ticks\":\"\"}},\"marker\":{\"colorbar\":{\"outlinewidth\":0,\"ticks\":\"\"}}}],\"scattermapbox\":[{\"type\":\"scattermapbox\",\"marker\":{\"colorbar\":{\"outlinewidth\":0,\"ticks\":\"\"}}}],\"scatterternary\":[{\"type\":\"scatterternary\",\"marker\":{\"colorbar\":{\"outlinewidth\":0,\"ticks\":\"\"}}}],\"scattercarpet\":[{\"type\":\"scattercarpet\",\"marker\":{\"colorbar\":{\"outlinewidth\":0,\"ticks\":\"\"}}}],\"carpet\":[{\"aaxis\":{\"endlinecolor\":\"#2a3f5f\",\"gridcolor\":\"white\",\"linecolor\":\"white\",\"minorgridcolor\":\"white\",\"startlinecolor\":\"#2a3f5f\"},\"baxis\":{\"endlinecolor\":\"#2a3f5f\",\"gridcolor\":\"white\",\"linecolor\":\"white\",\"minorgridcolor\":\"white\",\"startlinecolor\":\"#2a3f5f\"},\"type\":\"carpet\"}],\"table\":[{\"cells\":{\"fill\":{\"color\":\"#EBF0F8\"},\"line\":{\"color\":\"white\"}},\"header\":{\"fill\":{\"color\":\"#C8D4E3\"},\"line\":{\"color\":\"white\"}},\"type\":\"table\"}],\"barpolar\":[{\"marker\":{\"line\":{\"color\":\"#E5ECF6\",\"width\":0.5},\"pattern\":{\"fillmode\":\"overlay\",\"size\":10,\"solidity\":0.2}},\"type\":\"barpolar\"}],\"pie\":[{\"automargin\":true,\"type\":\"pie\"}]},\"layout\":{\"autotypenumbers\":\"strict\",\"colorway\":[\"#636efa\",\"#EF553B\",\"#00cc96\",\"#ab63fa\",\"#FFA15A\",\"#19d3f3\",\"#FF6692\",\"#B6E880\",\"#FF97FF\",\"#FECB52\"],\"font\":{\"color\":\"#2a3f5f\"},\"hovermode\":\"closest\",\"hoverlabel\":{\"align\":\"left\"},\"paper_bgcolor\":\"white\",\"plot_bgcolor\":\"#E5ECF6\",\"polar\":{\"bgcolor\":\"#E5ECF6\",\"angularaxis\":{\"gridcolor\":\"white\",\"linecolor\":\"white\",\"ticks\":\"\"},\"radialaxis\":{\"gridcolor\":\"white\",\"linecolor\":\"white\",\"ticks\":\"\"}},\"ternary\":{\"bgcolor\":\"#E5ECF6\",\"aaxis\":{\"gridcolor\":\"white\",\"linecolor\":\"white\",\"ticks\":\"\"},\"baxis\":{\"gridcolor\":\"white\",\"linecolor\":\"white\",\"ticks\":\"\"},\"caxis\":{\"gridcolor\":\"white\",\"linecolor\":\"white\",\"ticks\":\"\"}},\"coloraxis\":{\"colorbar\":{\"outlinewidth\":0,\"ticks\":\"\"}},\"colorscale\":{\"sequential\":[[0.0,\"#0d0887\"],[0.1111111111111111,\"#46039f\"],[0.2222222222222222,\"#7201a8\"],[0.3333333333333333,\"#9c179e\"],[0.4444444444444444,\"#bd3786\"],[0.5555555555555556,\"#d8576b\"],[0.6666666666666666,\"#ed7953\"],[0.7777777777777778,\"#fb9f3a\"],[0.8888888888888888,\"#fdca26\"],[1.0,\"#f0f921\"]],\"sequentialminus\":[[0.0,\"#0d0887\"],[0.1111111111111111,\"#46039f\"],[0.2222222222222222,\"#7201a8\"],[0.3333333333333333,\"#9c179e\"],[0.4444444444444444,\"#bd3786\"],[0.5555555555555556,\"#d8576b\"],[0.6666666666666666,\"#ed7953\"],[0.7777777777777778,\"#fb9f3a\"],[0.8888888888888888,\"#fdca26\"],[1.0,\"#f0f921\"]],\"diverging\":[[0,\"#8e0152\"],[0.1,\"#c51b7d\"],[0.2,\"#de77ae\"],[0.3,\"#f1b6da\"],[0.4,\"#fde0ef\"],[0.5,\"#f7f7f7\"],[0.6,\"#e6f5d0\"],[0.7,\"#b8e186\"],[0.8,\"#7fbc41\"],[0.9,\"#4d9221\"],[1,\"#276419\"]]},\"xaxis\":{\"gridcolor\":\"white\",\"linecolor\":\"white\",\"ticks\":\"\",\"title\":{\"standoff\":15},\"zerolinecolor\":\"white\",\"automargin\":true,\"zerolinewidth\":2},\"yaxis\":{\"gridcolor\":\"white\",\"linecolor\":\"white\",\"ticks\":\"\",\"title\":{\"standoff\":15},\"zerolinecolor\":\"white\",\"automargin\":true,\"zerolinewidth\":2},\"scene\":{\"xaxis\":{\"backgroundcolor\":\"#E5ECF6\",\"gridcolor\":\"white\",\"linecolor\":\"white\",\"showbackground\":true,\"ticks\":\"\",\"zerolinecolor\":\"white\",\"gridwidth\":2},\"yaxis\":{\"backgroundcolor\":\"#E5ECF6\",\"gridcolor\":\"white\",\"linecolor\":\"white\",\"showbackground\":true,\"ticks\":\"\",\"zerolinecolor\":\"white\",\"gridwidth\":2},\"zaxis\":{\"backgroundcolor\":\"#E5ECF6\",\"gridcolor\":\"white\",\"linecolor\":\"white\",\"showbackground\":true,\"ticks\":\"\",\"zerolinecolor\":\"white\",\"gridwidth\":2}},\"shapedefaults\":{\"line\":{\"color\":\"#2a3f5f\"}},\"annotationdefaults\":{\"arrowcolor\":\"#2a3f5f\",\"arrowhead\":0,\"arrowwidth\":1},\"geo\":{\"bgcolor\":\"white\",\"landcolor\":\"#E5ECF6\",\"subunitcolor\":\"white\",\"showland\":true,\"showlakes\":true,\"lakecolor\":\"white\"},\"title\":{\"x\":0.05},\"mapbox\":{\"style\":\"light\"}}},\"yaxis\":{\"range\":[0,90000],\"title\":{\"text\":\"Sales (\\u20ac)\"},\"showticklabels\":true,\"showgrid\":true,\"ticksuffix\":\" \"},\"margin\":{\"l\":20,\"r\":20,\"t\":30,\"b\":20},\"xaxis\":{\"tickformat\":\"%b\\n%Y\",\"tickmode\":\"array\",\"tickvals\":[\"2023-01-01T00:00:00.000000000\",\"2023-02-01T00:00:00.000000000\",\"2023-03-01T00:00:00.000000000\",\"2023-04-01T00:00:00.000000000\",\"2023-05-01T00:00:00.000000000\"]}},                        {\"responsive\": true}                    ).then(function(){\n",
       "                            \n",
       "var gd = document.getElementById('5f098dfc-4db8-440b-bc5c-9bd0dfe1d1af');\n",
       "var x = new MutationObserver(function (mutations, observer) {{\n",
       "        var display = window.getComputedStyle(gd).display;\n",
       "        if (!display || display === 'none') {{\n",
       "            console.log([gd, 'removed!']);\n",
       "            Plotly.purge(gd);\n",
       "            observer.disconnect();\n",
       "        }}\n",
       "}});\n",
       "\n",
       "// Listen for the removal of the full notebook cells\n",
       "var notebookContainer = gd.closest('#notebook-container');\n",
       "if (notebookContainer) {{\n",
       "    x.observe(notebookContainer, {childList: true});\n",
       "}}\n",
       "\n",
       "// Listen for the clearing of the current output cell\n",
       "var outputEl = gd.closest('.output');\n",
       "if (outputEl) {{\n",
       "    x.observe(outputEl, {childList: true});\n",
       "}}\n",
       "\n",
       "                        })                };                });            </script>        </div>"
      ]
     },
     "metadata": {},
     "output_type": "display_data"
    }
   ],
   "source": [
    "fig = plot_sales_forecast(forecast)\n",
    "fig"
   ]
  },
  {
   "cell_type": "markdown",
   "metadata": {},
   "source": [
    "## Gather our findings in a Panel dashboard\n",
    "Now that we have loaded our data, developed our statistical model, and used it to generate a forecast, let's put it all together in a dashboard so that it can be shared with stakeholders.\n",
    "\n",
    "Panel is a great dashboarding solution for anyone who likes to works in Jupyter Notebooks and is already familiar with visualisation packages like Plotly, Matplotlib, Seaborn, Bokeh. It gives you the freedom to build an interactive, responsive dashboard using Jupyter Notebook or a Python IDE. The dashboard can then be shared in multiple ways: by sharing the notebook, by hosting the dashboard on a server, or by exporting the dashboard as a HTML file allowing it to be shared with anyone with a browser."
   ]
  },
  {
   "cell_type": "code",
   "execution_count": 20,
   "metadata": {},
   "outputs": [
    {
     "data": {
      "application/javascript": [
       "(function(root) {\n",
       "  function now() {\n",
       "    return new Date();\n",
       "  }\n",
       "\n",
       "  var force = true;\n",
       "\n",
       "  if (typeof root._bokeh_onload_callbacks === \"undefined\" || force === true) {\n",
       "    root._bokeh_onload_callbacks = [];\n",
       "    root._bokeh_is_loading = undefined;\n",
       "  }\n",
       "\n",
       "  if (typeof (root._bokeh_timeout) === \"undefined\" || force === true) {\n",
       "    root._bokeh_timeout = Date.now() + 5000;\n",
       "    root._bokeh_failed_load = false;\n",
       "  }\n",
       "\n",
       "  function run_callbacks() {\n",
       "    try {\n",
       "      root._bokeh_onload_callbacks.forEach(function(callback) {\n",
       "        if (callback != null)\n",
       "          callback();\n",
       "      });\n",
       "    } finally {\n",
       "      delete root._bokeh_onload_callbacks\n",
       "    }\n",
       "    console.debug(\"Bokeh: all callbacks have finished\");\n",
       "  }\n",
       "\n",
       "  function load_libs(css_urls, js_urls, js_modules, callback) {\n",
       "    if (css_urls == null) css_urls = [];\n",
       "    if (js_urls == null) js_urls = [];\n",
       "    if (js_modules == null) js_modules = [];\n",
       "\n",
       "    root._bokeh_onload_callbacks.push(callback);\n",
       "    if (root._bokeh_is_loading > 0) {\n",
       "      console.debug(\"Bokeh: BokehJS is being loaded, scheduling callback at\", now());\n",
       "      return null;\n",
       "    }\n",
       "    if (js_urls.length === 0 && js_modules.length === 0) {\n",
       "      run_callbacks();\n",
       "      return null;\n",
       "    }\n",
       "    console.debug(\"Bokeh: BokehJS not loaded, scheduling load and callback at\", now());\n",
       "\n",
       "    function on_load() {\n",
       "      root._bokeh_is_loading--;\n",
       "      if (root._bokeh_is_loading === 0) {\n",
       "        console.debug(\"Bokeh: all BokehJS libraries/stylesheets loaded\");\n",
       "        run_callbacks()\n",
       "      }\n",
       "    }\n",
       "\n",
       "    function on_error() {\n",
       "      console.error(\"failed to load \" + url);\n",
       "    }\n",
       "\n",
       "    for (var i = 0; i < css_urls.length; i++) {\n",
       "      var url = css_urls[i];\n",
       "      const element = document.createElement(\"link\");\n",
       "      element.onload = on_load;\n",
       "      element.onerror = on_error;\n",
       "      element.rel = \"stylesheet\";\n",
       "      element.type = \"text/css\";\n",
       "      element.href = url;\n",
       "      console.debug(\"Bokeh: injecting link tag for BokehJS stylesheet: \", url);\n",
       "      document.body.appendChild(element);\n",
       "    }\n",
       "\n",
       "    var skip = [];\n",
       "    if (window.requirejs) {\n",
       "      window.requirejs.config({'packages': {}, 'paths': {'plotly': 'https://cdn.plot.ly/plotly-2.10.1.min', 'gridstack': 'https://cdn.jsdelivr.net/npm/gridstack@4.2.5/dist/gridstack-h5', 'notyf': 'https://cdn.jsdelivr.net/npm/notyf@3/notyf.min'}, 'shim': {'gridstack': {'exports': 'GridStack'}}});\n",
       "      require([\"plotly\"], function(Plotly) {\n",
       "\twindow.Plotly = Plotly\n",
       "\ton_load()\n",
       "      })\n",
       "      require([\"gridstack\"], function(GridStack) {\n",
       "\twindow.GridStack = GridStack\n",
       "\ton_load()\n",
       "      })\n",
       "      require([\"notyf\"], function() {\n",
       "\ton_load()\n",
       "      })\n",
       "      root._bokeh_is_loading = css_urls.length + 3;\n",
       "    } else {\n",
       "      root._bokeh_is_loading = css_urls.length + js_urls.length + js_modules.length;\n",
       "    }    if (((window['Plotly'] !== undefined) && (!(window['Plotly'] instanceof HTMLElement))) || window.requirejs) {\n",
       "      var urls = ['https://cdn.holoviz.org/panel/0.14.2/dist/bundled/plotlyplot/plotly-2.10.1.min.js'];\n",
       "      for (var i = 0; i < urls.length; i++) {\n",
       "        skip.push(urls[i])\n",
       "      }\n",
       "    }    if (((window['GridStack'] !== undefined) && (!(window['GridStack'] instanceof HTMLElement))) || window.requirejs) {\n",
       "      var urls = ['https://cdn.holoviz.org/panel/0.14.2/dist/bundled/gridstack/gridstack@4.2.5/dist/gridstack-h5.js'];\n",
       "      for (var i = 0; i < urls.length; i++) {\n",
       "        skip.push(urls[i])\n",
       "      }\n",
       "    }    if (((window['Notyf'] !== undefined) && (!(window['Notyf'] instanceof HTMLElement))) || window.requirejs) {\n",
       "      var urls = ['https://cdn.holoviz.org/panel/0.14.2/dist/bundled/notificationarea/notyf@3/notyf.min.js'];\n",
       "      for (var i = 0; i < urls.length; i++) {\n",
       "        skip.push(urls[i])\n",
       "      }\n",
       "    }    for (var i = 0; i < js_urls.length; i++) {\n",
       "      var url = js_urls[i];\n",
       "      if (skip.indexOf(url) >= 0) {\n",
       "\tif (!window.requirejs) {\n",
       "\t  on_load();\n",
       "\t}\n",
       "\tcontinue;\n",
       "      }\n",
       "      var element = document.createElement('script');\n",
       "      element.onload = on_load;\n",
       "      element.onerror = on_error;\n",
       "      element.async = false;\n",
       "      element.src = url;\n",
       "      console.debug(\"Bokeh: injecting script tag for BokehJS library: \", url);\n",
       "      document.head.appendChild(element);\n",
       "    }\n",
       "    for (var i = 0; i < js_modules.length; i++) {\n",
       "      var url = js_modules[i];\n",
       "      if (skip.indexOf(url) >= 0) {\n",
       "\tif (!window.requirejs) {\n",
       "\t  on_load();\n",
       "\t}\n",
       "\tcontinue;\n",
       "      }\n",
       "      var element = document.createElement('script');\n",
       "      element.onload = on_load;\n",
       "      element.onerror = on_error;\n",
       "      element.async = false;\n",
       "      element.src = url;\n",
       "      element.type = \"module\";\n",
       "      console.debug(\"Bokeh: injecting script tag for BokehJS library: \", url);\n",
       "      document.head.appendChild(element);\n",
       "    }\n",
       "    if (!js_urls.length && !js_modules.length) {\n",
       "      on_load()\n",
       "    }\n",
       "  };\n",
       "\n",
       "  function inject_raw_css(css) {\n",
       "    const element = document.createElement(\"style\");\n",
       "    element.appendChild(document.createTextNode(css));\n",
       "    document.body.appendChild(element);\n",
       "  }\n",
       "\n",
       "  var js_urls = [\"https://cdn.holoviz.org/panel/0.14.2/dist/bundled/jquery/jquery.slim.min.js\", \"https://cdn.holoviz.org/panel/0.14.2/dist/bundled/plotlyplot/plotly-2.10.1.min.js\", \"https://cdn.bokeh.org/bokeh/release/bokeh-2.4.3.min.js\", \"https://cdn.bokeh.org/bokeh/release/bokeh-gl-2.4.3.min.js\", \"https://cdn.bokeh.org/bokeh/release/bokeh-widgets-2.4.3.min.js\", \"https://cdn.bokeh.org/bokeh/release/bokeh-tables-2.4.3.min.js\", \"https://cdn.bokeh.org/bokeh/release/bokeh-mathjax-2.4.3.min.js\", \"https://unpkg.com/@holoviz/panel@0.14.2/dist/panel.min.js\"];\n",
       "  var js_modules = [];\n",
       "  var css_urls = [\"https://cdn.holoviz.org/panel/0.14.2/dist/css/debugger.css\", \"https://cdn.holoviz.org/panel/0.14.2/dist/css/alerts.css\", \"https://cdn.holoviz.org/panel/0.14.2/dist/css/card.css\", \"https://cdn.holoviz.org/panel/0.14.2/dist/css/widgets.css\", \"https://cdn.holoviz.org/panel/0.14.2/dist/css/markdown.css\", \"https://cdn.holoviz.org/panel/0.14.2/dist/css/json.css\", \"https://cdn.holoviz.org/panel/0.14.2/dist/css/loading.css\", \"https://cdn.holoviz.org/panel/0.14.2/dist/css/dataframe.css\"];\n",
       "  var inline_js = [    function(Bokeh) {\n",
       "      inject_raw_css(\"\\n    .bk.pn-loading.arc:before {\\n      background-image: url(\\\"data:image/svg+xml;base64,PHN2ZyB4bWxucz0iaHR0cDovL3d3dy53My5vcmcvMjAwMC9zdmciIHN0eWxlPSJtYXJnaW46IGF1dG87IGJhY2tncm91bmQ6IG5vbmU7IGRpc3BsYXk6IGJsb2NrOyBzaGFwZS1yZW5kZXJpbmc6IGF1dG87IiB2aWV3Qm94PSIwIDAgMTAwIDEwMCIgcHJlc2VydmVBc3BlY3RSYXRpbz0ieE1pZFlNaWQiPiAgPGNpcmNsZSBjeD0iNTAiIGN5PSI1MCIgZmlsbD0ibm9uZSIgc3Ryb2tlPSIjYzNjM2MzIiBzdHJva2Utd2lkdGg9IjEwIiByPSIzNSIgc3Ryb2tlLWRhc2hhcnJheT0iMTY0LjkzMzYxNDMxMzQ2NDE1IDU2Ljk3Nzg3MTQzNzgyMTM4Ij4gICAgPGFuaW1hdGVUcmFuc2Zvcm0gYXR0cmlidXRlTmFtZT0idHJhbnNmb3JtIiB0eXBlPSJyb3RhdGUiIHJlcGVhdENvdW50PSJpbmRlZmluaXRlIiBkdXI9IjFzIiB2YWx1ZXM9IjAgNTAgNTA7MzYwIDUwIDUwIiBrZXlUaW1lcz0iMDsxIj48L2FuaW1hdGVUcmFuc2Zvcm0+ICA8L2NpcmNsZT48L3N2Zz4=\\\");\\n      background-size: auto calc(min(50%, 400px));\\n    }\\n    \");\n",
       "    },    function(Bokeh) {\n",
       "      inject_raw_css(\"\\n    .bk.panel-markdown-center {\\n      text-align: center\\n    }\\n\\n    .bk.panel-flexbox-center {\\n      justify-content: space-around;\\n      align-items: stretch;\\n      gap: 500px\\n    }\\n    \");\n",
       "    },    function(Bokeh) {\n",
       "      Bokeh.set_log_level(\"info\");\n",
       "    },\n",
       "function(Bokeh) {} // ensure no trailing comma for IE\n",
       "  ];\n",
       "\n",
       "  function run_inline_js() {\n",
       "    if ((root.Bokeh !== undefined) || (force === true)) {\n",
       "      for (var i = 0; i < inline_js.length; i++) {\n",
       "        inline_js[i].call(root, root.Bokeh);\n",
       "      }} else if (Date.now() < root._bokeh_timeout) {\n",
       "      setTimeout(run_inline_js, 100);\n",
       "    } else if (!root._bokeh_failed_load) {\n",
       "      console.log(\"Bokeh: BokehJS failed to load within specified timeout.\");\n",
       "      root._bokeh_failed_load = true;\n",
       "    }\n",
       "  }\n",
       "\n",
       "  if (root._bokeh_is_loading === 0) {\n",
       "    console.debug(\"Bokeh: BokehJS loaded, going straight to plotting\");\n",
       "    run_inline_js();\n",
       "  } else {\n",
       "    load_libs(css_urls, js_urls, js_modules, function() {\n",
       "      console.debug(\"Bokeh: BokehJS plotting callback run at\", now());\n",
       "      run_inline_js();\n",
       "    });\n",
       "  }\n",
       "}(window));"
      ],
      "application/vnd.holoviews_load.v0+json": "(function(root) {\n  function now() {\n    return new Date();\n  }\n\n  var force = true;\n\n  if (typeof root._bokeh_onload_callbacks === \"undefined\" || force === true) {\n    root._bokeh_onload_callbacks = [];\n    root._bokeh_is_loading = undefined;\n  }\n\n  if (typeof (root._bokeh_timeout) === \"undefined\" || force === true) {\n    root._bokeh_timeout = Date.now() + 5000;\n    root._bokeh_failed_load = false;\n  }\n\n  function run_callbacks() {\n    try {\n      root._bokeh_onload_callbacks.forEach(function(callback) {\n        if (callback != null)\n          callback();\n      });\n    } finally {\n      delete root._bokeh_onload_callbacks\n    }\n    console.debug(\"Bokeh: all callbacks have finished\");\n  }\n\n  function load_libs(css_urls, js_urls, js_modules, callback) {\n    if (css_urls == null) css_urls = [];\n    if (js_urls == null) js_urls = [];\n    if (js_modules == null) js_modules = [];\n\n    root._bokeh_onload_callbacks.push(callback);\n    if (root._bokeh_is_loading > 0) {\n      console.debug(\"Bokeh: BokehJS is being loaded, scheduling callback at\", now());\n      return null;\n    }\n    if (js_urls.length === 0 && js_modules.length === 0) {\n      run_callbacks();\n      return null;\n    }\n    console.debug(\"Bokeh: BokehJS not loaded, scheduling load and callback at\", now());\n\n    function on_load() {\n      root._bokeh_is_loading--;\n      if (root._bokeh_is_loading === 0) {\n        console.debug(\"Bokeh: all BokehJS libraries/stylesheets loaded\");\n        run_callbacks()\n      }\n    }\n\n    function on_error() {\n      console.error(\"failed to load \" + url);\n    }\n\n    for (var i = 0; i < css_urls.length; i++) {\n      var url = css_urls[i];\n      const element = document.createElement(\"link\");\n      element.onload = on_load;\n      element.onerror = on_error;\n      element.rel = \"stylesheet\";\n      element.type = \"text/css\";\n      element.href = url;\n      console.debug(\"Bokeh: injecting link tag for BokehJS stylesheet: \", url);\n      document.body.appendChild(element);\n    }\n\n    var skip = [];\n    if (window.requirejs) {\n      window.requirejs.config({'packages': {}, 'paths': {'plotly': 'https://cdn.plot.ly/plotly-2.10.1.min', 'gridstack': 'https://cdn.jsdelivr.net/npm/gridstack@4.2.5/dist/gridstack-h5', 'notyf': 'https://cdn.jsdelivr.net/npm/notyf@3/notyf.min'}, 'shim': {'gridstack': {'exports': 'GridStack'}}});\n      require([\"plotly\"], function(Plotly) {\n\twindow.Plotly = Plotly\n\ton_load()\n      })\n      require([\"gridstack\"], function(GridStack) {\n\twindow.GridStack = GridStack\n\ton_load()\n      })\n      require([\"notyf\"], function() {\n\ton_load()\n      })\n      root._bokeh_is_loading = css_urls.length + 3;\n    } else {\n      root._bokeh_is_loading = css_urls.length + js_urls.length + js_modules.length;\n    }    if (((window['Plotly'] !== undefined) && (!(window['Plotly'] instanceof HTMLElement))) || window.requirejs) {\n      var urls = ['https://cdn.holoviz.org/panel/0.14.2/dist/bundled/plotlyplot/plotly-2.10.1.min.js'];\n      for (var i = 0; i < urls.length; i++) {\n        skip.push(urls[i])\n      }\n    }    if (((window['GridStack'] !== undefined) && (!(window['GridStack'] instanceof HTMLElement))) || window.requirejs) {\n      var urls = ['https://cdn.holoviz.org/panel/0.14.2/dist/bundled/gridstack/gridstack@4.2.5/dist/gridstack-h5.js'];\n      for (var i = 0; i < urls.length; i++) {\n        skip.push(urls[i])\n      }\n    }    if (((window['Notyf'] !== undefined) && (!(window['Notyf'] instanceof HTMLElement))) || window.requirejs) {\n      var urls = ['https://cdn.holoviz.org/panel/0.14.2/dist/bundled/notificationarea/notyf@3/notyf.min.js'];\n      for (var i = 0; i < urls.length; i++) {\n        skip.push(urls[i])\n      }\n    }    for (var i = 0; i < js_urls.length; i++) {\n      var url = js_urls[i];\n      if (skip.indexOf(url) >= 0) {\n\tif (!window.requirejs) {\n\t  on_load();\n\t}\n\tcontinue;\n      }\n      var element = document.createElement('script');\n      element.onload = on_load;\n      element.onerror = on_error;\n      element.async = false;\n      element.src = url;\n      console.debug(\"Bokeh: injecting script tag for BokehJS library: \", url);\n      document.head.appendChild(element);\n    }\n    for (var i = 0; i < js_modules.length; i++) {\n      var url = js_modules[i];\n      if (skip.indexOf(url) >= 0) {\n\tif (!window.requirejs) {\n\t  on_load();\n\t}\n\tcontinue;\n      }\n      var element = document.createElement('script');\n      element.onload = on_load;\n      element.onerror = on_error;\n      element.async = false;\n      element.src = url;\n      element.type = \"module\";\n      console.debug(\"Bokeh: injecting script tag for BokehJS library: \", url);\n      document.head.appendChild(element);\n    }\n    if (!js_urls.length && !js_modules.length) {\n      on_load()\n    }\n  };\n\n  function inject_raw_css(css) {\n    const element = document.createElement(\"style\");\n    element.appendChild(document.createTextNode(css));\n    document.body.appendChild(element);\n  }\n\n  var js_urls = [\"https://cdn.holoviz.org/panel/0.14.2/dist/bundled/jquery/jquery.slim.min.js\", \"https://cdn.holoviz.org/panel/0.14.2/dist/bundled/plotlyplot/plotly-2.10.1.min.js\", \"https://cdn.bokeh.org/bokeh/release/bokeh-2.4.3.min.js\", \"https://cdn.bokeh.org/bokeh/release/bokeh-gl-2.4.3.min.js\", \"https://cdn.bokeh.org/bokeh/release/bokeh-widgets-2.4.3.min.js\", \"https://cdn.bokeh.org/bokeh/release/bokeh-tables-2.4.3.min.js\", \"https://cdn.bokeh.org/bokeh/release/bokeh-mathjax-2.4.3.min.js\", \"https://unpkg.com/@holoviz/panel@0.14.2/dist/panel.min.js\"];\n  var js_modules = [];\n  var css_urls = [\"https://cdn.holoviz.org/panel/0.14.2/dist/css/debugger.css\", \"https://cdn.holoviz.org/panel/0.14.2/dist/css/alerts.css\", \"https://cdn.holoviz.org/panel/0.14.2/dist/css/card.css\", \"https://cdn.holoviz.org/panel/0.14.2/dist/css/widgets.css\", \"https://cdn.holoviz.org/panel/0.14.2/dist/css/markdown.css\", \"https://cdn.holoviz.org/panel/0.14.2/dist/css/json.css\", \"https://cdn.holoviz.org/panel/0.14.2/dist/css/loading.css\", \"https://cdn.holoviz.org/panel/0.14.2/dist/css/dataframe.css\"];\n  var inline_js = [    function(Bokeh) {\n      inject_raw_css(\"\\n    .bk.pn-loading.arc:before {\\n      background-image: url(\\\"data:image/svg+xml;base64,PHN2ZyB4bWxucz0iaHR0cDovL3d3dy53My5vcmcvMjAwMC9zdmciIHN0eWxlPSJtYXJnaW46IGF1dG87IGJhY2tncm91bmQ6IG5vbmU7IGRpc3BsYXk6IGJsb2NrOyBzaGFwZS1yZW5kZXJpbmc6IGF1dG87IiB2aWV3Qm94PSIwIDAgMTAwIDEwMCIgcHJlc2VydmVBc3BlY3RSYXRpbz0ieE1pZFlNaWQiPiAgPGNpcmNsZSBjeD0iNTAiIGN5PSI1MCIgZmlsbD0ibm9uZSIgc3Ryb2tlPSIjYzNjM2MzIiBzdHJva2Utd2lkdGg9IjEwIiByPSIzNSIgc3Ryb2tlLWRhc2hhcnJheT0iMTY0LjkzMzYxNDMxMzQ2NDE1IDU2Ljk3Nzg3MTQzNzgyMTM4Ij4gICAgPGFuaW1hdGVUcmFuc2Zvcm0gYXR0cmlidXRlTmFtZT0idHJhbnNmb3JtIiB0eXBlPSJyb3RhdGUiIHJlcGVhdENvdW50PSJpbmRlZmluaXRlIiBkdXI9IjFzIiB2YWx1ZXM9IjAgNTAgNTA7MzYwIDUwIDUwIiBrZXlUaW1lcz0iMDsxIj48L2FuaW1hdGVUcmFuc2Zvcm0+ICA8L2NpcmNsZT48L3N2Zz4=\\\");\\n      background-size: auto calc(min(50%, 400px));\\n    }\\n    \");\n    },    function(Bokeh) {\n      inject_raw_css(\"\\n    .bk.panel-markdown-center {\\n      text-align: center\\n    }\\n\\n    .bk.panel-flexbox-center {\\n      justify-content: space-around;\\n      align-items: stretch;\\n      gap: 500px\\n    }\\n    \");\n    },    function(Bokeh) {\n      Bokeh.set_log_level(\"info\");\n    },\nfunction(Bokeh) {} // ensure no trailing comma for IE\n  ];\n\n  function run_inline_js() {\n    if ((root.Bokeh !== undefined) || (force === true)) {\n      for (var i = 0; i < inline_js.length; i++) {\n        inline_js[i].call(root, root.Bokeh);\n      }} else if (Date.now() < root._bokeh_timeout) {\n      setTimeout(run_inline_js, 100);\n    } else if (!root._bokeh_failed_load) {\n      console.log(\"Bokeh: BokehJS failed to load within specified timeout.\");\n      root._bokeh_failed_load = true;\n    }\n  }\n\n  if (root._bokeh_is_loading === 0) {\n    console.debug(\"Bokeh: BokehJS loaded, going straight to plotting\");\n    run_inline_js();\n  } else {\n    load_libs(css_urls, js_urls, js_modules, function() {\n      console.debug(\"Bokeh: BokehJS plotting callback run at\", now());\n      run_inline_js();\n    });\n  }\n}(window));"
     },
     "metadata": {},
     "output_type": "display_data"
    },
    {
     "data": {
      "application/javascript": [
       "\n",
       "if ((window.PyViz === undefined) || (window.PyViz instanceof HTMLElement)) {\n",
       "  window.PyViz = {comms: {}, comm_status:{}, kernels:{}, receivers: {}, plot_index: []}\n",
       "}\n",
       "\n",
       "\n",
       "    function JupyterCommManager() {\n",
       "    }\n",
       "\n",
       "    JupyterCommManager.prototype.register_target = function(plot_id, comm_id, msg_handler) {\n",
       "      if (window.comm_manager || ((window.Jupyter !== undefined) && (Jupyter.notebook.kernel != null))) {\n",
       "        var comm_manager = window.comm_manager || Jupyter.notebook.kernel.comm_manager;\n",
       "        comm_manager.register_target(comm_id, function(comm) {\n",
       "          comm.on_msg(msg_handler);\n",
       "        });\n",
       "      } else if ((plot_id in window.PyViz.kernels) && (window.PyViz.kernels[plot_id])) {\n",
       "        window.PyViz.kernels[plot_id].registerCommTarget(comm_id, function(comm) {\n",
       "          comm.onMsg = msg_handler;\n",
       "        });\n",
       "      } else if (typeof google != 'undefined' && google.colab.kernel != null) {\n",
       "        google.colab.kernel.comms.registerTarget(comm_id, (comm) => {\n",
       "          var messages = comm.messages[Symbol.asyncIterator]();\n",
       "          function processIteratorResult(result) {\n",
       "            var message = result.value;\n",
       "            console.log(message)\n",
       "            var content = {data: message.data, comm_id};\n",
       "            var buffers = []\n",
       "            for (var buffer of message.buffers || []) {\n",
       "              buffers.push(new DataView(buffer))\n",
       "            }\n",
       "            var metadata = message.metadata || {};\n",
       "            var msg = {content, buffers, metadata}\n",
       "            msg_handler(msg);\n",
       "            return messages.next().then(processIteratorResult);\n",
       "          }\n",
       "          return messages.next().then(processIteratorResult);\n",
       "        })\n",
       "      }\n",
       "    }\n",
       "\n",
       "    JupyterCommManager.prototype.get_client_comm = function(plot_id, comm_id, msg_handler) {\n",
       "      if (comm_id in window.PyViz.comms) {\n",
       "        return window.PyViz.comms[comm_id];\n",
       "      } else if (window.comm_manager || ((window.Jupyter !== undefined) && (Jupyter.notebook.kernel != null))) {\n",
       "        var comm_manager = window.comm_manager || Jupyter.notebook.kernel.comm_manager;\n",
       "        var comm = comm_manager.new_comm(comm_id, {}, {}, {}, comm_id);\n",
       "        if (msg_handler) {\n",
       "          comm.on_msg(msg_handler);\n",
       "        }\n",
       "      } else if ((plot_id in window.PyViz.kernels) && (window.PyViz.kernels[plot_id])) {\n",
       "        var comm = window.PyViz.kernels[plot_id].connectToComm(comm_id);\n",
       "        comm.open();\n",
       "        if (msg_handler) {\n",
       "          comm.onMsg = msg_handler;\n",
       "        }\n",
       "      } else if (typeof google != 'undefined' && google.colab.kernel != null) {\n",
       "        var comm_promise = google.colab.kernel.comms.open(comm_id)\n",
       "        comm_promise.then((comm) => {\n",
       "          window.PyViz.comms[comm_id] = comm;\n",
       "          if (msg_handler) {\n",
       "            var messages = comm.messages[Symbol.asyncIterator]();\n",
       "            function processIteratorResult(result) {\n",
       "              var message = result.value;\n",
       "              var content = {data: message.data};\n",
       "              var metadata = message.metadata || {comm_id};\n",
       "              var msg = {content, metadata}\n",
       "              msg_handler(msg);\n",
       "              return messages.next().then(processIteratorResult);\n",
       "            }\n",
       "            return messages.next().then(processIteratorResult);\n",
       "          }\n",
       "        }) \n",
       "        var sendClosure = (data, metadata, buffers, disposeOnDone) => {\n",
       "          return comm_promise.then((comm) => {\n",
       "            comm.send(data, metadata, buffers, disposeOnDone);\n",
       "          });\n",
       "        };\n",
       "        var comm = {\n",
       "          send: sendClosure\n",
       "        };\n",
       "      }\n",
       "      window.PyViz.comms[comm_id] = comm;\n",
       "      return comm;\n",
       "    }\n",
       "    window.PyViz.comm_manager = new JupyterCommManager();\n",
       "    \n",
       "\n",
       "\n",
       "var JS_MIME_TYPE = 'application/javascript';\n",
       "var HTML_MIME_TYPE = 'text/html';\n",
       "var EXEC_MIME_TYPE = 'application/vnd.holoviews_exec.v0+json';\n",
       "var CLASS_NAME = 'output';\n",
       "\n",
       "/**\n",
       " * Render data to the DOM node\n",
       " */\n",
       "function render(props, node) {\n",
       "  var div = document.createElement(\"div\");\n",
       "  var script = document.createElement(\"script\");\n",
       "  node.appendChild(div);\n",
       "  node.appendChild(script);\n",
       "}\n",
       "\n",
       "/**\n",
       " * Handle when a new output is added\n",
       " */\n",
       "function handle_add_output(event, handle) {\n",
       "  var output_area = handle.output_area;\n",
       "  var output = handle.output;\n",
       "  if ((output.data == undefined) || (!output.data.hasOwnProperty(EXEC_MIME_TYPE))) {\n",
       "    return\n",
       "  }\n",
       "  var id = output.metadata[EXEC_MIME_TYPE][\"id\"];\n",
       "  var toinsert = output_area.element.find(\".\" + CLASS_NAME.split(' ')[0]);\n",
       "  if (id !== undefined) {\n",
       "    var nchildren = toinsert.length;\n",
       "    var html_node = toinsert[nchildren-1].children[0];\n",
       "    html_node.innerHTML = output.data[HTML_MIME_TYPE];\n",
       "    var scripts = [];\n",
       "    var nodelist = html_node.querySelectorAll(\"script\");\n",
       "    for (var i in nodelist) {\n",
       "      if (nodelist.hasOwnProperty(i)) {\n",
       "        scripts.push(nodelist[i])\n",
       "      }\n",
       "    }\n",
       "\n",
       "    scripts.forEach( function (oldScript) {\n",
       "      var newScript = document.createElement(\"script\");\n",
       "      var attrs = [];\n",
       "      var nodemap = oldScript.attributes;\n",
       "      for (var j in nodemap) {\n",
       "        if (nodemap.hasOwnProperty(j)) {\n",
       "          attrs.push(nodemap[j])\n",
       "        }\n",
       "      }\n",
       "      attrs.forEach(function(attr) { newScript.setAttribute(attr.name, attr.value) });\n",
       "      newScript.appendChild(document.createTextNode(oldScript.innerHTML));\n",
       "      oldScript.parentNode.replaceChild(newScript, oldScript);\n",
       "    });\n",
       "    if (JS_MIME_TYPE in output.data) {\n",
       "      toinsert[nchildren-1].children[1].textContent = output.data[JS_MIME_TYPE];\n",
       "    }\n",
       "    output_area._hv_plot_id = id;\n",
       "    if ((window.Bokeh !== undefined) && (id in Bokeh.index)) {\n",
       "      window.PyViz.plot_index[id] = Bokeh.index[id];\n",
       "    } else {\n",
       "      window.PyViz.plot_index[id] = null;\n",
       "    }\n",
       "  } else if (output.metadata[EXEC_MIME_TYPE][\"server_id\"] !== undefined) {\n",
       "    var bk_div = document.createElement(\"div\");\n",
       "    bk_div.innerHTML = output.data[HTML_MIME_TYPE];\n",
       "    var script_attrs = bk_div.children[0].attributes;\n",
       "    for (var i = 0; i < script_attrs.length; i++) {\n",
       "      toinsert[toinsert.length - 1].childNodes[1].setAttribute(script_attrs[i].name, script_attrs[i].value);\n",
       "    }\n",
       "    // store reference to server id on output_area\n",
       "    output_area._bokeh_server_id = output.metadata[EXEC_MIME_TYPE][\"server_id\"];\n",
       "  }\n",
       "}\n",
       "\n",
       "/**\n",
       " * Handle when an output is cleared or removed\n",
       " */\n",
       "function handle_clear_output(event, handle) {\n",
       "  var id = handle.cell.output_area._hv_plot_id;\n",
       "  var server_id = handle.cell.output_area._bokeh_server_id;\n",
       "  if (((id === undefined) || !(id in PyViz.plot_index)) && (server_id !== undefined)) { return; }\n",
       "  var comm = window.PyViz.comm_manager.get_client_comm(\"hv-extension-comm\", \"hv-extension-comm\", function () {});\n",
       "  if (server_id !== null) {\n",
       "    comm.send({event_type: 'server_delete', 'id': server_id});\n",
       "    return;\n",
       "  } else if (comm !== null) {\n",
       "    comm.send({event_type: 'delete', 'id': id});\n",
       "  }\n",
       "  delete PyViz.plot_index[id];\n",
       "  if ((window.Bokeh !== undefined) & (id in window.Bokeh.index)) {\n",
       "    var doc = window.Bokeh.index[id].model.document\n",
       "    doc.clear();\n",
       "    const i = window.Bokeh.documents.indexOf(doc);\n",
       "    if (i > -1) {\n",
       "      window.Bokeh.documents.splice(i, 1);\n",
       "    }\n",
       "  }\n",
       "}\n",
       "\n",
       "/**\n",
       " * Handle kernel restart event\n",
       " */\n",
       "function handle_kernel_cleanup(event, handle) {\n",
       "  delete PyViz.comms[\"hv-extension-comm\"];\n",
       "  window.PyViz.plot_index = {}\n",
       "}\n",
       "\n",
       "/**\n",
       " * Handle update_display_data messages\n",
       " */\n",
       "function handle_update_output(event, handle) {\n",
       "  handle_clear_output(event, {cell: {output_area: handle.output_area}})\n",
       "  handle_add_output(event, handle)\n",
       "}\n",
       "\n",
       "function register_renderer(events, OutputArea) {\n",
       "  function append_mime(data, metadata, element) {\n",
       "    // create a DOM node to render to\n",
       "    var toinsert = this.create_output_subarea(\n",
       "    metadata,\n",
       "    CLASS_NAME,\n",
       "    EXEC_MIME_TYPE\n",
       "    );\n",
       "    this.keyboard_manager.register_events(toinsert);\n",
       "    // Render to node\n",
       "    var props = {data: data, metadata: metadata[EXEC_MIME_TYPE]};\n",
       "    render(props, toinsert[0]);\n",
       "    element.append(toinsert);\n",
       "    return toinsert\n",
       "  }\n",
       "\n",
       "  events.on('output_added.OutputArea', handle_add_output);\n",
       "  events.on('output_updated.OutputArea', handle_update_output);\n",
       "  events.on('clear_output.CodeCell', handle_clear_output);\n",
       "  events.on('delete.Cell', handle_clear_output);\n",
       "  events.on('kernel_ready.Kernel', handle_kernel_cleanup);\n",
       "\n",
       "  OutputArea.prototype.register_mime_type(EXEC_MIME_TYPE, append_mime, {\n",
       "    safe: true,\n",
       "    index: 0\n",
       "  });\n",
       "}\n",
       "\n",
       "if (window.Jupyter !== undefined) {\n",
       "  try {\n",
       "    var events = require('base/js/events');\n",
       "    var OutputArea = require('notebook/js/outputarea').OutputArea;\n",
       "    if (OutputArea.prototype.mime_types().indexOf(EXEC_MIME_TYPE) == -1) {\n",
       "      register_renderer(events, OutputArea);\n",
       "    }\n",
       "  } catch(err) {\n",
       "  }\n",
       "}\n"
      ],
      "application/vnd.holoviews_load.v0+json": "\nif ((window.PyViz === undefined) || (window.PyViz instanceof HTMLElement)) {\n  window.PyViz = {comms: {}, comm_status:{}, kernels:{}, receivers: {}, plot_index: []}\n}\n\n\n    function JupyterCommManager() {\n    }\n\n    JupyterCommManager.prototype.register_target = function(plot_id, comm_id, msg_handler) {\n      if (window.comm_manager || ((window.Jupyter !== undefined) && (Jupyter.notebook.kernel != null))) {\n        var comm_manager = window.comm_manager || Jupyter.notebook.kernel.comm_manager;\n        comm_manager.register_target(comm_id, function(comm) {\n          comm.on_msg(msg_handler);\n        });\n      } else if ((plot_id in window.PyViz.kernels) && (window.PyViz.kernels[plot_id])) {\n        window.PyViz.kernels[plot_id].registerCommTarget(comm_id, function(comm) {\n          comm.onMsg = msg_handler;\n        });\n      } else if (typeof google != 'undefined' && google.colab.kernel != null) {\n        google.colab.kernel.comms.registerTarget(comm_id, (comm) => {\n          var messages = comm.messages[Symbol.asyncIterator]();\n          function processIteratorResult(result) {\n            var message = result.value;\n            console.log(message)\n            var content = {data: message.data, comm_id};\n            var buffers = []\n            for (var buffer of message.buffers || []) {\n              buffers.push(new DataView(buffer))\n            }\n            var metadata = message.metadata || {};\n            var msg = {content, buffers, metadata}\n            msg_handler(msg);\n            return messages.next().then(processIteratorResult);\n          }\n          return messages.next().then(processIteratorResult);\n        })\n      }\n    }\n\n    JupyterCommManager.prototype.get_client_comm = function(plot_id, comm_id, msg_handler) {\n      if (comm_id in window.PyViz.comms) {\n        return window.PyViz.comms[comm_id];\n      } else if (window.comm_manager || ((window.Jupyter !== undefined) && (Jupyter.notebook.kernel != null))) {\n        var comm_manager = window.comm_manager || Jupyter.notebook.kernel.comm_manager;\n        var comm = comm_manager.new_comm(comm_id, {}, {}, {}, comm_id);\n        if (msg_handler) {\n          comm.on_msg(msg_handler);\n        }\n      } else if ((plot_id in window.PyViz.kernels) && (window.PyViz.kernels[plot_id])) {\n        var comm = window.PyViz.kernels[plot_id].connectToComm(comm_id);\n        comm.open();\n        if (msg_handler) {\n          comm.onMsg = msg_handler;\n        }\n      } else if (typeof google != 'undefined' && google.colab.kernel != null) {\n        var comm_promise = google.colab.kernel.comms.open(comm_id)\n        comm_promise.then((comm) => {\n          window.PyViz.comms[comm_id] = comm;\n          if (msg_handler) {\n            var messages = comm.messages[Symbol.asyncIterator]();\n            function processIteratorResult(result) {\n              var message = result.value;\n              var content = {data: message.data};\n              var metadata = message.metadata || {comm_id};\n              var msg = {content, metadata}\n              msg_handler(msg);\n              return messages.next().then(processIteratorResult);\n            }\n            return messages.next().then(processIteratorResult);\n          }\n        }) \n        var sendClosure = (data, metadata, buffers, disposeOnDone) => {\n          return comm_promise.then((comm) => {\n            comm.send(data, metadata, buffers, disposeOnDone);\n          });\n        };\n        var comm = {\n          send: sendClosure\n        };\n      }\n      window.PyViz.comms[comm_id] = comm;\n      return comm;\n    }\n    window.PyViz.comm_manager = new JupyterCommManager();\n    \n\n\nvar JS_MIME_TYPE = 'application/javascript';\nvar HTML_MIME_TYPE = 'text/html';\nvar EXEC_MIME_TYPE = 'application/vnd.holoviews_exec.v0+json';\nvar CLASS_NAME = 'output';\n\n/**\n * Render data to the DOM node\n */\nfunction render(props, node) {\n  var div = document.createElement(\"div\");\n  var script = document.createElement(\"script\");\n  node.appendChild(div);\n  node.appendChild(script);\n}\n\n/**\n * Handle when a new output is added\n */\nfunction handle_add_output(event, handle) {\n  var output_area = handle.output_area;\n  var output = handle.output;\n  if ((output.data == undefined) || (!output.data.hasOwnProperty(EXEC_MIME_TYPE))) {\n    return\n  }\n  var id = output.metadata[EXEC_MIME_TYPE][\"id\"];\n  var toinsert = output_area.element.find(\".\" + CLASS_NAME.split(' ')[0]);\n  if (id !== undefined) {\n    var nchildren = toinsert.length;\n    var html_node = toinsert[nchildren-1].children[0];\n    html_node.innerHTML = output.data[HTML_MIME_TYPE];\n    var scripts = [];\n    var nodelist = html_node.querySelectorAll(\"script\");\n    for (var i in nodelist) {\n      if (nodelist.hasOwnProperty(i)) {\n        scripts.push(nodelist[i])\n      }\n    }\n\n    scripts.forEach( function (oldScript) {\n      var newScript = document.createElement(\"script\");\n      var attrs = [];\n      var nodemap = oldScript.attributes;\n      for (var j in nodemap) {\n        if (nodemap.hasOwnProperty(j)) {\n          attrs.push(nodemap[j])\n        }\n      }\n      attrs.forEach(function(attr) { newScript.setAttribute(attr.name, attr.value) });\n      newScript.appendChild(document.createTextNode(oldScript.innerHTML));\n      oldScript.parentNode.replaceChild(newScript, oldScript);\n    });\n    if (JS_MIME_TYPE in output.data) {\n      toinsert[nchildren-1].children[1].textContent = output.data[JS_MIME_TYPE];\n    }\n    output_area._hv_plot_id = id;\n    if ((window.Bokeh !== undefined) && (id in Bokeh.index)) {\n      window.PyViz.plot_index[id] = Bokeh.index[id];\n    } else {\n      window.PyViz.plot_index[id] = null;\n    }\n  } else if (output.metadata[EXEC_MIME_TYPE][\"server_id\"] !== undefined) {\n    var bk_div = document.createElement(\"div\");\n    bk_div.innerHTML = output.data[HTML_MIME_TYPE];\n    var script_attrs = bk_div.children[0].attributes;\n    for (var i = 0; i < script_attrs.length; i++) {\n      toinsert[toinsert.length - 1].childNodes[1].setAttribute(script_attrs[i].name, script_attrs[i].value);\n    }\n    // store reference to server id on output_area\n    output_area._bokeh_server_id = output.metadata[EXEC_MIME_TYPE][\"server_id\"];\n  }\n}\n\n/**\n * Handle when an output is cleared or removed\n */\nfunction handle_clear_output(event, handle) {\n  var id = handle.cell.output_area._hv_plot_id;\n  var server_id = handle.cell.output_area._bokeh_server_id;\n  if (((id === undefined) || !(id in PyViz.plot_index)) && (server_id !== undefined)) { return; }\n  var comm = window.PyViz.comm_manager.get_client_comm(\"hv-extension-comm\", \"hv-extension-comm\", function () {});\n  if (server_id !== null) {\n    comm.send({event_type: 'server_delete', 'id': server_id});\n    return;\n  } else if (comm !== null) {\n    comm.send({event_type: 'delete', 'id': id});\n  }\n  delete PyViz.plot_index[id];\n  if ((window.Bokeh !== undefined) & (id in window.Bokeh.index)) {\n    var doc = window.Bokeh.index[id].model.document\n    doc.clear();\n    const i = window.Bokeh.documents.indexOf(doc);\n    if (i > -1) {\n      window.Bokeh.documents.splice(i, 1);\n    }\n  }\n}\n\n/**\n * Handle kernel restart event\n */\nfunction handle_kernel_cleanup(event, handle) {\n  delete PyViz.comms[\"hv-extension-comm\"];\n  window.PyViz.plot_index = {}\n}\n\n/**\n * Handle update_display_data messages\n */\nfunction handle_update_output(event, handle) {\n  handle_clear_output(event, {cell: {output_area: handle.output_area}})\n  handle_add_output(event, handle)\n}\n\nfunction register_renderer(events, OutputArea) {\n  function append_mime(data, metadata, element) {\n    // create a DOM node to render to\n    var toinsert = this.create_output_subarea(\n    metadata,\n    CLASS_NAME,\n    EXEC_MIME_TYPE\n    );\n    this.keyboard_manager.register_events(toinsert);\n    // Render to node\n    var props = {data: data, metadata: metadata[EXEC_MIME_TYPE]};\n    render(props, toinsert[0]);\n    element.append(toinsert);\n    return toinsert\n  }\n\n  events.on('output_added.OutputArea', handle_add_output);\n  events.on('output_updated.OutputArea', handle_update_output);\n  events.on('clear_output.CodeCell', handle_clear_output);\n  events.on('delete.Cell', handle_clear_output);\n  events.on('kernel_ready.Kernel', handle_kernel_cleanup);\n\n  OutputArea.prototype.register_mime_type(EXEC_MIME_TYPE, append_mime, {\n    safe: true,\n    index: 0\n  });\n}\n\nif (window.Jupyter !== undefined) {\n  try {\n    var events = require('base/js/events');\n    var OutputArea = require('notebook/js/outputarea').OutputArea;\n    if (OutputArea.prototype.mime_types().indexOf(EXEC_MIME_TYPE) == -1) {\n      register_renderer(events, OutputArea);\n    }\n  } catch(err) {\n  }\n}\n"
     },
     "metadata": {},
     "output_type": "display_data"
    },
    {
     "data": {
      "text/html": [
       "<style>.bk-root, .bk-root .bk:before, .bk-root .bk:after {\n",
       "  font-family: var(--jp-ui-font-size1);\n",
       "  font-size: var(--jp-ui-font-size1);\n",
       "  color: var(--jp-ui-font-color1);\n",
       "}\n",
       "</style>"
      ]
     },
     "metadata": {},
     "output_type": "display_data"
    }
   ],
   "source": [
    "from io import StringIO\n",
    "import panel as pn\n",
    "import param\n",
    "\n",
    "pn.extension(\"plotly\")"
   ]
  },
  {
   "cell_type": "markdown",
   "metadata": {},
   "source": [
    "We start by creating a class that represents the chart and widget components of our dashboard, and the dependencies between them. This uses the visualisation and functions we have already created."
   ]
  },
  {
   "cell_type": "code",
   "execution_count": 15,
   "metadata": {},
   "outputs": [
    {
     "name": "stderr",
     "output_type": "stream",
     "text": [
      "23:00:17 - cmdstanpy - INFO - Chain [1] start processing\n",
      "23:00:17 - cmdstanpy - INFO - Chain [1] done processing\n"
     ]
    }
   ],
   "source": [
    "class Forecaster(param.Parameterized):\n",
    "\n",
    "    df = param.DataFrame(precedence=-1)  # precedence <1, will not be shown as widget\n",
    "    outliers = param.List(item_type=str, precedence=-1)\n",
    "    forecast = param.DataFrame(precedence=-1)\n",
    "    model = param.Parameter(precedence=-1)\n",
    "\n",
    "    periods = param.Integer(default=12, bounds=(1, 36))\n",
    "    toggle_seasonality = param.Boolean(default=True)\n",
    "    toggle_trend = param.Boolean(default=True)\n",
    "    toggle_outliers = param.Boolean(default=True)\n",
    "\n",
    "    def __init__(self, df, outliers, **kwargs):\n",
    "        super().__init__(**kwargs)\n",
    "        self.df = df\n",
    "        self.outliers = outliers\n",
    "        self.fit_sales_model()\n",
    "        self.generate_forecast()\n",
    "\n",
    "    @param.depends(\"toggle_outliers\")\n",
    "    def plot_historical_sales(self):\n",
    "        return plot_historical_sales(self.df, self.outliers)\n",
    "\n",
    "    @param.depends(\n",
    "        \"toggle_outliers\",\n",
    "        \"toggle_seasonality\",\n",
    "        \"toggle_trend\",\n",
    "        watch=True,\n",
    "    )\n",
    "    def fit_sales_model(self):\n",
    "        self.model = fit_sales_model(\n",
    "            self.df,\n",
    "            linear_trend=self.toggle_trend,\n",
    "            show_outliers=self.toggle_outliers,\n",
    "            yearly_seasonality=self.toggle_seasonality,\n",
    "        )\n",
    "\n",
    "    @param.depends(\"model\", \"periods\", watch=True)\n",
    "    def generate_forecast(self):\n",
    "        self.forecast = generate_predictions(\n",
    "            self.model,\n",
    "            start=self.df[\"Month\"].max() + pd.tseries.offsets.DateOffset(months=1),\n",
    "            periods=self.periods,\n",
    "            freq=\"MS\",\n",
    "        )\n",
    "\n",
    "    @param.depends(\"forecast\")\n",
    "    def plot_sales_forecast(self):\n",
    "        return plot_sales_forecast(self.forecast)\n",
    "\n",
    "    def get_csv(self):\n",
    "        \"\"\"Convert our forecast dataframe to a csv file object\"\"\"\n",
    "        sio = StringIO()\n",
    "        (\n",
    "            self.forecast.loc[:, [\"ds\", \"yhat_lower\", \"yhat\", \"yhat_upper\"]]\n",
    "            .rename(\n",
    "                columns={\n",
    "                    \"ds\": \"Month\",\n",
    "                    \"yhat_lower\": \"Lower Bound\",\n",
    "                    \"yhat\": \"Prediction\",\n",
    "                    \"yhat_upper\": \"Upper Bound\",\n",
    "                }\n",
    "            )\n",
    "            .round(2)\n",
    "            .to_csv(sio, index=False)\n",
    "        )\n",
    "        sio.seek(0)\n",
    "        return sio\n",
    "\n",
    "\n",
    "# Initialise an instance of the class\n",
    "forecaster = Forecaster(\n",
    "    df=df, \n",
    "    outliers=[\"2020-03-01\", \"2020-04-01\", \"2020-05-01\", \"2020-06-01\"]\n",
    ")"
   ]
  },
  {
   "cell_type": "markdown",
   "metadata": {},
   "source": [
    "Now we build the structure of our dashboard by assembling our plots, widgets and text using Panel's row and column containers."
   ]
  },
  {
   "cell_type": "code",
   "execution_count": 16,
   "metadata": {},
   "outputs": [
    {
     "data": {
      "application/javascript": [
       "(function(root) {\n",
       "  function now() {\n",
       "    return new Date();\n",
       "  }\n",
       "\n",
       "  var force = true;\n",
       "\n",
       "  if (typeof root._bokeh_onload_callbacks === \"undefined\" || force === true) {\n",
       "    root._bokeh_onload_callbacks = [];\n",
       "    root._bokeh_is_loading = undefined;\n",
       "  }\n",
       "\n",
       "  if (typeof (root._bokeh_timeout) === \"undefined\" || force === true) {\n",
       "    root._bokeh_timeout = Date.now() + 5000;\n",
       "    root._bokeh_failed_load = false;\n",
       "  }\n",
       "\n",
       "  function run_callbacks() {\n",
       "    try {\n",
       "      root._bokeh_onload_callbacks.forEach(function(callback) {\n",
       "        if (callback != null)\n",
       "          callback();\n",
       "      });\n",
       "    } finally {\n",
       "      delete root._bokeh_onload_callbacks\n",
       "    }\n",
       "    console.debug(\"Bokeh: all callbacks have finished\");\n",
       "  }\n",
       "\n",
       "  function load_libs(css_urls, js_urls, js_modules, callback) {\n",
       "    if (css_urls == null) css_urls = [];\n",
       "    if (js_urls == null) js_urls = [];\n",
       "    if (js_modules == null) js_modules = [];\n",
       "\n",
       "    root._bokeh_onload_callbacks.push(callback);\n",
       "    if (root._bokeh_is_loading > 0) {\n",
       "      console.debug(\"Bokeh: BokehJS is being loaded, scheduling callback at\", now());\n",
       "      return null;\n",
       "    }\n",
       "    if (js_urls.length === 0 && js_modules.length === 0) {\n",
       "      run_callbacks();\n",
       "      return null;\n",
       "    }\n",
       "    console.debug(\"Bokeh: BokehJS not loaded, scheduling load and callback at\", now());\n",
       "\n",
       "    function on_load() {\n",
       "      root._bokeh_is_loading--;\n",
       "      if (root._bokeh_is_loading === 0) {\n",
       "        console.debug(\"Bokeh: all BokehJS libraries/stylesheets loaded\");\n",
       "        run_callbacks()\n",
       "      }\n",
       "    }\n",
       "\n",
       "    function on_error() {\n",
       "      console.error(\"failed to load \" + url);\n",
       "    }\n",
       "\n",
       "    for (var i = 0; i < css_urls.length; i++) {\n",
       "      var url = css_urls[i];\n",
       "      const element = document.createElement(\"link\");\n",
       "      element.onload = on_load;\n",
       "      element.onerror = on_error;\n",
       "      element.rel = \"stylesheet\";\n",
       "      element.type = \"text/css\";\n",
       "      element.href = url;\n",
       "      console.debug(\"Bokeh: injecting link tag for BokehJS stylesheet: \", url);\n",
       "      document.body.appendChild(element);\n",
       "    }\n",
       "\n",
       "    var skip = [];\n",
       "    if (window.requirejs) {\n",
       "      window.requirejs.config({'packages': {}, 'paths': {'plotly': 'https://cdn.plot.ly/plotly-2.10.1.min', 'gridstack': 'https://cdn.jsdelivr.net/npm/gridstack@4.2.5/dist/gridstack-h5', 'notyf': 'https://cdn.jsdelivr.net/npm/notyf@3/notyf.min'}, 'shim': {'gridstack': {'exports': 'GridStack'}}});\n",
       "      require([\"plotly\"], function(Plotly) {\n",
       "\twindow.Plotly = Plotly\n",
       "\ton_load()\n",
       "      })\n",
       "      require([\"gridstack\"], function(GridStack) {\n",
       "\twindow.GridStack = GridStack\n",
       "\ton_load()\n",
       "      })\n",
       "      require([\"notyf\"], function() {\n",
       "\ton_load()\n",
       "      })\n",
       "      root._bokeh_is_loading = css_urls.length + 3;\n",
       "    } else {\n",
       "      root._bokeh_is_loading = css_urls.length + js_urls.length + js_modules.length;\n",
       "    }    if (((window['Plotly'] !== undefined) && (!(window['Plotly'] instanceof HTMLElement))) || window.requirejs) {\n",
       "      var urls = ['https://cdn.holoviz.org/panel/0.14.2/dist/bundled/plotlyplot/plotly-2.10.1.min.js'];\n",
       "      for (var i = 0; i < urls.length; i++) {\n",
       "        skip.push(urls[i])\n",
       "      }\n",
       "    }    if (((window['GridStack'] !== undefined) && (!(window['GridStack'] instanceof HTMLElement))) || window.requirejs) {\n",
       "      var urls = ['https://cdn.holoviz.org/panel/0.14.2/dist/bundled/gridstack/gridstack@4.2.5/dist/gridstack-h5.js'];\n",
       "      for (var i = 0; i < urls.length; i++) {\n",
       "        skip.push(urls[i])\n",
       "      }\n",
       "    }    if (((window['Notyf'] !== undefined) && (!(window['Notyf'] instanceof HTMLElement))) || window.requirejs) {\n",
       "      var urls = ['https://cdn.holoviz.org/panel/0.14.2/dist/bundled/notificationarea/notyf@3/notyf.min.js'];\n",
       "      for (var i = 0; i < urls.length; i++) {\n",
       "        skip.push(urls[i])\n",
       "      }\n",
       "    }    for (var i = 0; i < js_urls.length; i++) {\n",
       "      var url = js_urls[i];\n",
       "      if (skip.indexOf(url) >= 0) {\n",
       "\tif (!window.requirejs) {\n",
       "\t  on_load();\n",
       "\t}\n",
       "\tcontinue;\n",
       "      }\n",
       "      var element = document.createElement('script');\n",
       "      element.onload = on_load;\n",
       "      element.onerror = on_error;\n",
       "      element.async = false;\n",
       "      element.src = url;\n",
       "      console.debug(\"Bokeh: injecting script tag for BokehJS library: \", url);\n",
       "      document.head.appendChild(element);\n",
       "    }\n",
       "    for (var i = 0; i < js_modules.length; i++) {\n",
       "      var url = js_modules[i];\n",
       "      if (skip.indexOf(url) >= 0) {\n",
       "\tif (!window.requirejs) {\n",
       "\t  on_load();\n",
       "\t}\n",
       "\tcontinue;\n",
       "      }\n",
       "      var element = document.createElement('script');\n",
       "      element.onload = on_load;\n",
       "      element.onerror = on_error;\n",
       "      element.async = false;\n",
       "      element.src = url;\n",
       "      element.type = \"module\";\n",
       "      console.debug(\"Bokeh: injecting script tag for BokehJS library: \", url);\n",
       "      document.head.appendChild(element);\n",
       "    }\n",
       "    if (!js_urls.length && !js_modules.length) {\n",
       "      on_load()\n",
       "    }\n",
       "  };\n",
       "\n",
       "  function inject_raw_css(css) {\n",
       "    const element = document.createElement(\"style\");\n",
       "    element.appendChild(document.createTextNode(css));\n",
       "    document.body.appendChild(element);\n",
       "  }\n",
       "\n",
       "  var js_urls = [\"https://cdn.holoviz.org/panel/0.14.2/dist/bundled/jquery/jquery.slim.min.js\", \"https://cdn.holoviz.org/panel/0.14.2/dist/bundled/plotlyplot/plotly-2.10.1.min.js\", \"https://cdn.bokeh.org/bokeh/release/bokeh-2.4.3.min.js\", \"https://cdn.bokeh.org/bokeh/release/bokeh-gl-2.4.3.min.js\", \"https://cdn.bokeh.org/bokeh/release/bokeh-widgets-2.4.3.min.js\", \"https://cdn.bokeh.org/bokeh/release/bokeh-tables-2.4.3.min.js\", \"https://cdn.bokeh.org/bokeh/release/bokeh-mathjax-2.4.3.min.js\", \"https://unpkg.com/@holoviz/panel@0.14.2/dist/panel.min.js\"];\n",
       "  var js_modules = [];\n",
       "  var css_urls = [\"https://cdn.holoviz.org/panel/0.14.2/dist/css/debugger.css\", \"https://cdn.holoviz.org/panel/0.14.2/dist/css/alerts.css\", \"https://cdn.holoviz.org/panel/0.14.2/dist/css/card.css\", \"https://cdn.holoviz.org/panel/0.14.2/dist/css/widgets.css\", \"https://cdn.holoviz.org/panel/0.14.2/dist/css/markdown.css\", \"https://cdn.holoviz.org/panel/0.14.2/dist/css/json.css\", \"https://cdn.holoviz.org/panel/0.14.2/dist/css/loading.css\", \"https://cdn.holoviz.org/panel/0.14.2/dist/css/dataframe.css\"];\n",
       "  var inline_js = [    function(Bokeh) {\n",
       "      inject_raw_css(\"\\n    .bk.pn-loading.arc:before {\\n      background-image: url(\\\"data:image/svg+xml;base64,PHN2ZyB4bWxucz0iaHR0cDovL3d3dy53My5vcmcvMjAwMC9zdmciIHN0eWxlPSJtYXJnaW46IGF1dG87IGJhY2tncm91bmQ6IG5vbmU7IGRpc3BsYXk6IGJsb2NrOyBzaGFwZS1yZW5kZXJpbmc6IGF1dG87IiB2aWV3Qm94PSIwIDAgMTAwIDEwMCIgcHJlc2VydmVBc3BlY3RSYXRpbz0ieE1pZFlNaWQiPiAgPGNpcmNsZSBjeD0iNTAiIGN5PSI1MCIgZmlsbD0ibm9uZSIgc3Ryb2tlPSIjYzNjM2MzIiBzdHJva2Utd2lkdGg9IjEwIiByPSIzNSIgc3Ryb2tlLWRhc2hhcnJheT0iMTY0LjkzMzYxNDMxMzQ2NDE1IDU2Ljk3Nzg3MTQzNzgyMTM4Ij4gICAgPGFuaW1hdGVUcmFuc2Zvcm0gYXR0cmlidXRlTmFtZT0idHJhbnNmb3JtIiB0eXBlPSJyb3RhdGUiIHJlcGVhdENvdW50PSJpbmRlZmluaXRlIiBkdXI9IjFzIiB2YWx1ZXM9IjAgNTAgNTA7MzYwIDUwIDUwIiBrZXlUaW1lcz0iMDsxIj48L2FuaW1hdGVUcmFuc2Zvcm0+ICA8L2NpcmNsZT48L3N2Zz4=\\\");\\n      background-size: auto calc(min(50%, 400px));\\n    }\\n    \");\n",
       "    },    function(Bokeh) {\n",
       "      inject_raw_css(\"\\n    .bk.panel-markdown-center {\\n      text-align: center\\n    }\\n\\n    .bk.panel-flexbox-center {\\n      justify-content: space-around;\\n      align-items: stretch;\\n      gap: 500px\\n    }\\n    \");\n",
       "    },    function(Bokeh) {\n",
       "      Bokeh.set_log_level(\"info\");\n",
       "    },\n",
       "function(Bokeh) {} // ensure no trailing comma for IE\n",
       "  ];\n",
       "\n",
       "  function run_inline_js() {\n",
       "    if ((root.Bokeh !== undefined) || (force === true)) {\n",
       "      for (var i = 0; i < inline_js.length; i++) {\n",
       "        inline_js[i].call(root, root.Bokeh);\n",
       "      }} else if (Date.now() < root._bokeh_timeout) {\n",
       "      setTimeout(run_inline_js, 100);\n",
       "    } else if (!root._bokeh_failed_load) {\n",
       "      console.log(\"Bokeh: BokehJS failed to load within specified timeout.\");\n",
       "      root._bokeh_failed_load = true;\n",
       "    }\n",
       "  }\n",
       "\n",
       "  if (root._bokeh_is_loading === 0) {\n",
       "    console.debug(\"Bokeh: BokehJS loaded, going straight to plotting\");\n",
       "    run_inline_js();\n",
       "  } else {\n",
       "    load_libs(css_urls, js_urls, js_modules, function() {\n",
       "      console.debug(\"Bokeh: BokehJS plotting callback run at\", now());\n",
       "      run_inline_js();\n",
       "    });\n",
       "  }\n",
       "}(window));"
      ],
      "application/vnd.holoviews_load.v0+json": "(function(root) {\n  function now() {\n    return new Date();\n  }\n\n  var force = true;\n\n  if (typeof root._bokeh_onload_callbacks === \"undefined\" || force === true) {\n    root._bokeh_onload_callbacks = [];\n    root._bokeh_is_loading = undefined;\n  }\n\n  if (typeof (root._bokeh_timeout) === \"undefined\" || force === true) {\n    root._bokeh_timeout = Date.now() + 5000;\n    root._bokeh_failed_load = false;\n  }\n\n  function run_callbacks() {\n    try {\n      root._bokeh_onload_callbacks.forEach(function(callback) {\n        if (callback != null)\n          callback();\n      });\n    } finally {\n      delete root._bokeh_onload_callbacks\n    }\n    console.debug(\"Bokeh: all callbacks have finished\");\n  }\n\n  function load_libs(css_urls, js_urls, js_modules, callback) {\n    if (css_urls == null) css_urls = [];\n    if (js_urls == null) js_urls = [];\n    if (js_modules == null) js_modules = [];\n\n    root._bokeh_onload_callbacks.push(callback);\n    if (root._bokeh_is_loading > 0) {\n      console.debug(\"Bokeh: BokehJS is being loaded, scheduling callback at\", now());\n      return null;\n    }\n    if (js_urls.length === 0 && js_modules.length === 0) {\n      run_callbacks();\n      return null;\n    }\n    console.debug(\"Bokeh: BokehJS not loaded, scheduling load and callback at\", now());\n\n    function on_load() {\n      root._bokeh_is_loading--;\n      if (root._bokeh_is_loading === 0) {\n        console.debug(\"Bokeh: all BokehJS libraries/stylesheets loaded\");\n        run_callbacks()\n      }\n    }\n\n    function on_error() {\n      console.error(\"failed to load \" + url);\n    }\n\n    for (var i = 0; i < css_urls.length; i++) {\n      var url = css_urls[i];\n      const element = document.createElement(\"link\");\n      element.onload = on_load;\n      element.onerror = on_error;\n      element.rel = \"stylesheet\";\n      element.type = \"text/css\";\n      element.href = url;\n      console.debug(\"Bokeh: injecting link tag for BokehJS stylesheet: \", url);\n      document.body.appendChild(element);\n    }\n\n    var skip = [];\n    if (window.requirejs) {\n      window.requirejs.config({'packages': {}, 'paths': {'plotly': 'https://cdn.plot.ly/plotly-2.10.1.min', 'gridstack': 'https://cdn.jsdelivr.net/npm/gridstack@4.2.5/dist/gridstack-h5', 'notyf': 'https://cdn.jsdelivr.net/npm/notyf@3/notyf.min'}, 'shim': {'gridstack': {'exports': 'GridStack'}}});\n      require([\"plotly\"], function(Plotly) {\n\twindow.Plotly = Plotly\n\ton_load()\n      })\n      require([\"gridstack\"], function(GridStack) {\n\twindow.GridStack = GridStack\n\ton_load()\n      })\n      require([\"notyf\"], function() {\n\ton_load()\n      })\n      root._bokeh_is_loading = css_urls.length + 3;\n    } else {\n      root._bokeh_is_loading = css_urls.length + js_urls.length + js_modules.length;\n    }    if (((window['Plotly'] !== undefined) && (!(window['Plotly'] instanceof HTMLElement))) || window.requirejs) {\n      var urls = ['https://cdn.holoviz.org/panel/0.14.2/dist/bundled/plotlyplot/plotly-2.10.1.min.js'];\n      for (var i = 0; i < urls.length; i++) {\n        skip.push(urls[i])\n      }\n    }    if (((window['GridStack'] !== undefined) && (!(window['GridStack'] instanceof HTMLElement))) || window.requirejs) {\n      var urls = ['https://cdn.holoviz.org/panel/0.14.2/dist/bundled/gridstack/gridstack@4.2.5/dist/gridstack-h5.js'];\n      for (var i = 0; i < urls.length; i++) {\n        skip.push(urls[i])\n      }\n    }    if (((window['Notyf'] !== undefined) && (!(window['Notyf'] instanceof HTMLElement))) || window.requirejs) {\n      var urls = ['https://cdn.holoviz.org/panel/0.14.2/dist/bundled/notificationarea/notyf@3/notyf.min.js'];\n      for (var i = 0; i < urls.length; i++) {\n        skip.push(urls[i])\n      }\n    }    for (var i = 0; i < js_urls.length; i++) {\n      var url = js_urls[i];\n      if (skip.indexOf(url) >= 0) {\n\tif (!window.requirejs) {\n\t  on_load();\n\t}\n\tcontinue;\n      }\n      var element = document.createElement('script');\n      element.onload = on_load;\n      element.onerror = on_error;\n      element.async = false;\n      element.src = url;\n      console.debug(\"Bokeh: injecting script tag for BokehJS library: \", url);\n      document.head.appendChild(element);\n    }\n    for (var i = 0; i < js_modules.length; i++) {\n      var url = js_modules[i];\n      if (skip.indexOf(url) >= 0) {\n\tif (!window.requirejs) {\n\t  on_load();\n\t}\n\tcontinue;\n      }\n      var element = document.createElement('script');\n      element.onload = on_load;\n      element.onerror = on_error;\n      element.async = false;\n      element.src = url;\n      element.type = \"module\";\n      console.debug(\"Bokeh: injecting script tag for BokehJS library: \", url);\n      document.head.appendChild(element);\n    }\n    if (!js_urls.length && !js_modules.length) {\n      on_load()\n    }\n  };\n\n  function inject_raw_css(css) {\n    const element = document.createElement(\"style\");\n    element.appendChild(document.createTextNode(css));\n    document.body.appendChild(element);\n  }\n\n  var js_urls = [\"https://cdn.holoviz.org/panel/0.14.2/dist/bundled/jquery/jquery.slim.min.js\", \"https://cdn.holoviz.org/panel/0.14.2/dist/bundled/plotlyplot/plotly-2.10.1.min.js\", \"https://cdn.bokeh.org/bokeh/release/bokeh-2.4.3.min.js\", \"https://cdn.bokeh.org/bokeh/release/bokeh-gl-2.4.3.min.js\", \"https://cdn.bokeh.org/bokeh/release/bokeh-widgets-2.4.3.min.js\", \"https://cdn.bokeh.org/bokeh/release/bokeh-tables-2.4.3.min.js\", \"https://cdn.bokeh.org/bokeh/release/bokeh-mathjax-2.4.3.min.js\", \"https://unpkg.com/@holoviz/panel@0.14.2/dist/panel.min.js\"];\n  var js_modules = [];\n  var css_urls = [\"https://cdn.holoviz.org/panel/0.14.2/dist/css/debugger.css\", \"https://cdn.holoviz.org/panel/0.14.2/dist/css/alerts.css\", \"https://cdn.holoviz.org/panel/0.14.2/dist/css/card.css\", \"https://cdn.holoviz.org/panel/0.14.2/dist/css/widgets.css\", \"https://cdn.holoviz.org/panel/0.14.2/dist/css/markdown.css\", \"https://cdn.holoviz.org/panel/0.14.2/dist/css/json.css\", \"https://cdn.holoviz.org/panel/0.14.2/dist/css/loading.css\", \"https://cdn.holoviz.org/panel/0.14.2/dist/css/dataframe.css\"];\n  var inline_js = [    function(Bokeh) {\n      inject_raw_css(\"\\n    .bk.pn-loading.arc:before {\\n      background-image: url(\\\"data:image/svg+xml;base64,PHN2ZyB4bWxucz0iaHR0cDovL3d3dy53My5vcmcvMjAwMC9zdmciIHN0eWxlPSJtYXJnaW46IGF1dG87IGJhY2tncm91bmQ6IG5vbmU7IGRpc3BsYXk6IGJsb2NrOyBzaGFwZS1yZW5kZXJpbmc6IGF1dG87IiB2aWV3Qm94PSIwIDAgMTAwIDEwMCIgcHJlc2VydmVBc3BlY3RSYXRpbz0ieE1pZFlNaWQiPiAgPGNpcmNsZSBjeD0iNTAiIGN5PSI1MCIgZmlsbD0ibm9uZSIgc3Ryb2tlPSIjYzNjM2MzIiBzdHJva2Utd2lkdGg9IjEwIiByPSIzNSIgc3Ryb2tlLWRhc2hhcnJheT0iMTY0LjkzMzYxNDMxMzQ2NDE1IDU2Ljk3Nzg3MTQzNzgyMTM4Ij4gICAgPGFuaW1hdGVUcmFuc2Zvcm0gYXR0cmlidXRlTmFtZT0idHJhbnNmb3JtIiB0eXBlPSJyb3RhdGUiIHJlcGVhdENvdW50PSJpbmRlZmluaXRlIiBkdXI9IjFzIiB2YWx1ZXM9IjAgNTAgNTA7MzYwIDUwIDUwIiBrZXlUaW1lcz0iMDsxIj48L2FuaW1hdGVUcmFuc2Zvcm0+ICA8L2NpcmNsZT48L3N2Zz4=\\\");\\n      background-size: auto calc(min(50%, 400px));\\n    }\\n    \");\n    },    function(Bokeh) {\n      inject_raw_css(\"\\n    .bk.panel-markdown-center {\\n      text-align: center\\n    }\\n\\n    .bk.panel-flexbox-center {\\n      justify-content: space-around;\\n      align-items: stretch;\\n      gap: 500px\\n    }\\n    \");\n    },    function(Bokeh) {\n      Bokeh.set_log_level(\"info\");\n    },\nfunction(Bokeh) {} // ensure no trailing comma for IE\n  ];\n\n  function run_inline_js() {\n    if ((root.Bokeh !== undefined) || (force === true)) {\n      for (var i = 0; i < inline_js.length; i++) {\n        inline_js[i].call(root, root.Bokeh);\n      }} else if (Date.now() < root._bokeh_timeout) {\n      setTimeout(run_inline_js, 100);\n    } else if (!root._bokeh_failed_load) {\n      console.log(\"Bokeh: BokehJS failed to load within specified timeout.\");\n      root._bokeh_failed_load = true;\n    }\n  }\n\n  if (root._bokeh_is_loading === 0) {\n    console.debug(\"Bokeh: BokehJS loaded, going straight to plotting\");\n    run_inline_js();\n  } else {\n    load_libs(css_urls, js_urls, js_modules, function() {\n      console.debug(\"Bokeh: BokehJS plotting callback run at\", now());\n      run_inline_js();\n    });\n  }\n}(window));"
     },
     "metadata": {},
     "output_type": "display_data"
    },
    {
     "data": {
      "application/javascript": [
       "\n",
       "if ((window.PyViz === undefined) || (window.PyViz instanceof HTMLElement)) {\n",
       "  window.PyViz = {comms: {}, comm_status:{}, kernels:{}, receivers: {}, plot_index: []}\n",
       "}\n",
       "\n",
       "\n",
       "    function JupyterCommManager() {\n",
       "    }\n",
       "\n",
       "    JupyterCommManager.prototype.register_target = function(plot_id, comm_id, msg_handler) {\n",
       "      if (window.comm_manager || ((window.Jupyter !== undefined) && (Jupyter.notebook.kernel != null))) {\n",
       "        var comm_manager = window.comm_manager || Jupyter.notebook.kernel.comm_manager;\n",
       "        comm_manager.register_target(comm_id, function(comm) {\n",
       "          comm.on_msg(msg_handler);\n",
       "        });\n",
       "      } else if ((plot_id in window.PyViz.kernels) && (window.PyViz.kernels[plot_id])) {\n",
       "        window.PyViz.kernels[plot_id].registerCommTarget(comm_id, function(comm) {\n",
       "          comm.onMsg = msg_handler;\n",
       "        });\n",
       "      } else if (typeof google != 'undefined' && google.colab.kernel != null) {\n",
       "        google.colab.kernel.comms.registerTarget(comm_id, (comm) => {\n",
       "          var messages = comm.messages[Symbol.asyncIterator]();\n",
       "          function processIteratorResult(result) {\n",
       "            var message = result.value;\n",
       "            console.log(message)\n",
       "            var content = {data: message.data, comm_id};\n",
       "            var buffers = []\n",
       "            for (var buffer of message.buffers || []) {\n",
       "              buffers.push(new DataView(buffer))\n",
       "            }\n",
       "            var metadata = message.metadata || {};\n",
       "            var msg = {content, buffers, metadata}\n",
       "            msg_handler(msg);\n",
       "            return messages.next().then(processIteratorResult);\n",
       "          }\n",
       "          return messages.next().then(processIteratorResult);\n",
       "        })\n",
       "      }\n",
       "    }\n",
       "\n",
       "    JupyterCommManager.prototype.get_client_comm = function(plot_id, comm_id, msg_handler) {\n",
       "      if (comm_id in window.PyViz.comms) {\n",
       "        return window.PyViz.comms[comm_id];\n",
       "      } else if (window.comm_manager || ((window.Jupyter !== undefined) && (Jupyter.notebook.kernel != null))) {\n",
       "        var comm_manager = window.comm_manager || Jupyter.notebook.kernel.comm_manager;\n",
       "        var comm = comm_manager.new_comm(comm_id, {}, {}, {}, comm_id);\n",
       "        if (msg_handler) {\n",
       "          comm.on_msg(msg_handler);\n",
       "        }\n",
       "      } else if ((plot_id in window.PyViz.kernels) && (window.PyViz.kernels[plot_id])) {\n",
       "        var comm = window.PyViz.kernels[plot_id].connectToComm(comm_id);\n",
       "        comm.open();\n",
       "        if (msg_handler) {\n",
       "          comm.onMsg = msg_handler;\n",
       "        }\n",
       "      } else if (typeof google != 'undefined' && google.colab.kernel != null) {\n",
       "        var comm_promise = google.colab.kernel.comms.open(comm_id)\n",
       "        comm_promise.then((comm) => {\n",
       "          window.PyViz.comms[comm_id] = comm;\n",
       "          if (msg_handler) {\n",
       "            var messages = comm.messages[Symbol.asyncIterator]();\n",
       "            function processIteratorResult(result) {\n",
       "              var message = result.value;\n",
       "              var content = {data: message.data};\n",
       "              var metadata = message.metadata || {comm_id};\n",
       "              var msg = {content, metadata}\n",
       "              msg_handler(msg);\n",
       "              return messages.next().then(processIteratorResult);\n",
       "            }\n",
       "            return messages.next().then(processIteratorResult);\n",
       "          }\n",
       "        }) \n",
       "        var sendClosure = (data, metadata, buffers, disposeOnDone) => {\n",
       "          return comm_promise.then((comm) => {\n",
       "            comm.send(data, metadata, buffers, disposeOnDone);\n",
       "          });\n",
       "        };\n",
       "        var comm = {\n",
       "          send: sendClosure\n",
       "        };\n",
       "      }\n",
       "      window.PyViz.comms[comm_id] = comm;\n",
       "      return comm;\n",
       "    }\n",
       "    window.PyViz.comm_manager = new JupyterCommManager();\n",
       "    \n",
       "\n",
       "\n",
       "var JS_MIME_TYPE = 'application/javascript';\n",
       "var HTML_MIME_TYPE = 'text/html';\n",
       "var EXEC_MIME_TYPE = 'application/vnd.holoviews_exec.v0+json';\n",
       "var CLASS_NAME = 'output';\n",
       "\n",
       "/**\n",
       " * Render data to the DOM node\n",
       " */\n",
       "function render(props, node) {\n",
       "  var div = document.createElement(\"div\");\n",
       "  var script = document.createElement(\"script\");\n",
       "  node.appendChild(div);\n",
       "  node.appendChild(script);\n",
       "}\n",
       "\n",
       "/**\n",
       " * Handle when a new output is added\n",
       " */\n",
       "function handle_add_output(event, handle) {\n",
       "  var output_area = handle.output_area;\n",
       "  var output = handle.output;\n",
       "  if ((output.data == undefined) || (!output.data.hasOwnProperty(EXEC_MIME_TYPE))) {\n",
       "    return\n",
       "  }\n",
       "  var id = output.metadata[EXEC_MIME_TYPE][\"id\"];\n",
       "  var toinsert = output_area.element.find(\".\" + CLASS_NAME.split(' ')[0]);\n",
       "  if (id !== undefined) {\n",
       "    var nchildren = toinsert.length;\n",
       "    var html_node = toinsert[nchildren-1].children[0];\n",
       "    html_node.innerHTML = output.data[HTML_MIME_TYPE];\n",
       "    var scripts = [];\n",
       "    var nodelist = html_node.querySelectorAll(\"script\");\n",
       "    for (var i in nodelist) {\n",
       "      if (nodelist.hasOwnProperty(i)) {\n",
       "        scripts.push(nodelist[i])\n",
       "      }\n",
       "    }\n",
       "\n",
       "    scripts.forEach( function (oldScript) {\n",
       "      var newScript = document.createElement(\"script\");\n",
       "      var attrs = [];\n",
       "      var nodemap = oldScript.attributes;\n",
       "      for (var j in nodemap) {\n",
       "        if (nodemap.hasOwnProperty(j)) {\n",
       "          attrs.push(nodemap[j])\n",
       "        }\n",
       "      }\n",
       "      attrs.forEach(function(attr) { newScript.setAttribute(attr.name, attr.value) });\n",
       "      newScript.appendChild(document.createTextNode(oldScript.innerHTML));\n",
       "      oldScript.parentNode.replaceChild(newScript, oldScript);\n",
       "    });\n",
       "    if (JS_MIME_TYPE in output.data) {\n",
       "      toinsert[nchildren-1].children[1].textContent = output.data[JS_MIME_TYPE];\n",
       "    }\n",
       "    output_area._hv_plot_id = id;\n",
       "    if ((window.Bokeh !== undefined) && (id in Bokeh.index)) {\n",
       "      window.PyViz.plot_index[id] = Bokeh.index[id];\n",
       "    } else {\n",
       "      window.PyViz.plot_index[id] = null;\n",
       "    }\n",
       "  } else if (output.metadata[EXEC_MIME_TYPE][\"server_id\"] !== undefined) {\n",
       "    var bk_div = document.createElement(\"div\");\n",
       "    bk_div.innerHTML = output.data[HTML_MIME_TYPE];\n",
       "    var script_attrs = bk_div.children[0].attributes;\n",
       "    for (var i = 0; i < script_attrs.length; i++) {\n",
       "      toinsert[toinsert.length - 1].childNodes[1].setAttribute(script_attrs[i].name, script_attrs[i].value);\n",
       "    }\n",
       "    // store reference to server id on output_area\n",
       "    output_area._bokeh_server_id = output.metadata[EXEC_MIME_TYPE][\"server_id\"];\n",
       "  }\n",
       "}\n",
       "\n",
       "/**\n",
       " * Handle when an output is cleared or removed\n",
       " */\n",
       "function handle_clear_output(event, handle) {\n",
       "  var id = handle.cell.output_area._hv_plot_id;\n",
       "  var server_id = handle.cell.output_area._bokeh_server_id;\n",
       "  if (((id === undefined) || !(id in PyViz.plot_index)) && (server_id !== undefined)) { return; }\n",
       "  var comm = window.PyViz.comm_manager.get_client_comm(\"hv-extension-comm\", \"hv-extension-comm\", function () {});\n",
       "  if (server_id !== null) {\n",
       "    comm.send({event_type: 'server_delete', 'id': server_id});\n",
       "    return;\n",
       "  } else if (comm !== null) {\n",
       "    comm.send({event_type: 'delete', 'id': id});\n",
       "  }\n",
       "  delete PyViz.plot_index[id];\n",
       "  if ((window.Bokeh !== undefined) & (id in window.Bokeh.index)) {\n",
       "    var doc = window.Bokeh.index[id].model.document\n",
       "    doc.clear();\n",
       "    const i = window.Bokeh.documents.indexOf(doc);\n",
       "    if (i > -1) {\n",
       "      window.Bokeh.documents.splice(i, 1);\n",
       "    }\n",
       "  }\n",
       "}\n",
       "\n",
       "/**\n",
       " * Handle kernel restart event\n",
       " */\n",
       "function handle_kernel_cleanup(event, handle) {\n",
       "  delete PyViz.comms[\"hv-extension-comm\"];\n",
       "  window.PyViz.plot_index = {}\n",
       "}\n",
       "\n",
       "/**\n",
       " * Handle update_display_data messages\n",
       " */\n",
       "function handle_update_output(event, handle) {\n",
       "  handle_clear_output(event, {cell: {output_area: handle.output_area}})\n",
       "  handle_add_output(event, handle)\n",
       "}\n",
       "\n",
       "function register_renderer(events, OutputArea) {\n",
       "  function append_mime(data, metadata, element) {\n",
       "    // create a DOM node to render to\n",
       "    var toinsert = this.create_output_subarea(\n",
       "    metadata,\n",
       "    CLASS_NAME,\n",
       "    EXEC_MIME_TYPE\n",
       "    );\n",
       "    this.keyboard_manager.register_events(toinsert);\n",
       "    // Render to node\n",
       "    var props = {data: data, metadata: metadata[EXEC_MIME_TYPE]};\n",
       "    render(props, toinsert[0]);\n",
       "    element.append(toinsert);\n",
       "    return toinsert\n",
       "  }\n",
       "\n",
       "  events.on('output_added.OutputArea', handle_add_output);\n",
       "  events.on('output_updated.OutputArea', handle_update_output);\n",
       "  events.on('clear_output.CodeCell', handle_clear_output);\n",
       "  events.on('delete.Cell', handle_clear_output);\n",
       "  events.on('kernel_ready.Kernel', handle_kernel_cleanup);\n",
       "\n",
       "  OutputArea.prototype.register_mime_type(EXEC_MIME_TYPE, append_mime, {\n",
       "    safe: true,\n",
       "    index: 0\n",
       "  });\n",
       "}\n",
       "\n",
       "if (window.Jupyter !== undefined) {\n",
       "  try {\n",
       "    var events = require('base/js/events');\n",
       "    var OutputArea = require('notebook/js/outputarea').OutputArea;\n",
       "    if (OutputArea.prototype.mime_types().indexOf(EXEC_MIME_TYPE) == -1) {\n",
       "      register_renderer(events, OutputArea);\n",
       "    }\n",
       "  } catch(err) {\n",
       "  }\n",
       "}\n"
      ],
      "application/vnd.holoviews_load.v0+json": "\nif ((window.PyViz === undefined) || (window.PyViz instanceof HTMLElement)) {\n  window.PyViz = {comms: {}, comm_status:{}, kernels:{}, receivers: {}, plot_index: []}\n}\n\n\n    function JupyterCommManager() {\n    }\n\n    JupyterCommManager.prototype.register_target = function(plot_id, comm_id, msg_handler) {\n      if (window.comm_manager || ((window.Jupyter !== undefined) && (Jupyter.notebook.kernel != null))) {\n        var comm_manager = window.comm_manager || Jupyter.notebook.kernel.comm_manager;\n        comm_manager.register_target(comm_id, function(comm) {\n          comm.on_msg(msg_handler);\n        });\n      } else if ((plot_id in window.PyViz.kernels) && (window.PyViz.kernels[plot_id])) {\n        window.PyViz.kernels[plot_id].registerCommTarget(comm_id, function(comm) {\n          comm.onMsg = msg_handler;\n        });\n      } else if (typeof google != 'undefined' && google.colab.kernel != null) {\n        google.colab.kernel.comms.registerTarget(comm_id, (comm) => {\n          var messages = comm.messages[Symbol.asyncIterator]();\n          function processIteratorResult(result) {\n            var message = result.value;\n            console.log(message)\n            var content = {data: message.data, comm_id};\n            var buffers = []\n            for (var buffer of message.buffers || []) {\n              buffers.push(new DataView(buffer))\n            }\n            var metadata = message.metadata || {};\n            var msg = {content, buffers, metadata}\n            msg_handler(msg);\n            return messages.next().then(processIteratorResult);\n          }\n          return messages.next().then(processIteratorResult);\n        })\n      }\n    }\n\n    JupyterCommManager.prototype.get_client_comm = function(plot_id, comm_id, msg_handler) {\n      if (comm_id in window.PyViz.comms) {\n        return window.PyViz.comms[comm_id];\n      } else if (window.comm_manager || ((window.Jupyter !== undefined) && (Jupyter.notebook.kernel != null))) {\n        var comm_manager = window.comm_manager || Jupyter.notebook.kernel.comm_manager;\n        var comm = comm_manager.new_comm(comm_id, {}, {}, {}, comm_id);\n        if (msg_handler) {\n          comm.on_msg(msg_handler);\n        }\n      } else if ((plot_id in window.PyViz.kernels) && (window.PyViz.kernels[plot_id])) {\n        var comm = window.PyViz.kernels[plot_id].connectToComm(comm_id);\n        comm.open();\n        if (msg_handler) {\n          comm.onMsg = msg_handler;\n        }\n      } else if (typeof google != 'undefined' && google.colab.kernel != null) {\n        var comm_promise = google.colab.kernel.comms.open(comm_id)\n        comm_promise.then((comm) => {\n          window.PyViz.comms[comm_id] = comm;\n          if (msg_handler) {\n            var messages = comm.messages[Symbol.asyncIterator]();\n            function processIteratorResult(result) {\n              var message = result.value;\n              var content = {data: message.data};\n              var metadata = message.metadata || {comm_id};\n              var msg = {content, metadata}\n              msg_handler(msg);\n              return messages.next().then(processIteratorResult);\n            }\n            return messages.next().then(processIteratorResult);\n          }\n        }) \n        var sendClosure = (data, metadata, buffers, disposeOnDone) => {\n          return comm_promise.then((comm) => {\n            comm.send(data, metadata, buffers, disposeOnDone);\n          });\n        };\n        var comm = {\n          send: sendClosure\n        };\n      }\n      window.PyViz.comms[comm_id] = comm;\n      return comm;\n    }\n    window.PyViz.comm_manager = new JupyterCommManager();\n    \n\n\nvar JS_MIME_TYPE = 'application/javascript';\nvar HTML_MIME_TYPE = 'text/html';\nvar EXEC_MIME_TYPE = 'application/vnd.holoviews_exec.v0+json';\nvar CLASS_NAME = 'output';\n\n/**\n * Render data to the DOM node\n */\nfunction render(props, node) {\n  var div = document.createElement(\"div\");\n  var script = document.createElement(\"script\");\n  node.appendChild(div);\n  node.appendChild(script);\n}\n\n/**\n * Handle when a new output is added\n */\nfunction handle_add_output(event, handle) {\n  var output_area = handle.output_area;\n  var output = handle.output;\n  if ((output.data == undefined) || (!output.data.hasOwnProperty(EXEC_MIME_TYPE))) {\n    return\n  }\n  var id = output.metadata[EXEC_MIME_TYPE][\"id\"];\n  var toinsert = output_area.element.find(\".\" + CLASS_NAME.split(' ')[0]);\n  if (id !== undefined) {\n    var nchildren = toinsert.length;\n    var html_node = toinsert[nchildren-1].children[0];\n    html_node.innerHTML = output.data[HTML_MIME_TYPE];\n    var scripts = [];\n    var nodelist = html_node.querySelectorAll(\"script\");\n    for (var i in nodelist) {\n      if (nodelist.hasOwnProperty(i)) {\n        scripts.push(nodelist[i])\n      }\n    }\n\n    scripts.forEach( function (oldScript) {\n      var newScript = document.createElement(\"script\");\n      var attrs = [];\n      var nodemap = oldScript.attributes;\n      for (var j in nodemap) {\n        if (nodemap.hasOwnProperty(j)) {\n          attrs.push(nodemap[j])\n        }\n      }\n      attrs.forEach(function(attr) { newScript.setAttribute(attr.name, attr.value) });\n      newScript.appendChild(document.createTextNode(oldScript.innerHTML));\n      oldScript.parentNode.replaceChild(newScript, oldScript);\n    });\n    if (JS_MIME_TYPE in output.data) {\n      toinsert[nchildren-1].children[1].textContent = output.data[JS_MIME_TYPE];\n    }\n    output_area._hv_plot_id = id;\n    if ((window.Bokeh !== undefined) && (id in Bokeh.index)) {\n      window.PyViz.plot_index[id] = Bokeh.index[id];\n    } else {\n      window.PyViz.plot_index[id] = null;\n    }\n  } else if (output.metadata[EXEC_MIME_TYPE][\"server_id\"] !== undefined) {\n    var bk_div = document.createElement(\"div\");\n    bk_div.innerHTML = output.data[HTML_MIME_TYPE];\n    var script_attrs = bk_div.children[0].attributes;\n    for (var i = 0; i < script_attrs.length; i++) {\n      toinsert[toinsert.length - 1].childNodes[1].setAttribute(script_attrs[i].name, script_attrs[i].value);\n    }\n    // store reference to server id on output_area\n    output_area._bokeh_server_id = output.metadata[EXEC_MIME_TYPE][\"server_id\"];\n  }\n}\n\n/**\n * Handle when an output is cleared or removed\n */\nfunction handle_clear_output(event, handle) {\n  var id = handle.cell.output_area._hv_plot_id;\n  var server_id = handle.cell.output_area._bokeh_server_id;\n  if (((id === undefined) || !(id in PyViz.plot_index)) && (server_id !== undefined)) { return; }\n  var comm = window.PyViz.comm_manager.get_client_comm(\"hv-extension-comm\", \"hv-extension-comm\", function () {});\n  if (server_id !== null) {\n    comm.send({event_type: 'server_delete', 'id': server_id});\n    return;\n  } else if (comm !== null) {\n    comm.send({event_type: 'delete', 'id': id});\n  }\n  delete PyViz.plot_index[id];\n  if ((window.Bokeh !== undefined) & (id in window.Bokeh.index)) {\n    var doc = window.Bokeh.index[id].model.document\n    doc.clear();\n    const i = window.Bokeh.documents.indexOf(doc);\n    if (i > -1) {\n      window.Bokeh.documents.splice(i, 1);\n    }\n  }\n}\n\n/**\n * Handle kernel restart event\n */\nfunction handle_kernel_cleanup(event, handle) {\n  delete PyViz.comms[\"hv-extension-comm\"];\n  window.PyViz.plot_index = {}\n}\n\n/**\n * Handle update_display_data messages\n */\nfunction handle_update_output(event, handle) {\n  handle_clear_output(event, {cell: {output_area: handle.output_area}})\n  handle_add_output(event, handle)\n}\n\nfunction register_renderer(events, OutputArea) {\n  function append_mime(data, metadata, element) {\n    // create a DOM node to render to\n    var toinsert = this.create_output_subarea(\n    metadata,\n    CLASS_NAME,\n    EXEC_MIME_TYPE\n    );\n    this.keyboard_manager.register_events(toinsert);\n    // Render to node\n    var props = {data: data, metadata: metadata[EXEC_MIME_TYPE]};\n    render(props, toinsert[0]);\n    element.append(toinsert);\n    return toinsert\n  }\n\n  events.on('output_added.OutputArea', handle_add_output);\n  events.on('output_updated.OutputArea', handle_update_output);\n  events.on('clear_output.CodeCell', handle_clear_output);\n  events.on('delete.Cell', handle_clear_output);\n  events.on('kernel_ready.Kernel', handle_kernel_cleanup);\n\n  OutputArea.prototype.register_mime_type(EXEC_MIME_TYPE, append_mime, {\n    safe: true,\n    index: 0\n  });\n}\n\nif (window.Jupyter !== undefined) {\n  try {\n    var events = require('base/js/events');\n    var OutputArea = require('notebook/js/outputarea').OutputArea;\n    if (OutputArea.prototype.mime_types().indexOf(EXEC_MIME_TYPE) == -1) {\n      register_renderer(events, OutputArea);\n    }\n  } catch(err) {\n  }\n}\n"
     },
     "metadata": {},
     "output_type": "display_data"
    },
    {
     "data": {
      "text/html": [
       "<style>.bk-root, .bk-root .bk:before, .bk-root .bk:after {\n",
       "  font-family: var(--jp-ui-font-size1);\n",
       "  font-size: var(--jp-ui-font-size1);\n",
       "  color: var(--jp-ui-font-color1);\n",
       "}\n",
       "</style>"
      ]
     },
     "metadata": {},
     "output_type": "display_data"
    }
   ],
   "source": [
    "# Let's define a couple of CSS class to center our text and flexbox elements\n",
    "pn.extension(\n",
    "    raw_css=[\n",
    "        \"\"\"\n",
    "    .bk.panel-markdown-center {\n",
    "      text-align: center\n",
    "    }\n",
    "\n",
    "    .bk.panel-flexbox-center {\n",
    "      justify-content: space-around;\n",
    "      align-items: stretch;\n",
    "      gap: 500px\n",
    "    }\n",
    "    \"\"\"\n",
    "    ]\n",
    ")\n",
    "\n",
    "\n",
    "panel = pn.Column(\n",
    "    pn.Row(\n",
    "        pn.Spacer(width=100),\n",
    "        pn.pane.Markdown(\n",
    "            \"\"\"\n",
    "            # > Forecasting Made Simple\n",
    "            <br/><br/>\n",
    "            This simple app prepares a business forecast that can be shared, opened by\n",
    "            anyone with a browser, customised and exported. \n",
    "            <br/><br/>\n",
    "            It uses no servers, databases, or licenses! All you need are the four Ps:\n",
    "            Python, [Prophet](https://facebook.github.io/prophet/) for time-series\n",
    "            forecasting, [Plotly](https://plotly.com/) for data visualisation, and \n",
    "            [Panel](https://panel.holoviz.org/) for dashboarding. \n",
    "            \"\"\",\n",
    "            max_width=600,\n",
    "            sizing_mode=\"stretch_width\",\n",
    "        ),\n",
    "        pn.Spacer(width=100),\n",
    "        align=\"center\",\n",
    "        sizing_mode=\"stretch_width\",\n",
    "        css_classes=[\"panel-markdown-center\"],\n",
    "        margin=0,\n",
    "    ),\n",
    "    pn.Row(\n",
    "        pn.pane.PNG(\n",
    "            \"./logo_prophet.png\",\n",
    "            link_url=\"https://facebook.github.io/prophet/\",\n",
    "            alt_text=\"Prophet\",\n",
    "            width=80,\n",
    "            margin=(0, 25),\n",
    "        ),\n",
    "        pn.pane.PNG(\n",
    "            \"./logo_plotly.png\",\n",
    "            link_url=\"https://plotly.com/\",\n",
    "            alt_text=\"Plotly\",\n",
    "            width=80,\n",
    "            margin=(0, 25),\n",
    "        ),\n",
    "        pn.pane.PNG(\n",
    "            \"./logo_panel.png\",\n",
    "            link_url=\"https://panel.holoviz.org/\",\n",
    "            alt_text=\"Panel\",\n",
    "            width=80,\n",
    "            margin=(0, 25),\n",
    "        ),\n",
    "        align=\"center\",\n",
    "    ),\n",
    "    pn.Row(\n",
    "        pn.pane.Markdown(\n",
    "            \"\"\"\n",
    "            <br/><br/><br/> \n",
    "            ## Historical data\n",
    "            \n",
    "            \"\"\",\n",
    "        ),\n",
    "        align=\"center\",\n",
    "        css_classes=[\"panel-markdown-center\"],\n",
    "    ),\n",
    "    pn.FlexBox(\n",
    "        pn.Column(\n",
    "            forecaster.plot_historical_sales,\n",
    "        ),\n",
    "        pn.Column(\n",
    "            pn.pane.Markdown(\n",
    "                \"\"\"\n",
    "                We can see that our turnover is characterised by a pattern of **yearly\n",
    "                seasonality**, an **increasing trend** across time and contains a\n",
    "                couple of potentially misleading **outliers**. \n",
    "                <br/><br/>\n",
    "                \"\"\",\n",
    "                align=\"center\",\n",
    "            ),\n",
    "            css_classes=[\"panel-markdown-center\"],\n",
    "        ),\n",
    "        justify_content=\"space-around\",\n",
    "        align_items=\"center\",\n",
    "    ),\n",
    "    pn.Row(\n",
    "        pn.pane.Markdown(\n",
    "            \"\"\"\n",
    "            ## Forecast\n",
    "\n",
    "            Let's use Prophet and what we learned about our data to forecast our \n",
    "            turnover. \n",
    "            <br/><br/>\n",
    "            Use the buttons below to see the effect of changing the assumptions\n",
    "            that our forecast makes. When you're satisfied with the forecast, use \n",
    "            the download button below to export it.\n",
    "            \"\"\",\n",
    "            max_width=650,\n",
    "            sizing_mode=\"stretch_width\",\n",
    "            css_classes=[\"panel-markdown-center\"],\n",
    "        ),\n",
    "        align=\"center\",\n",
    "        sizing_mode=\"stretch_width\",\n",
    "    ),\n",
    "    pn.FlexBox(\n",
    "        pn.Column(\n",
    "            pn.Param(\n",
    "                forecaster.param.toggle_seasonality,\n",
    "                widgets={\"toggle_seasonality\": pn.widgets.Toggle},\n",
    "            ),\n",
    "            pn.Param(\n",
    "                forecaster.param.toggle_trend,\n",
    "                widgets={\"toggle_trend\": pn.widgets.Toggle},\n",
    "            ),\n",
    "            pn.Param(\n",
    "                forecaster.param.toggle_outliers,\n",
    "                widgets={\"toggle_outliers\": pn.widgets.Toggle},\n",
    "            ),\n",
    "            forecaster.param.periods,\n",
    "            align=\"center\",\n",
    "        ),\n",
    "        pn.Column(pn.Row(forecaster.plot_sales_forecast, align=\"center\")),\n",
    "        justify_content=\"space-around\",\n",
    "        align_items=\"center\",\n",
    "    ),\n",
    "    pn.widgets.FileDownload(\n",
    "        filename=\"data.csv\",\n",
    "        callback=forecaster.get_csv,\n",
    "        button_type=\"primary\",\n",
    "        label=\"Download\",\n",
    "        align=\"center\",\n",
    "        max_width=300,\n",
    "        embed=True,\n",
    "    ),\n",
    "    sizing_mode=\"stretch_width\",\n",
    ")"
   ]
  },
  {
   "cell_type": "markdown",
   "metadata": {},
   "source": [
    "Now we can render the dashboard right here in this notebook!"
   ]
  },
  {
   "cell_type": "code",
   "execution_count": 17,
   "metadata": {
    "scrolled": false
   },
   "outputs": [
    {
     "data": {},
     "metadata": {},
     "output_type": "display_data"
    },
    {
     "data": {
      "application/vnd.holoviews_exec.v0+json": "",
      "text/html": [
       "<div id='1002'>\n",
       "  <div class=\"bk-root\" id=\"4cf7b7f0-27e5-4f16-ba2b-0ae9e5f1d739\" data-root-id=\"1002\"></div>\n",
       "</div>\n",
       "<script type=\"application/javascript\">(function(root) {\n",
       "  function embed_document(root) {\n",
       "    var docs_json = {\"e21ea7cc-3e13-49df-a189-793a3bdf443e\":{\"defs\":[{\"extends\":null,\"module\":null,\"name\":\"ReactiveHTML1\",\"overrides\":[],\"properties\":[]},{\"extends\":null,\"module\":null,\"name\":\"FlexBox1\",\"overrides\":[],\"properties\":[{\"default\":\"flex-start\",\"kind\":null,\"name\":\"align_content\"},{\"default\":\"flex-start\",\"kind\":null,\"name\":\"align_items\"},{\"default\":\"row\",\"kind\":null,\"name\":\"flex_direction\"},{\"default\":\"wrap\",\"kind\":null,\"name\":\"flex_wrap\"},{\"default\":\"flex-start\",\"kind\":null,\"name\":\"justify_content\"}]},{\"extends\":null,\"module\":null,\"name\":\"GridStack1\",\"overrides\":[],\"properties\":[{\"default\":\"warn\",\"kind\":null,\"name\":\"mode\"},{\"default\":null,\"kind\":null,\"name\":\"ncols\"},{\"default\":null,\"kind\":null,\"name\":\"nrows\"},{\"default\":true,\"kind\":null,\"name\":\"allow_resize\"},{\"default\":true,\"kind\":null,\"name\":\"allow_drag\"},{\"default\":[],\"kind\":null,\"name\":\"state\"}]},{\"extends\":null,\"module\":null,\"name\":\"click1\",\"overrides\":[],\"properties\":[{\"default\":\"\",\"kind\":null,\"name\":\"terminal_output\"},{\"default\":\"\",\"kind\":null,\"name\":\"debug_name\"},{\"default\":0,\"kind\":null,\"name\":\"clears\"}]},{\"extends\":null,\"module\":null,\"name\":\"NotificationAreaBase1\",\"overrides\":[],\"properties\":[{\"default\":\"bottom-right\",\"kind\":null,\"name\":\"position\"},{\"default\":0,\"kind\":null,\"name\":\"_clear\"}]},{\"extends\":null,\"module\":null,\"name\":\"NotificationArea1\",\"overrides\":[],\"properties\":[{\"default\":[],\"kind\":null,\"name\":\"notifications\"},{\"default\":\"bottom-right\",\"kind\":null,\"name\":\"position\"},{\"default\":0,\"kind\":null,\"name\":\"_clear\"},{\"default\":[{\"background\":\"#ffc107\",\"icon\":{\"className\":\"fas fa-exclamation-triangle\",\"color\":\"white\",\"tagName\":\"i\"},\"type\":\"warning\"},{\"background\":\"#007bff\",\"icon\":{\"className\":\"fas fa-info-circle\",\"color\":\"white\",\"tagName\":\"i\"},\"type\":\"info\"}],\"kind\":null,\"name\":\"types\"}]},{\"extends\":null,\"module\":null,\"name\":\"Notification\",\"overrides\":[],\"properties\":[{\"default\":null,\"kind\":null,\"name\":\"background\"},{\"default\":3000,\"kind\":null,\"name\":\"duration\"},{\"default\":null,\"kind\":null,\"name\":\"icon\"},{\"default\":\"\",\"kind\":null,\"name\":\"message\"},{\"default\":null,\"kind\":null,\"name\":\"notification_type\"},{\"default\":false,\"kind\":null,\"name\":\"_destroyed\"}]},{\"extends\":null,\"module\":null,\"name\":\"TemplateActions1\",\"overrides\":[],\"properties\":[{\"default\":0,\"kind\":null,\"name\":\"open_modal\"},{\"default\":0,\"kind\":null,\"name\":\"close_modal\"}]},{\"extends\":null,\"module\":null,\"name\":\"MaterialTemplateActions1\",\"overrides\":[],\"properties\":[{\"default\":0,\"kind\":null,\"name\":\"open_modal\"},{\"default\":0,\"kind\":null,\"name\":\"close_modal\"}]}],\"roots\":{\"references\":[{\"attributes\":{\"css_classes\":[\"markdown\"],\"margin\":[5,5,5,5],\"name\":\"Markdown00115\",\"text\":\"&lt;p&gt;&lt;br/&gt;&lt;br/&gt;&lt;br/&gt; &lt;/p&gt;\\n&lt;h2&gt;Historical data&lt;/h2&gt;\"},\"id\":\"1012\",\"type\":\"panel.models.markup.HTML\"},{\"attributes\":{\"children\":[{\"id\":\"1016\"}],\"margin\":[0,0,0,0],\"name\":\"Column00125\"},\"id\":\"1015\",\"type\":\"Column\"},{\"attributes\":{\"end\":36,\"margin\":[5,10,5,10],\"start\":1,\"title\":\"Periods\",\"value\":12},\"id\":\"1034\",\"type\":\"Slider\"},{\"attributes\":{\"children\":[{\"id\":\"1029\"}],\"margin\":[5,5,5,5],\"min_width\":300,\"name\":\"Forecaster\",\"width\":300},\"id\":\"1028\",\"type\":\"Column\"},{\"attributes\":{},\"id\":\"1045\",\"type\":\"UnionRenderers\"},{\"attributes\":{\"data\":[{\"hovertemplate\":\"Month = %{x|%b %Y}<br>Sales = \\u20ac%{y:.2s}<br><extra></extra>\",\"legendgroup\":\"\",\"line\":{\"color\":\"#636efa\",\"dash\":\"solid\"},\"marker\":{\"symbol\":\"circle\"},\"mode\":\"lines\",\"name\":\"\",\"orientation\":\"v\",\"showlegend\":false,\"type\":\"scatter\",\"xaxis\":\"x\",\"yaxis\":\"y\"},{\"hovertemplate\":\"Month = %{x|%b %Y}<br>Sales = \\u20ac%{y:.2s}<br><extra></extra>\",\"legendgroup\":\"#636efa\",\"marker\":{\"color\":\"#636efa\",\"symbol\":\"circle\"},\"mode\":\"markers\",\"name\":\"#636efa\",\"orientation\":\"v\",\"showlegend\":true,\"type\":\"scatter\",\"xaxis\":\"x\",\"yaxis\":\"y\"},{\"hovertemplate\":\"Month = %{x|%b %Y}<br>Sales = \\u20ac%{y:.2s}<br><extra></extra>\",\"legendgroup\":\"red\",\"marker\":{\"color\":\"#EF553B\",\"symbol\":\"circle\"},\"mode\":\"markers\",\"name\":\"red\",\"orientation\":\"v\",\"showlegend\":true,\"type\":\"scatter\",\"xaxis\":\"x\",\"yaxis\":\"y\"}],\"data_sources\":[{\"id\":\"1017\"},{\"id\":\"1018\"},{\"id\":\"1019\"}],\"layout\":{\"legend\":{\"tracegroupgap\":0},\"margin\":{\"b\":20,\"l\":20,\"r\":20,\"t\":30},\"showlegend\":false,\"template\":{\"data\":{\"bar\":[{\"error_x\":{\"color\":\"#2a3f5f\"},\"error_y\":{\"color\":\"#2a3f5f\"},\"marker\":{\"line\":{\"color\":\"#E5ECF6\",\"width\":0.5},\"pattern\":{\"fillmode\":\"overlay\",\"size\":10,\"solidity\":0.2}},\"type\":\"bar\"}],\"barpolar\":[{\"marker\":{\"line\":{\"color\":\"#E5ECF6\",\"width\":0.5},\"pattern\":{\"fillmode\":\"overlay\",\"size\":10,\"solidity\":0.2}},\"type\":\"barpolar\"}],\"carpet\":[{\"aaxis\":{\"endlinecolor\":\"#2a3f5f\",\"gridcolor\":\"white\",\"linecolor\":\"white\",\"minorgridcolor\":\"white\",\"startlinecolor\":\"#2a3f5f\"},\"baxis\":{\"endlinecolor\":\"#2a3f5f\",\"gridcolor\":\"white\",\"linecolor\":\"white\",\"minorgridcolor\":\"white\",\"startlinecolor\":\"#2a3f5f\"},\"type\":\"carpet\"}],\"choropleth\":[{\"colorbar\":{\"outlinewidth\":0,\"ticks\":\"\"},\"type\":\"choropleth\"}],\"contour\":[{\"colorbar\":{\"outlinewidth\":0,\"ticks\":\"\"},\"colorscale\":[[0.0,\"#0d0887\"],[0.1111111111111111,\"#46039f\"],[0.2222222222222222,\"#7201a8\"],[0.3333333333333333,\"#9c179e\"],[0.4444444444444444,\"#bd3786\"],[0.5555555555555556,\"#d8576b\"],[0.6666666666666666,\"#ed7953\"],[0.7777777777777778,\"#fb9f3a\"],[0.8888888888888888,\"#fdca26\"],[1.0,\"#f0f921\"]],\"type\":\"contour\"}],\"contourcarpet\":[{\"colorbar\":{\"outlinewidth\":0,\"ticks\":\"\"},\"type\":\"contourcarpet\"}],\"heatmap\":[{\"colorbar\":{\"outlinewidth\":0,\"ticks\":\"\"},\"colorscale\":[[0.0,\"#0d0887\"],[0.1111111111111111,\"#46039f\"],[0.2222222222222222,\"#7201a8\"],[0.3333333333333333,\"#9c179e\"],[0.4444444444444444,\"#bd3786\"],[0.5555555555555556,\"#d8576b\"],[0.6666666666666666,\"#ed7953\"],[0.7777777777777778,\"#fb9f3a\"],[0.8888888888888888,\"#fdca26\"],[1.0,\"#f0f921\"]],\"type\":\"heatmap\"}],\"heatmapgl\":[{\"colorbar\":{\"outlinewidth\":0,\"ticks\":\"\"},\"colorscale\":[[0.0,\"#0d0887\"],[0.1111111111111111,\"#46039f\"],[0.2222222222222222,\"#7201a8\"],[0.3333333333333333,\"#9c179e\"],[0.4444444444444444,\"#bd3786\"],[0.5555555555555556,\"#d8576b\"],[0.6666666666666666,\"#ed7953\"],[0.7777777777777778,\"#fb9f3a\"],[0.8888888888888888,\"#fdca26\"],[1.0,\"#f0f921\"]],\"type\":\"heatmapgl\"}],\"histogram\":[{\"marker\":{\"pattern\":{\"fillmode\":\"overlay\",\"size\":10,\"solidity\":0.2}},\"type\":\"histogram\"}],\"histogram2d\":[{\"colorbar\":{\"outlinewidth\":0,\"ticks\":\"\"},\"colorscale\":[[0.0,\"#0d0887\"],[0.1111111111111111,\"#46039f\"],[0.2222222222222222,\"#7201a8\"],[0.3333333333333333,\"#9c179e\"],[0.4444444444444444,\"#bd3786\"],[0.5555555555555556,\"#d8576b\"],[0.6666666666666666,\"#ed7953\"],[0.7777777777777778,\"#fb9f3a\"],[0.8888888888888888,\"#fdca26\"],[1.0,\"#f0f921\"]],\"type\":\"histogram2d\"}],\"histogram2dcontour\":[{\"colorbar\":{\"outlinewidth\":0,\"ticks\":\"\"},\"colorscale\":[[0.0,\"#0d0887\"],[0.1111111111111111,\"#46039f\"],[0.2222222222222222,\"#7201a8\"],[0.3333333333333333,\"#9c179e\"],[0.4444444444444444,\"#bd3786\"],[0.5555555555555556,\"#d8576b\"],[0.6666666666666666,\"#ed7953\"],[0.7777777777777778,\"#fb9f3a\"],[0.8888888888888888,\"#fdca26\"],[1.0,\"#f0f921\"]],\"type\":\"histogram2dcontour\"}],\"mesh3d\":[{\"colorbar\":{\"outlinewidth\":0,\"ticks\":\"\"},\"type\":\"mesh3d\"}],\"parcoords\":[{\"line\":{\"colorbar\":{\"outlinewidth\":0,\"ticks\":\"\"}},\"type\":\"parcoords\"}],\"pie\":[{\"automargin\":true,\"type\":\"pie\"}],\"scatter\":[{\"fillpattern\":{\"fillmode\":\"overlay\",\"size\":10,\"solidity\":0.2},\"type\":\"scatter\"}],\"scatter3d\":[{\"line\":{\"colorbar\":{\"outlinewidth\":0,\"ticks\":\"\"}},\"marker\":{\"colorbar\":{\"outlinewidth\":0,\"ticks\":\"\"}},\"type\":\"scatter3d\"}],\"scattercarpet\":[{\"marker\":{\"colorbar\":{\"outlinewidth\":0,\"ticks\":\"\"}},\"type\":\"scattercarpet\"}],\"scattergeo\":[{\"marker\":{\"colorbar\":{\"outlinewidth\":0,\"ticks\":\"\"}},\"type\":\"scattergeo\"}],\"scattergl\":[{\"marker\":{\"colorbar\":{\"outlinewidth\":0,\"ticks\":\"\"}},\"type\":\"scattergl\"}],\"scattermapbox\":[{\"marker\":{\"colorbar\":{\"outlinewidth\":0,\"ticks\":\"\"}},\"type\":\"scattermapbox\"}],\"scatterpolar\":[{\"marker\":{\"colorbar\":{\"outlinewidth\":0,\"ticks\":\"\"}},\"type\":\"scatterpolar\"}],\"scatterpolargl\":[{\"marker\":{\"colorbar\":{\"outlinewidth\":0,\"ticks\":\"\"}},\"type\":\"scatterpolargl\"}],\"scatterternary\":[{\"marker\":{\"colorbar\":{\"outlinewidth\":0,\"ticks\":\"\"}},\"type\":\"scatterternary\"}],\"surface\":[{\"colorbar\":{\"outlinewidth\":0,\"ticks\":\"\"},\"colorscale\":[[0.0,\"#0d0887\"],[0.1111111111111111,\"#46039f\"],[0.2222222222222222,\"#7201a8\"],[0.3333333333333333,\"#9c179e\"],[0.4444444444444444,\"#bd3786\"],[0.5555555555555556,\"#d8576b\"],[0.6666666666666666,\"#ed7953\"],[0.7777777777777778,\"#fb9f3a\"],[0.8888888888888888,\"#fdca26\"],[1.0,\"#f0f921\"]],\"type\":\"surface\"}],\"table\":[{\"cells\":{\"fill\":{\"color\":\"#EBF0F8\"},\"line\":{\"color\":\"white\"}},\"header\":{\"fill\":{\"color\":\"#C8D4E3\"},\"line\":{\"color\":\"white\"}},\"type\":\"table\"}]},\"layout\":{\"annotationdefaults\":{\"arrowcolor\":\"#2a3f5f\",\"arrowhead\":0,\"arrowwidth\":1},\"autotypenumbers\":\"strict\",\"coloraxis\":{\"colorbar\":{\"outlinewidth\":0,\"ticks\":\"\"}},\"colorscale\":{\"diverging\":[[0,\"#8e0152\"],[0.1,\"#c51b7d\"],[0.2,\"#de77ae\"],[0.3,\"#f1b6da\"],[0.4,\"#fde0ef\"],[0.5,\"#f7f7f7\"],[0.6,\"#e6f5d0\"],[0.7,\"#b8e186\"],[0.8,\"#7fbc41\"],[0.9,\"#4d9221\"],[1,\"#276419\"]],\"sequential\":[[0.0,\"#0d0887\"],[0.1111111111111111,\"#46039f\"],[0.2222222222222222,\"#7201a8\"],[0.3333333333333333,\"#9c179e\"],[0.4444444444444444,\"#bd3786\"],[0.5555555555555556,\"#d8576b\"],[0.6666666666666666,\"#ed7953\"],[0.7777777777777778,\"#fb9f3a\"],[0.8888888888888888,\"#fdca26\"],[1.0,\"#f0f921\"]],\"sequentialminus\":[[0.0,\"#0d0887\"],[0.1111111111111111,\"#46039f\"],[0.2222222222222222,\"#7201a8\"],[0.3333333333333333,\"#9c179e\"],[0.4444444444444444,\"#bd3786\"],[0.5555555555555556,\"#d8576b\"],[0.6666666666666666,\"#ed7953\"],[0.7777777777777778,\"#fb9f3a\"],[0.8888888888888888,\"#fdca26\"],[1.0,\"#f0f921\"]]},\"colorway\":[\"#636efa\",\"#EF553B\",\"#00cc96\",\"#ab63fa\",\"#FFA15A\",\"#19d3f3\",\"#FF6692\",\"#B6E880\",\"#FF97FF\",\"#FECB52\"],\"font\":{\"color\":\"#2a3f5f\"},\"geo\":{\"bgcolor\":\"white\",\"lakecolor\":\"white\",\"landcolor\":\"#E5ECF6\",\"showlakes\":true,\"showland\":true,\"subunitcolor\":\"white\"},\"hoverlabel\":{\"align\":\"left\"},\"hovermode\":\"closest\",\"mapbox\":{\"style\":\"light\"},\"paper_bgcolor\":\"white\",\"plot_bgcolor\":\"#E5ECF6\",\"polar\":{\"angularaxis\":{\"gridcolor\":\"white\",\"linecolor\":\"white\",\"ticks\":\"\"},\"bgcolor\":\"#E5ECF6\",\"radialaxis\":{\"gridcolor\":\"white\",\"linecolor\":\"white\",\"ticks\":\"\"}},\"scene\":{\"xaxis\":{\"backgroundcolor\":\"#E5ECF6\",\"gridcolor\":\"white\",\"gridwidth\":2,\"linecolor\":\"white\",\"showbackground\":true,\"ticks\":\"\",\"zerolinecolor\":\"white\"},\"yaxis\":{\"backgroundcolor\":\"#E5ECF6\",\"gridcolor\":\"white\",\"gridwidth\":2,\"linecolor\":\"white\",\"showbackground\":true,\"ticks\":\"\",\"zerolinecolor\":\"white\"},\"zaxis\":{\"backgroundcolor\":\"#E5ECF6\",\"gridcolor\":\"white\",\"gridwidth\":2,\"linecolor\":\"white\",\"showbackground\":true,\"ticks\":\"\",\"zerolinecolor\":\"white\"}},\"shapedefaults\":{\"line\":{\"color\":\"#2a3f5f\"}},\"ternary\":{\"aaxis\":{\"gridcolor\":\"white\",\"linecolor\":\"white\",\"ticks\":\"\"},\"baxis\":{\"gridcolor\":\"white\",\"linecolor\":\"white\",\"ticks\":\"\"},\"bgcolor\":\"#E5ECF6\",\"caxis\":{\"gridcolor\":\"white\",\"linecolor\":\"white\",\"ticks\":\"\"}},\"title\":{\"x\":0.05},\"xaxis\":{\"automargin\":true,\"gridcolor\":\"white\",\"linecolor\":\"white\",\"ticks\":\"\",\"title\":{\"standoff\":15},\"zerolinecolor\":\"white\",\"zerolinewidth\":2},\"yaxis\":{\"automargin\":true,\"gridcolor\":\"white\",\"linecolor\":\"white\",\"ticks\":\"\",\"title\":{\"standoff\":15},\"zerolinecolor\":\"white\",\"zerolinewidth\":2}}},\"xaxis\":{\"anchor\":\"y\",\"domain\":[0.0,1.0],\"title\":{\"text\":\"Month\"}},\"yaxis\":{\"anchor\":\"x\",\"domain\":[0.0,1.0],\"range\":[0,90000],\"ticksuffix\":\" \",\"title\":{\"text\":\"Sales (\\u20ac)\"}}},\"margin\":[5,5,5,5],\"name\":\"ParamMethod00118\",\"viewport_update_throttle\":200},\"id\":\"1020\",\"type\":\"panel.models.plotly.PlotlyPlot\"},{\"attributes\":{},\"id\":\"1053\",\"type\":\"UnionRenderers\"},{\"attributes\":{\"css_classes\":[\"markdown\"],\"margin\":[5,5,5,5],\"max_width\":600,\"name\":\"Markdown00104\",\"sizing_mode\":\"stretch_width\",\"text\":\"&lt;h1&gt;&amp;gt; Forecasting Made Simple&lt;/h1&gt;\\n&lt;p&gt;&lt;br/&gt;&lt;br/&gt;\\nThis simple app prepares a business forecast that can be shared, opened by\\nanyone with a browser, customised and exported. \\n&lt;br/&gt;&lt;br/&gt;\\nIt uses no servers, databases, or licenses! All you need are the four Ps:\\nPython, &lt;a href=&quot;https://facebook.github.io/prophet/&quot;&gt;Prophet&lt;/a&gt; for time-series\\nforecasting, &lt;a href=&quot;https://plotly.com/&quot;&gt;Plotly&lt;/a&gt; for data visualisation, and \\n&lt;a href=&quot;https://panel.holoviz.org/&quot;&gt;Panel&lt;/a&gt; for dashboarding. &lt;/p&gt;\"},\"id\":\"1005\",\"type\":\"panel.models.markup.HTML\"},{\"attributes\":{\"align\":\"center\",\"children\":[{\"id\":\"1028\"},{\"id\":\"1030\"},{\"id\":\"1032\"},{\"id\":\"1034\"}],\"margin\":[0,0,0,0],\"name\":\"Column00153\"},\"id\":\"1027\",\"type\":\"Column\"},{\"attributes\":{\"active\":true,\"icon\":null,\"label\":\"Toggle trend\",\"margin\":[5,10,5,10]},\"id\":\"1031\",\"type\":\"Toggle\"},{\"attributes\":{\"reload\":false},\"id\":\"1116\",\"type\":\"panel.models.location.Location\"},{\"attributes\":{\"align_items\":\"center\",\"justify_content\":\"space-around\",\"name\":\"FlexBox00163\"},\"id\":\"1025\",\"type\":\"FlexBox1\"},{\"attributes\":{\"active\":true,\"icon\":null,\"label\":\"Toggle outliers\",\"margin\":[5,10,5,10]},\"id\":\"1033\",\"type\":\"Toggle\"},{\"attributes\":{},\"id\":\"1048\",\"type\":\"Selection\"},{\"attributes\":{\"_transfers\":1,\"align\":\"center\",\"auto\":true,\"button_type\":\"primary\",\"data\":\"data:text/plain;charset=UTF-8;base64,TW9udGgsTG93ZXIgQm91bmQsUHJlZGljdGlvbixVcHBlciBCb3VuZAoyMDIzLTAxLTAxLDM3Mjc2LjY5LDQyMDkzLjgzLDQ3MDU1LjM1CjIwMjMtMDItMDEsMzg5MjAuODQsNDQyNzUuNzYsNDkzODAuMwoyMDIzLTAzLTAxLDYwOTQ2LjQ0LDY1OTM3Ljc4LDcxMTEwLjM5CjIwMjMtMDQtMDEsNjg4NTguMjMsNzM3OTYuODMsNzg0ODEuNAoyMDIzLTA1LTAxLDc2NTcxLjk1LDgxNDYzLjM2LDg1OTc4LjcKMjAyMy0wNi0wMSw2NDgxNS40LDcwMDA0LjkxLDc1MTM4LjA0CjIwMjMtMDctMDEsNDY4NDQuMzgsNTIwNjAuOTQsNTc0OTYuMzIKMjAyMy0wOC0wMSwzOTY5Ni4zMyw0NDc3My4wMiw0OTY3OC42NAoyMDIzLTA5LTAxLDM0NTQ0Ljc2LDM5NDk0LjgsNDQzNjMuNjUKMjAyMy0xMC0wMSw1MTE4OS45NCw1NjIyNC43MSw2MTE3NS43MwoyMDIzLTExLTAxLDUwNTA4LjgxLDU1NDUwLjYyLDYwMzY5LjU1CjIwMjMtMTItMDEsNDE1ODMuNjEsNDY1MjkuMDQsNTEzMjcuNDEK\",\"filename\":\"data.csv\",\"label\":\"Download\",\"margin\":[5,10,5,10],\"max_width\":300},\"id\":\"1042\",\"type\":\"panel.models.widgets.FileDownload\"},{\"attributes\":{\"children\":[{\"id\":\"1041\"}],\"margin\":[0,0,0,0],\"name\":\"Row00158\"},\"id\":\"1037\",\"type\":\"Row\"},{\"attributes\":{},\"id\":\"1046\",\"type\":\"Selection\"},{\"attributes\":{\"data\":{\"x\":[[\"2023-01-01 00:00:00\",\"2023-02-01 00:00:00\",\"2023-03-01 00:00:00\",\"2023-04-01 00:00:00\",\"2023-05-01 00:00:00\",\"2023-06-01 00:00:00\",\"2023-07-01 00:00:00\",\"2023-08-01 00:00:00\",\"2023-09-01 00:00:00\",\"2023-10-01 00:00:00\",\"2023-11-01 00:00:00\",\"2023-12-01 00:00:00\"]],\"y\":[{\"__ndarray__\":\"OfB0LpYz4kBPvCzZGgHjQL6wEhBOwu1AX8vEs6PP8EAyBuc2v7HyQGCL88nspe9AgEtZGYzf5kAvcBmpCmLjQLtK0HEY3uBAHPcfC77+6EBrTxHJmanoQAI+EZnzTeRA\",\"dtype\":\"float64\",\"order\":\"little\",\"shape\":[12]}]},\"selected\":{\"id\":\"1052\"},\"selection_policy\":{\"id\":\"1051\"}},\"id\":\"1039\",\"type\":\"ColumnDataSource\"},{\"attributes\":{},\"id\":\"1043\",\"type\":\"UnionRenderers\"},{\"attributes\":{},\"id\":\"1052\",\"type\":\"Selection\"},{\"attributes\":{\"client_comm_id\":\"b80b2f9829b749e38070a6f42ba31939\",\"comm_id\":\"dba5d0d8b165444e8da0793bcdcb9c30\",\"plot_id\":\"1002\"},\"id\":\"1079\",\"type\":\"panel.models.comm_manager.CommManager\"},{\"attributes\":{\"children\":[{\"id\":\"1022\"}],\"css_classes\":[\"panel-markdown-center\"],\"margin\":[0,0,0,0],\"name\":\"Column00128\"},\"id\":\"1021\",\"type\":\"Column\"},{\"attributes\":{},\"id\":\"1054\",\"type\":\"Selection\"},{\"attributes\":{\"align\":\"center\",\"children\":[{\"id\":\"1024\"}],\"margin\":[0,0,0,0],\"name\":\"Row00132\",\"sizing_mode\":\"stretch_width\"},\"id\":\"1023\",\"type\":\"Row\"},{\"attributes\":{\"children\":[{\"id\":\"1033\"}],\"margin\":[5,5,5,5],\"min_width\":300,\"name\":\"Forecaster\",\"width\":300},\"id\":\"1032\",\"type\":\"Column\"},{\"attributes\":{},\"id\":\"1050\",\"type\":\"Selection\"},{\"attributes\":{\"data\":{\"x\":[[\"2023-01-01 00:00:00\",\"2023-02-01 00:00:00\",\"2023-03-01 00:00:00\",\"2023-04-01 00:00:00\",\"2023-05-01 00:00:00\",\"2023-06-01 00:00:00\",\"2023-07-01 00:00:00\",\"2023-08-01 00:00:00\",\"2023-09-01 00:00:00\",\"2023-10-01 00:00:00\",\"2023-11-01 00:00:00\",\"2023-12-01 00:00:00\"]],\"y\":[{\"__ndarray__\":\"0yBek7qN5EB4UStheJ7lQFUkR3ccGfBAac9ZQk0E8kDNbEvCdePzQLx6FJZOF/FAmNVO7Z1r6UCbEA68oNzlQJ63L6XZSONAaQaCwRZ060ABr3m+UxPrQEpQXR8huOZA\",\"dtype\":\"float64\",\"order\":\"little\",\"shape\":[12]}]},\"selected\":{\"id\":\"1054\"},\"selection_policy\":{\"id\":\"1053\"}},\"id\":\"1040\",\"type\":\"ColumnDataSource\"},{\"attributes\":{},\"id\":\"1044\",\"type\":\"Selection\"},{\"attributes\":{\"children\":[{\"id\":\"1031\"}],\"margin\":[5,5,5,5],\"min_width\":300,\"name\":\"Forecaster\",\"width\":300},\"id\":\"1030\",\"type\":\"Column\"},{\"attributes\":{\"children\":[{\"id\":\"1003\"},{\"id\":\"1007\"},{\"id\":\"1011\"},{\"id\":\"1014\"},{\"id\":\"1023\"},{\"id\":\"1026\"},{\"id\":\"1042\"}],\"margin\":[0,0,0,0],\"name\":\"Column00165\",\"sizing_mode\":\"stretch_width\"},\"id\":\"1002\",\"type\":\"Column\"},{\"attributes\":{\"data\":{\"x\":[[\"2023-01-01 00:00:00\",\"2023-02-01 00:00:00\",\"2023-03-01 00:00:00\",\"2023-04-01 00:00:00\",\"2023-05-01 00:00:00\",\"2023-06-01 00:00:00\",\"2023-07-01 00:00:00\",\"2023-08-01 00:00:00\",\"2023-09-01 00:00:00\",\"2023-10-01 00:00:00\",\"2023-11-01 00:00:00\",\"2023-12-01 00:00:00\"]],\"y\":[{\"__ndarray__\":\"wk9wHuv55kC5mR61iRzoQMfysC9mXPFA+7aadRYp80CZms5Dq/30QFukcawgWPJAS5fJSQoT7EABypt81EHoQA7nBNx0qeVAscMwe/fe7UB8YdKXMXrtQIyOHkftD+lA\",\"dtype\":\"float64\",\"order\":\"little\",\"shape\":[12]}]},\"selected\":{\"id\":\"1050\"},\"selection_policy\":{\"id\":\"1049\"}},\"id\":\"1038\",\"type\":\"ColumnDataSource\"},{\"attributes\":{\"align\":\"center\",\"children\":[{\"id\":\"1037\"}],\"margin\":[0,0,0,0],\"name\":\"Row00161\"},\"id\":\"1036\",\"type\":\"Row\"},{\"attributes\":{\"attrs\":{\"flexbox\":[[\"style\",[\"flex_wrap\",\"justify_content\",\"flex_direction\",\"align_content\",\"align_items\"],\"display: flex; flex-wrap: {flex_wrap}; justify-content: {justify_content}; flex-direction: {flex_direction}; align-content: {align_content}; align-items: {align_items}; height: 100%;\"]]},\"children\":{\"flex-item\":[{\"id\":\"1015\"},{\"id\":\"1021\"}]},\"data\":{\"id\":\"1013\"},\"html\":\"&lt;div id=&quot;flexbox-${id}&quot; style=&quot;display: flex; flex-wrap: ${flex_wrap}; justify-content: ${justify_content}; flex-direction: ${flex_direction}; align-content: ${align_content}; align-items: ${align_items}; height: 100%;&quot;&gt;\\n\\n  &lt;div id=&quot;flex-item-0-${id}&quot;&gt;\\n\\n  &lt;/div&gt;\\n\\n  &lt;div id=&quot;flex-item-1-${id}&quot;&gt;\\n\\n  &lt;/div&gt;\\n\\n&lt;/div&gt;\",\"looped\":[\"flex-item\"],\"margin\":[5,5,5,5],\"nodes\":[\"flexbox\",\"flex-item-0\",\"flex-item-1\"],\"scripts\":{\"after_layout\":[\"if (view.parent != null &amp;&amp; view._has_finished &amp;&amp; !state.resizing) {\\n  state.resizing = true\\n  view.parent.invalidate_layout()\\n  state.resizing = false\\n}\"]},\"sizing_mode\":\"stretch_width\",\"subscribed_events\":[\"dom_event\"]},\"id\":\"1014\",\"type\":\"panel.models.reactive_html.ReactiveHTML\"},{\"attributes\":{},\"id\":\"1051\",\"type\":\"UnionRenderers\"},{\"attributes\":{\"data\":{\"customdata\":[[[\"red\"],[\"red\"],[\"red\"],[\"red\"]]],\"x\":[[\"2020-03-01 00:00:00\",\"2020-04-01 00:00:00\",\"2020-05-01 00:00:00\",\"2020-06-01 00:00:00\"]],\"y\":[{\"__ndarray__\":\"AAAAAHipzUCamZmZUTbQQPYoXI/ySc5AmpmZmeEyzUA=\",\"dtype\":\"float64\",\"order\":\"little\",\"shape\":[4]}]},\"selected\":{\"id\":\"1048\"},\"selection_policy\":{\"id\":\"1047\"}},\"id\":\"1019\",\"type\":\"ColumnDataSource\"},{\"attributes\":{\"height\":67,\"margin\":[0,25,0,25],\"name\":\"PNG00112\",\"text\":\"&lt;a href=&quot;https://panel.holoviz.org/&quot; target=&quot;_blank&quot;&gt;&lt;img src=&quot;data:image/png;base64,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&quot; width=&quot;80px&quot; height=&quot;67px&quot; alt=&quot;Panel&quot;&gt;&lt;/img&gt;&lt;/a&gt;\",\"width\":80},\"id\":\"1010\",\"type\":\"panel.models.markup.HTML\"},{\"attributes\":{\"active\":true,\"icon\":null,\"label\":\"Toggle seasonality\",\"margin\":[5,10,5,10]},\"id\":\"1029\",\"type\":\"Toggle\"},{\"attributes\":{\"height\":79,\"margin\":[0,25,0,25],\"name\":\"PNG00108\",\"text\":\"&lt;a href=&quot;https://facebook.github.io/prophet/&quot; target=&quot;_blank&quot;&gt;&lt;img src=&quot;data:image/png;base64,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&quot; width=&quot;80px&quot; height=&quot;79px&quot; alt=&quot;Prophet&quot;&gt;&lt;/img&gt;&lt;/a&gt;\",\"width\":80},\"id\":\"1008\",\"type\":\"panel.models.markup.HTML\"},{\"attributes\":{\"children\":[{\"id\":\"1036\"}],\"margin\":[0,0,0,0],\"name\":\"Column00162\"},\"id\":\"1035\",\"type\":\"Column\"},{\"attributes\":{},\"id\":\"1047\",\"type\":\"UnionRenderers\"},{\"attributes\":{\"css_classes\":[\"panel-markdown-center\",\"markdown\"],\"margin\":[5,5,5,5],\"max_width\":650,\"name\":\"Markdown00130\",\"sizing_mode\":\"stretch_width\",\"text\":\"&lt;h2&gt;Forecast&lt;/h2&gt;\\n&lt;p&gt;Let&amp;rsquo;s use Prophet and what we learned about our data to forecast our \\nturnover. \\n&lt;br/&gt;&lt;br/&gt;\\nUse the buttons below to see the effect of changing the assumptions\\nthat our forecast makes. When you&amp;rsquo;re satisfied with the forecast, use \\nthe download button below to export it.&lt;/p&gt;\"},\"id\":\"1024\",\"type\":\"panel.models.markup.HTML\"},{\"attributes\":{\"align_items\":\"center\",\"justify_content\":\"space-around\",\"name\":\"FlexBox00129\"},\"id\":\"1013\",\"type\":\"FlexBox1\"},{\"attributes\":{},\"id\":\"1049\",\"type\":\"UnionRenderers\"},{\"attributes\":{\"attrs\":{\"flexbox\":[[\"style\",[\"flex_wrap\",\"justify_content\",\"flex_direction\",\"align_content\",\"align_items\"],\"display: flex; flex-wrap: {flex_wrap}; justify-content: {justify_content}; flex-direction: {flex_direction}; align-content: {align_content}; align-items: {align_items}; height: 100%;\"]]},\"children\":{\"flex-item\":[{\"id\":\"1027\"},{\"id\":\"1035\"}]},\"data\":{\"id\":\"1025\"},\"html\":\"&lt;div id=&quot;flexbox-${id}&quot; style=&quot;display: flex; flex-wrap: ${flex_wrap}; justify-content: ${justify_content}; flex-direction: ${flex_direction}; align-content: ${align_content}; align-items: ${align_items}; height: 100%;&quot;&gt;\\n\\n  &lt;div id=&quot;flex-item-0-${id}&quot;&gt;\\n\\n  &lt;/div&gt;\\n\\n  &lt;div id=&quot;flex-item-1-${id}&quot;&gt;\\n\\n  &lt;/div&gt;\\n\\n&lt;/div&gt;\",\"looped\":[\"flex-item\"],\"margin\":[5,5,5,5],\"nodes\":[\"flexbox\",\"flex-item-0\",\"flex-item-1\"],\"scripts\":{\"after_layout\":[\"if (view.parent != null &amp;&amp; view._has_finished &amp;&amp; !state.resizing) {\\n  state.resizing = true\\n  view.parent.invalidate_layout()\\n  state.resizing = false\\n}\"]},\"sizing_mode\":\"stretch_width\",\"subscribed_events\":[\"dom_event\"]},\"id\":\"1026\",\"type\":\"panel.models.reactive_html.ReactiveHTML\"},{\"attributes\":{\"margin\":[5,5,5,5],\"min_width\":100,\"name\":\"Spacer00106\",\"width\":100},\"id\":\"1006\",\"type\":\"Spacer\"},{\"attributes\":{\"align\":\"center\",\"children\":[{\"id\":\"1012\"}],\"css_classes\":[\"panel-markdown-center\"],\"margin\":[0,0,0,0],\"name\":\"Row00117\"},\"id\":\"1011\",\"type\":\"Row\"},{\"attributes\":{\"align\":\"center\",\"children\":[{\"id\":\"1004\"},{\"id\":\"1005\"},{\"id\":\"1006\"}],\"css_classes\":[\"panel-markdown-center\"],\"margin\":[0,0,0,0],\"name\":\"Row00107\",\"sizing_mode\":\"stretch_width\"},\"id\":\"1003\",\"type\":\"Row\"},{\"attributes\":{\"children\":[{\"id\":\"1020\"}],\"margin\":[0,0,0,0],\"name\":\"Row00122\"},\"id\":\"1016\",\"type\":\"Row\"},{\"attributes\":{\"data\":{\"customdata\":[[[\"#636efa\"],[\"#636efa\"],[\"#636efa\"],[\"#636efa\"],[\"#636efa\"],[\"#636efa\"],[\"#636efa\"],[\"#636efa\"],[\"#636efa\"],[\"#636efa\"],[\"#636efa\"],[\"#636efa\"],[\"#636efa\"],[\"#636efa\"],[\"#636efa\"],[\"#636efa\"],[\"#636efa\"],[\"#636efa\"],[\"#636efa\"],[\"#636efa\"],[\"#636efa\"],[\"#636efa\"],[\"#636efa\"],[\"#636efa\"],[\"#636efa\"],[\"#636efa\"],[\"#636efa\"],[\"#636efa\"],[\"#636efa\"],[\"#636efa\"],[\"#636efa\"],[\"#636efa\"],[\"#636efa\"],[\"#636efa\"],[\"#636efa\"],[\"#636efa\"],[\"#636efa\"],[\"#636efa\"],[\"#636efa\"],[\"#636efa\"],[\"#636efa\"],[\"#636efa\"],[\"#636efa\"],[\"#636efa\"],[\"#636efa\"],[\"#636efa\"],[\"#636efa\"],[\"#636efa\"],[\"#636efa\"],[\"#636efa\"],[\"#636efa\"],[\"#636efa\"],[\"#636efa\"],[\"#636efa\"],[\"#636efa\"],[\"#636efa\"],[\"#636efa\"],[\"#636efa\"],[\"#636efa\"],[\"#636efa\"],[\"#636efa\"],[\"#636efa\"],[\"#636efa\"],[\"#636efa\"],[\"#636efa\"],[\"#636efa\"],[\"#636efa\"],[\"#636efa\"],[\"#636efa\"],[\"#636efa\"],[\"#636efa\"],[\"#636efa\"],[\"#636efa\"],[\"#636efa\"],[\"#636efa\"],[\"#636efa\"],[\"#636efa\"],[\"#636efa\"],[\"#636efa\"],[\"#636efa\"],[\"#636efa\"],[\"#636efa\"],[\"#636efa\"],[\"#636efa\"],[\"#636efa\"],[\"#636efa\"],[\"#636efa\"],[\"#636efa\"],[\"#636efa\"],[\"#636efa\"],[\"#636efa\"],[\"#636efa\"],[\"#636efa\"],[\"#636efa\"],[\"#636efa\"],[\"#636efa\"],[\"#636efa\"],[\"#636efa\"],[\"#636efa\"],[\"#636efa\"],[\"#636efa\"],[\"#636efa\"],[\"#636efa\"],[\"#636efa\"]]],\"x\":[[\"2014-01-01 00:00:00\",\"2014-02-01 00:00:00\",\"2014-03-01 00:00:00\",\"2014-04-01 00:00:00\",\"2014-05-01 00:00:00\",\"2014-06-01 00:00:00\",\"2014-07-01 00:00:00\",\"2014-08-01 00:00:00\",\"2014-09-01 00:00:00\",\"2014-10-01 00:00:00\",\"2014-11-01 00:00:00\",\"2014-12-01 00:00:00\",\"2015-01-01 00:00:00\",\"2015-02-01 00:00:00\",\"2015-03-01 00:00:00\",\"2015-04-01 00:00:00\",\"2015-05-01 00:00:00\",\"2015-06-01 00:00:00\",\"2015-07-01 00:00:00\",\"2015-08-01 00:00:00\",\"2015-09-01 00:00:00\",\"2015-10-01 00:00:00\",\"2015-11-01 00:00:00\",\"2015-12-01 00:00:00\",\"2016-01-01 00:00:00\",\"2016-02-01 00:00:00\",\"2016-03-01 00:00:00\",\"2016-04-01 00:00:00\",\"2016-05-01 00:00:00\",\"2016-06-01 00:00:00\",\"2016-07-01 00:00:00\",\"2016-08-01 00:00:00\",\"2016-09-01 00:00:00\",\"2016-10-01 00:00:00\",\"2016-11-01 00:00:00\",\"2016-12-01 00:00:00\",\"2017-01-01 00:00:00\",\"2017-02-01 00:00:00\",\"2017-03-01 00:00:00\",\"2017-04-01 00:00:00\",\"2017-05-01 00:00:00\",\"2017-06-01 00:00:00\",\"2017-07-01 00:00:00\",\"2017-08-01 00:00:00\",\"2017-09-01 00:00:00\",\"2017-10-01 00:00:00\",\"2017-11-01 00:00:00\",\"2017-12-01 00:00:00\",\"2018-01-01 00:00:00\",\"2018-02-01 00:00:00\",\"2018-03-01 00:00:00\",\"2018-04-01 00:00:00\",\"2018-05-01 00:00:00\",\"2018-06-01 00:00:00\",\"2018-07-01 00:00:00\",\"2018-08-01 00:00:00\",\"2018-09-01 00:00:00\",\"2018-10-01 00:00:00\",\"2018-11-01 00:00:00\",\"2018-12-01 00:00:00\",\"2019-01-01 00:00:00\",\"2019-02-01 00:00:00\",\"2019-03-01 00:00:00\",\"2019-04-01 00:00:00\",\"2019-05-01 00:00:00\",\"2019-06-01 00:00:00\",\"2019-07-01 00:00:00\",\"2019-08-01 00:00:00\",\"2019-09-01 00:00:00\",\"2019-10-01 00:00:00\",\"2019-11-01 00:00:00\",\"2019-12-01 00:00:00\",\"2020-01-01 00:00:00\",\"2020-02-01 00:00:00\",\"2020-07-01 00:00:00\",\"2020-08-01 00:00:00\",\"2020-09-01 00:00:00\",\"2020-10-01 00:00:00\",\"2020-11-01 00:00:00\",\"2020-12-01 00:00:00\",\"2021-01-01 00:00:00\",\"2021-02-01 00:00:00\",\"2021-03-01 00:00:00\",\"2021-04-01 00:00:00\",\"2021-05-01 00:00:00\",\"2021-06-01 00:00:00\",\"2021-07-01 00:00:00\",\"2021-08-01 00:00:00\",\"2021-09-01 00:00:00\",\"2021-10-01 00:00:00\",\"2021-11-01 00:00:00\",\"2021-12-01 00:00:00\",\"2022-01-01 00:00:00\",\"2022-02-01 00:00:00\",\"2022-03-01 00:00:00\",\"2022-04-01 00:00:00\",\"2022-05-01 00:00:00\",\"2022-06-01 00:00:00\",\"2022-07-01 00:00:00\",\"2022-08-01 00:00:00\",\"2022-09-01 00:00:00\",\"2022-10-01 00:00:00\",\"2022-11-01 00:00:00\",\"2022-12-01 00:00:00\"]],\"y\":[{\"__ndarray__\":\"KVyPwoUw00CamZmZOZLZQB+F61HYneFAhetRuCYW5UBSuB6FM17lQGZmZma2M+RAH4XrUbjT20CPwvUoXCzYQFyPwvXoptRAcT0K1/P220DNzMzMHG/bQGZmZmY2xthASOF6FP4z1UCPwvUovHbbQJqZmZn5VuFAPQrXowAx5EBxPQrXS1TnQBSuR+HyPuRAPQrXo7hS4EAUrkfhSl3XQHsUrkehS9ZA4XoUrndX3UAAAAAAuLDiQKRwPQo31NlAZmZmZvZH30CPwvUoNAngQAAAAAAQROZAzczMzNTq6ED2KFyPmp3uQFK4HoXjvOdA9ihcj6LJ4UAK16Nw7VvaQLgeheshUNBAZmZmZt7O4ED2KFyPCvThQFyPwvV4Ad9APQrXo4DS30CuR+F65A/gQLgehevxGeVAFK5H4SLa7UAK16NwDXztQI/C9SgMGepAj8L1KJz44UCuR+F6lFHZQGZmZmaWU9dAhetRuIZo5EBSuB6FA1jnQClcj8KVf+JAcT0K1zP44UCPwvUoXETiQAAAAAAQwOtA16NwPSok70DXo3A90h/wQIXrUbj2N+tAuB6F66E65kAzMzMzkzHeQHsUrkchnt9AUrgehROc5UAAAAAAyCXkQArXo3DdMeFAFK5H4erX4UD2KFyP8v3iQFK4HoVbSO1A7FG4HvXv8EApXI/C/T3xQFK4HoWrH+9AexSuR/E/5kDXo3A9qqHlQIXrUbhu699AFK5H4dIX6UApXI/CfezpQI/C9Sg0VehAmpmZmdGQ4kAzMzMzG7HiQHE9CteLiuZAMzMzM3sj5kBSuB6Fc6HjQD0K16O4oudAuB6F69m56UCuR+F6HJDlQLgeheth6OFAmpmZmQkB4UAAAAAAeL3uQJqZmZmB2OxAexSuRzGj8UC4HoXrbTLwQLgeheuR1ORApHA9Ct+t40B7FK5HSevjQClcj8IlLelASOF6FK6c50AK16NwdRbkQFyPwvXQWeNAj8L1KCzg5EDXo3A9MoDtQNejcD3y0u9AFK5H4Zod80CkcD0Kj+LuQHE9CtcDZ+pA4XoUrtd+6EDsUbgedRLlQHE9CtdDQ+9AZmZmZo4q6UBI4XoUZlrlQA==\",\"dtype\":\"float64\",\"order\":\"little\",\"shape\":[104]}]},\"selected\":{\"id\":\"1046\"},\"selection_policy\":{\"id\":\"1045\"}},\"id\":\"1018\",\"type\":\"ColumnDataSource\"},{\"attributes\":{\"align\":\"center\",\"css_classes\":[\"markdown\"],\"margin\":[5,5,5,5],\"name\":\"Markdown00126\",\"text\":\"&lt;p&gt;We can see that our turnover is characterised by a pattern of &lt;strong&gt;yearly\\nseasonality&lt;/strong&gt;, an &lt;strong&gt;increasing trend&lt;/strong&gt; across time and contains a\\ncouple of potentially misleading &lt;strong&gt;outliers&lt;/strong&gt;. \\n&lt;br/&gt;&lt;br/&gt;&lt;/p&gt;\"},\"id\":\"1022\",\"type\":\"panel.models.markup.HTML\"},{\"attributes\":{\"data\":{\"x\":[[\"2014-01-01 00:00:00\",\"2014-02-01 00:00:00\",\"2014-03-01 00:00:00\",\"2014-04-01 00:00:00\",\"2014-05-01 00:00:00\",\"2014-06-01 00:00:00\",\"2014-07-01 00:00:00\",\"2014-08-01 00:00:00\",\"2014-09-01 00:00:00\",\"2014-10-01 00:00:00\",\"2014-11-01 00:00:00\",\"2014-12-01 00:00:00\",\"2015-01-01 00:00:00\",\"2015-02-01 00:00:00\",\"2015-03-01 00:00:00\",\"2015-04-01 00:00:00\",\"2015-05-01 00:00:00\",\"2015-06-01 00:00:00\",\"2015-07-01 00:00:00\",\"2015-08-01 00:00:00\",\"2015-09-01 00:00:00\",\"2015-10-01 00:00:00\",\"2015-11-01 00:00:00\",\"2015-12-01 00:00:00\",\"2016-01-01 00:00:00\",\"2016-02-01 00:00:00\",\"2016-03-01 00:00:00\",\"2016-04-01 00:00:00\",\"2016-05-01 00:00:00\",\"2016-06-01 00:00:00\",\"2016-07-01 00:00:00\",\"2016-08-01 00:00:00\",\"2016-09-01 00:00:00\",\"2016-10-01 00:00:00\",\"2016-11-01 00:00:00\",\"2016-12-01 00:00:00\",\"2017-01-01 00:00:00\",\"2017-02-01 00:00:00\",\"2017-03-01 00:00:00\",\"2017-04-01 00:00:00\",\"2017-05-01 00:00:00\",\"2017-06-01 00:00:00\",\"2017-07-01 00:00:00\",\"2017-08-01 00:00:00\",\"2017-09-01 00:00:00\",\"2017-10-01 00:00:00\",\"2017-11-01 00:00:00\",\"2017-12-01 00:00:00\",\"2018-01-01 00:00:00\",\"2018-02-01 00:00:00\",\"2018-03-01 00:00:00\",\"2018-04-01 00:00:00\",\"2018-05-01 00:00:00\",\"2018-06-01 00:00:00\",\"2018-07-01 00:00:00\",\"2018-08-01 00:00:00\",\"2018-09-01 00:00:00\",\"2018-10-01 00:00:00\",\"2018-11-01 00:00:00\",\"2018-12-01 00:00:00\",\"2019-01-01 00:00:00\",\"2019-02-01 00:00:00\",\"2019-03-01 00:00:00\",\"2019-04-01 00:00:00\",\"2019-05-01 00:00:00\",\"2019-06-01 00:00:00\",\"2019-07-01 00:00:00\",\"2019-08-01 00:00:00\",\"2019-09-01 00:00:00\",\"2019-10-01 00:00:00\",\"2019-11-01 00:00:00\",\"2019-12-01 00:00:00\",\"2020-01-01 00:00:00\",\"2020-02-01 00:00:00\",\"2020-03-01 00:00:00\",\"2020-04-01 00:00:00\",\"2020-05-01 00:00:00\",\"2020-06-01 00:00:00\",\"2020-07-01 00:00:00\",\"2020-08-01 00:00:00\",\"2020-09-01 00:00:00\",\"2020-10-01 00:00:00\",\"2020-11-01 00:00:00\",\"2020-12-01 00:00:00\",\"2021-01-01 00:00:00\",\"2021-02-01 00:00:00\",\"2021-03-01 00:00:00\",\"2021-04-01 00:00:00\",\"2021-05-01 00:00:00\",\"2021-06-01 00:00:00\",\"2021-07-01 00:00:00\",\"2021-08-01 00:00:00\",\"2021-09-01 00:00:00\",\"2021-10-01 00:00:00\",\"2021-11-01 00:00:00\",\"2021-12-01 00:00:00\",\"2022-01-01 00:00:00\",\"2022-02-01 00:00:00\",\"2022-03-01 00:00:00\",\"2022-04-01 00:00:00\",\"2022-05-01 00:00:00\",\"2022-06-01 00:00:00\",\"2022-07-01 00:00:00\",\"2022-08-01 00:00:00\",\"2022-09-01 00:00:00\",\"2022-10-01 00:00:00\",\"2022-11-01 00:00:00\",\"2022-12-01 00:00:00\"]],\"y\":[{\"__ndarray__\":\"KVyPwoUw00CamZmZOZLZQB+F61HYneFAhetRuCYW5UBSuB6FM17lQGZmZma2M+RAH4XrUbjT20CPwvUoXCzYQFyPwvXoptRAcT0K1/P220DNzMzMHG/bQGZmZmY2xthASOF6FP4z1UCPwvUovHbbQJqZmZn5VuFAPQrXowAx5EBxPQrXS1TnQBSuR+HyPuRAPQrXo7hS4EAUrkfhSl3XQHsUrkehS9ZA4XoUrndX3UAAAAAAuLDiQKRwPQo31NlAZmZmZvZH30CPwvUoNAngQAAAAAAQROZAzczMzNTq6ED2KFyPmp3uQFK4HoXjvOdA9ihcj6LJ4UAK16Nw7VvaQLgeheshUNBAZmZmZt7O4ED2KFyPCvThQFyPwvV4Ad9APQrXo4DS30CuR+F65A/gQLgehevxGeVAFK5H4SLa7UAK16NwDXztQI/C9SgMGepAj8L1KJz44UCuR+F6lFHZQGZmZmaWU9dAhetRuIZo5EBSuB6FA1jnQClcj8KVf+JAcT0K1zP44UCPwvUoXETiQAAAAAAQwOtA16NwPSok70DXo3A90h/wQIXrUbj2N+tAuB6F66E65kAzMzMzkzHeQHsUrkchnt9AUrgehROc5UAAAAAAyCXkQArXo3DdMeFAFK5H4erX4UD2KFyP8v3iQFK4HoVbSO1A7FG4HvXv8EApXI/C/T3xQFK4HoWrH+9AexSuR/E/5kDXo3A9qqHlQIXrUbhu699AFK5H4dIX6UApXI/CfezpQI/C9Sg0VehAmpmZmdGQ4kAzMzMzG7HiQAAAAAB4qc1AmpmZmVE20ED2KFyP8knOQJqZmZnhMs1AcT0K14uK5kAzMzMzeyPmQFK4HoVzoeNAPQrXo7ii50C4HoXr2bnpQK5H4XockOVAuB6F62Ho4UCamZmZCQHhQAAAAAB4ve5AmpmZmYHY7EB7FK5HMaPxQLgehettMvBAuB6F65HU5ECkcD0K363jQHsUrkdJ6+NAKVyPwiUt6UBI4XoUrpznQArXo3B1FuRAXI/C9dBZ40CPwvUoLODkQNejcD0ygO1A16NwPfLS70AUrkfhmh3zQKRwPQqP4u5AcT0K1wNn6kDhehSu137oQOxRuB51EuVAcT0K10ND70BmZmZmjirpQEjhehRmWuVA\",\"dtype\":\"float64\",\"order\":\"little\",\"shape\":[108]}]},\"selected\":{\"id\":\"1044\"},\"selection_policy\":{\"id\":\"1043\"}},\"id\":\"1017\",\"type\":\"ColumnDataSource\"},{\"attributes\":{\"height\":80,\"margin\":[0,25,0,25],\"name\":\"PNG00110\",\"text\":\"&lt;a href=&quot;https://plotly.com/&quot; target=&quot;_blank&quot;&gt;&lt;img src=&quot;data:image/png;base64,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&quot; width=&quot;80px&quot; height=&quot;80px&quot; alt=&quot;Plotly&quot;&gt;&lt;/img&gt;&lt;/a&gt;\",\"width\":80},\"id\":\"1009\",\"type\":\"panel.models.markup.HTML\"},{\"attributes\":{\"align\":\"center\",\"children\":[{\"id\":\"1008\"},{\"id\":\"1009\"},{\"id\":\"1010\"}],\"margin\":[0,0,0,0],\"name\":\"Row00114\"},\"id\":\"1007\",\"type\":\"Row\"},{\"attributes\":{\"margin\":[5,5,5,5],\"min_width\":100,\"name\":\"Spacer00103\",\"width\":100},\"id\":\"1004\",\"type\":\"Spacer\"},{\"attributes\":{\"data\":[{\"hovertemplate\":\"Month = %{x|%b %Y}<br>Sales = \\u20ac%{y:.2s}\",\"line\":{\"width\":0},\"marker\":{\"color\":\"#444\"},\"mode\":\"lines\",\"name\":\"Upper Bound\",\"showlegend\":false,\"type\":\"scatter\"},{\"fill\":\"tonexty\",\"fillcolor\":\"rgba(68, 68, 68, 0.3)\",\"hovertemplate\":\"Month = %{x|%b %Y}<br>Sales = \\u20ac%{y:.2s}\",\"line\":{\"width\":0},\"marker\":{\"color\":\"#444\"},\"mode\":\"lines\",\"name\":\"Lower Bound\",\"showlegend\":false,\"type\":\"scatter\"},{\"hovertemplate\":\"Month = %{x|%b %Y}<br>Sales = \\u20ac%{y:.2s}\",\"line\":{\"color\":\"#636efa\"},\"mode\":\"lines+markers\",\"name\":\"Prediction\",\"showlegend\":false,\"type\":\"scatter\"}],\"data_sources\":[{\"id\":\"1038\"},{\"id\":\"1039\"},{\"id\":\"1040\"}],\"layout\":{\"margin\":{\"b\":20,\"l\":20,\"r\":20,\"t\":30},\"template\":{\"data\":{\"bar\":[{\"error_x\":{\"color\":\"#2a3f5f\"},\"error_y\":{\"color\":\"#2a3f5f\"},\"marker\":{\"line\":{\"color\":\"#E5ECF6\",\"width\":0.5},\"pattern\":{\"fillmode\":\"overlay\",\"size\":10,\"solidity\":0.2}},\"type\":\"bar\"}],\"barpolar\":[{\"marker\":{\"line\":{\"color\":\"#E5ECF6\",\"width\":0.5},\"pattern\":{\"fillmode\":\"overlay\",\"size\":10,\"solidity\":0.2}},\"type\":\"barpolar\"}],\"carpet\":[{\"aaxis\":{\"endlinecolor\":\"#2a3f5f\",\"gridcolor\":\"white\",\"linecolor\":\"white\",\"minorgridcolor\":\"white\",\"startlinecolor\":\"#2a3f5f\"},\"baxis\":{\"endlinecolor\":\"#2a3f5f\",\"gridcolor\":\"white\",\"linecolor\":\"white\",\"minorgridcolor\":\"white\",\"startlinecolor\":\"#2a3f5f\"},\"type\":\"carpet\"}],\"choropleth\":[{\"colorbar\":{\"outlinewidth\":0,\"ticks\":\"\"},\"type\":\"choropleth\"}],\"contour\":[{\"colorbar\":{\"outlinewidth\":0,\"ticks\":\"\"},\"colorscale\":[[0.0,\"#0d0887\"],[0.1111111111111111,\"#46039f\"],[0.2222222222222222,\"#7201a8\"],[0.3333333333333333,\"#9c179e\"],[0.4444444444444444,\"#bd3786\"],[0.5555555555555556,\"#d8576b\"],[0.6666666666666666,\"#ed7953\"],[0.7777777777777778,\"#fb9f3a\"],[0.8888888888888888,\"#fdca26\"],[1.0,\"#f0f921\"]],\"type\":\"contour\"}],\"contourcarpet\":[{\"colorbar\":{\"outlinewidth\":0,\"ticks\":\"\"},\"type\":\"contourcarpet\"}],\"heatmap\":[{\"colorbar\":{\"outlinewidth\":0,\"ticks\":\"\"},\"colorscale\":[[0.0,\"#0d0887\"],[0.1111111111111111,\"#46039f\"],[0.2222222222222222,\"#7201a8\"],[0.3333333333333333,\"#9c179e\"],[0.4444444444444444,\"#bd3786\"],[0.5555555555555556,\"#d8576b\"],[0.6666666666666666,\"#ed7953\"],[0.7777777777777778,\"#fb9f3a\"],[0.8888888888888888,\"#fdca26\"],[1.0,\"#f0f921\"]],\"type\":\"heatmap\"}],\"heatmapgl\":[{\"colorbar\":{\"outlinewidth\":0,\"ticks\":\"\"},\"colorscale\":[[0.0,\"#0d0887\"],[0.1111111111111111,\"#46039f\"],[0.2222222222222222,\"#7201a8\"],[0.3333333333333333,\"#9c179e\"],[0.4444444444444444,\"#bd3786\"],[0.5555555555555556,\"#d8576b\"],[0.6666666666666666,\"#ed7953\"],[0.7777777777777778,\"#fb9f3a\"],[0.8888888888888888,\"#fdca26\"],[1.0,\"#f0f921\"]],\"type\":\"heatmapgl\"}],\"histogram\":[{\"marker\":{\"pattern\":{\"fillmode\":\"overlay\",\"size\":10,\"solidity\":0.2}},\"type\":\"histogram\"}],\"histogram2d\":[{\"colorbar\":{\"outlinewidth\":0,\"ticks\":\"\"},\"colorscale\":[[0.0,\"#0d0887\"],[0.1111111111111111,\"#46039f\"],[0.2222222222222222,\"#7201a8\"],[0.3333333333333333,\"#9c179e\"],[0.4444444444444444,\"#bd3786\"],[0.5555555555555556,\"#d8576b\"],[0.6666666666666666,\"#ed7953\"],[0.7777777777777778,\"#fb9f3a\"],[0.8888888888888888,\"#fdca26\"],[1.0,\"#f0f921\"]],\"type\":\"histogram2d\"}],\"histogram2dcontour\":[{\"colorbar\":{\"outlinewidth\":0,\"ticks\":\"\"},\"colorscale\":[[0.0,\"#0d0887\"],[0.1111111111111111,\"#46039f\"],[0.2222222222222222,\"#7201a8\"],[0.3333333333333333,\"#9c179e\"],[0.4444444444444444,\"#bd3786\"],[0.5555555555555556,\"#d8576b\"],[0.6666666666666666,\"#ed7953\"],[0.7777777777777778,\"#fb9f3a\"],[0.8888888888888888,\"#fdca26\"],[1.0,\"#f0f921\"]],\"type\":\"histogram2dcontour\"}],\"mesh3d\":[{\"colorbar\":{\"outlinewidth\":0,\"ticks\":\"\"},\"type\":\"mesh3d\"}],\"parcoords\":[{\"line\":{\"colorbar\":{\"outlinewidth\":0,\"ticks\":\"\"}},\"type\":\"parcoords\"}],\"pie\":[{\"automargin\":true,\"type\":\"pie\"}],\"scatter\":[{\"fillpattern\":{\"fillmode\":\"overlay\",\"size\":10,\"solidity\":0.2},\"type\":\"scatter\"}],\"scatter3d\":[{\"line\":{\"colorbar\":{\"outlinewidth\":0,\"ticks\":\"\"}},\"marker\":{\"colorbar\":{\"outlinewidth\":0,\"ticks\":\"\"}},\"type\":\"scatter3d\"}],\"scattercarpet\":[{\"marker\":{\"colorbar\":{\"outlinewidth\":0,\"ticks\":\"\"}},\"type\":\"scattercarpet\"}],\"scattergeo\":[{\"marker\":{\"colorbar\":{\"outlinewidth\":0,\"ticks\":\"\"}},\"type\":\"scattergeo\"}],\"scattergl\":[{\"marker\":{\"colorbar\":{\"outlinewidth\":0,\"ticks\":\"\"}},\"type\":\"scattergl\"}],\"scattermapbox\":[{\"marker\":{\"colorbar\":{\"outlinewidth\":0,\"ticks\":\"\"}},\"type\":\"scattermapbox\"}],\"scatterpolar\":[{\"marker\":{\"colorbar\":{\"outlinewidth\":0,\"ticks\":\"\"}},\"type\":\"scatterpolar\"}],\"scatterpolargl\":[{\"marker\":{\"colorbar\":{\"outlinewidth\":0,\"ticks\":\"\"}},\"type\":\"scatterpolargl\"}],\"scatterternary\":[{\"marker\":{\"colorbar\":{\"outlinewidth\":0,\"ticks\":\"\"}},\"type\":\"scatterternary\"}],\"surface\":[{\"colorbar\":{\"outlinewidth\":0,\"ticks\":\"\"},\"colorscale\":[[0.0,\"#0d0887\"],[0.1111111111111111,\"#46039f\"],[0.2222222222222222,\"#7201a8\"],[0.3333333333333333,\"#9c179e\"],[0.4444444444444444,\"#bd3786\"],[0.5555555555555556,\"#d8576b\"],[0.6666666666666666,\"#ed7953\"],[0.7777777777777778,\"#fb9f3a\"],[0.8888888888888888,\"#fdca26\"],[1.0,\"#f0f921\"]],\"type\":\"surface\"}],\"table\":[{\"cells\":{\"fill\":{\"color\":\"#EBF0F8\"},\"line\":{\"color\":\"white\"}},\"header\":{\"fill\":{\"color\":\"#C8D4E3\"},\"line\":{\"color\":\"white\"}},\"type\":\"table\"}]},\"layout\":{\"annotationdefaults\":{\"arrowcolor\":\"#2a3f5f\",\"arrowhead\":0,\"arrowwidth\":1},\"autotypenumbers\":\"strict\",\"coloraxis\":{\"colorbar\":{\"outlinewidth\":0,\"ticks\":\"\"}},\"colorscale\":{\"diverging\":[[0,\"#8e0152\"],[0.1,\"#c51b7d\"],[0.2,\"#de77ae\"],[0.3,\"#f1b6da\"],[0.4,\"#fde0ef\"],[0.5,\"#f7f7f7\"],[0.6,\"#e6f5d0\"],[0.7,\"#b8e186\"],[0.8,\"#7fbc41\"],[0.9,\"#4d9221\"],[1,\"#276419\"]],\"sequential\":[[0.0,\"#0d0887\"],[0.1111111111111111,\"#46039f\"],[0.2222222222222222,\"#7201a8\"],[0.3333333333333333,\"#9c179e\"],[0.4444444444444444,\"#bd3786\"],[0.5555555555555556,\"#d8576b\"],[0.6666666666666666,\"#ed7953\"],[0.7777777777777778,\"#fb9f3a\"],[0.8888888888888888,\"#fdca26\"],[1.0,\"#f0f921\"]],\"sequentialminus\":[[0.0,\"#0d0887\"],[0.1111111111111111,\"#46039f\"],[0.2222222222222222,\"#7201a8\"],[0.3333333333333333,\"#9c179e\"],[0.4444444444444444,\"#bd3786\"],[0.5555555555555556,\"#d8576b\"],[0.6666666666666666,\"#ed7953\"],[0.7777777777777778,\"#fb9f3a\"],[0.8888888888888888,\"#fdca26\"],[1.0,\"#f0f921\"]]},\"colorway\":[\"#636efa\",\"#EF553B\",\"#00cc96\",\"#ab63fa\",\"#FFA15A\",\"#19d3f3\",\"#FF6692\",\"#B6E880\",\"#FF97FF\",\"#FECB52\"],\"font\":{\"color\":\"#2a3f5f\"},\"geo\":{\"bgcolor\":\"white\",\"lakecolor\":\"white\",\"landcolor\":\"#E5ECF6\",\"showlakes\":true,\"showland\":true,\"subunitcolor\":\"white\"},\"hoverlabel\":{\"align\":\"left\"},\"hovermode\":\"closest\",\"mapbox\":{\"style\":\"light\"},\"paper_bgcolor\":\"white\",\"plot_bgcolor\":\"#E5ECF6\",\"polar\":{\"angularaxis\":{\"gridcolor\":\"white\",\"linecolor\":\"white\",\"ticks\":\"\"},\"bgcolor\":\"#E5ECF6\",\"radialaxis\":{\"gridcolor\":\"white\",\"linecolor\":\"white\",\"ticks\":\"\"}},\"scene\":{\"xaxis\":{\"backgroundcolor\":\"#E5ECF6\",\"gridcolor\":\"white\",\"gridwidth\":2,\"linecolor\":\"white\",\"showbackground\":true,\"ticks\":\"\",\"zerolinecolor\":\"white\"},\"yaxis\":{\"backgroundcolor\":\"#E5ECF6\",\"gridcolor\":\"white\",\"gridwidth\":2,\"linecolor\":\"white\",\"showbackground\":true,\"ticks\":\"\",\"zerolinecolor\":\"white\"},\"zaxis\":{\"backgroundcolor\":\"#E5ECF6\",\"gridcolor\":\"white\",\"gridwidth\":2,\"linecolor\":\"white\",\"showbackground\":true,\"ticks\":\"\",\"zerolinecolor\":\"white\"}},\"shapedefaults\":{\"line\":{\"color\":\"#2a3f5f\"}},\"ternary\":{\"aaxis\":{\"gridcolor\":\"white\",\"linecolor\":\"white\",\"ticks\":\"\"},\"baxis\":{\"gridcolor\":\"white\",\"linecolor\":\"white\",\"ticks\":\"\"},\"bgcolor\":\"#E5ECF6\",\"caxis\":{\"gridcolor\":\"white\",\"linecolor\":\"white\",\"ticks\":\"\"}},\"title\":{\"x\":0.05},\"xaxis\":{\"automargin\":true,\"gridcolor\":\"white\",\"linecolor\":\"white\",\"ticks\":\"\",\"title\":{\"standoff\":15},\"zerolinecolor\":\"white\",\"zerolinewidth\":2},\"yaxis\":{\"automargin\":true,\"gridcolor\":\"white\",\"linecolor\":\"white\",\"ticks\":\"\",\"title\":{\"standoff\":15},\"zerolinecolor\":\"white\",\"zerolinewidth\":2}}},\"yaxis\":{\"range\":[0,90000],\"showgrid\":true,\"showticklabels\":true,\"ticksuffix\":\" \",\"title\":{\"text\":\"Sales (\\u20ac)\"}}},\"margin\":[5,5,5,5],\"name\":\"ParamMethod00154\",\"viewport_update_throttle\":200},\"id\":\"1041\",\"type\":\"panel.models.plotly.PlotlyPlot\"}],\"root_ids\":[\"1002\",\"1079\",\"1116\"]},\"title\":\"Bokeh Application\",\"version\":\"2.4.3\"}};\n",
       "    var render_items = [{\"docid\":\"e21ea7cc-3e13-49df-a189-793a3bdf443e\",\"root_ids\":[\"1002\"],\"roots\":{\"1002\":\"4cf7b7f0-27e5-4f16-ba2b-0ae9e5f1d739\"}}];\n",
       "    root.Bokeh.embed.embed_items_notebook(docs_json, render_items);\n",
       "    for (const render_item of render_items) {\n",
       "      for (const root_id of render_item.root_ids) {\n",
       "\tconst id_el = document.getElementById(root_id)\n",
       "\tif (id_el.children.length && (id_el.children[0].className === 'bk-root')) {\n",
       "\t  const root_el = id_el.children[0]\n",
       "\t  root_el.id = root_el.id + '-rendered'\n",
       "\t}\n",
       "      }\n",
       "    }\n",
       "  }\n",
       "  if (root.Bokeh !== undefined && root.Bokeh.Panel !== undefined && ( root['Plotly'] !== undefined)) {\n",
       "    embed_document(root);\n",
       "  } else {\n",
       "    var attempts = 0;\n",
       "    var timer = setInterval(function(root) {\n",
       "      if (root.Bokeh !== undefined && root.Bokeh.Panel !== undefined && (root['Plotly'] !== undefined)) {\n",
       "        clearInterval(timer);\n",
       "        embed_document(root);\n",
       "      } else if (document.readyState == \"complete\") {\n",
       "        attempts++;\n",
       "        if (attempts > 200) {\n",
       "          clearInterval(timer);\n",
       "          console.log(\"Bokeh: ERROR: Unable to run BokehJS code because BokehJS library is missing\");\n",
       "        }\n",
       "      }\n",
       "    }, 25, root)\n",
       "  }\n",
       "})(window);</script>"
      ],
      "text/plain": [
       "Column(sizing_mode='stretch_width')\n",
       "    [0] Row(align='center', css_classes=['panel-markdown-center'], sizing_mode='stretch_width')\n",
       "        [0] Spacer(width=100)\n",
       "        [1] Markdown(str, max_width=600, sizing_mode='stretch_width')\n",
       "        [2] Spacer(width=100)\n",
       "    [1] Row(align='center')\n",
       "        [0] PNG(str, alt_text='Prophet', link_url='https://facebook.github.i..., margin=(0, 25), width=80)\n",
       "        [1] PNG(str, alt_text='Plotly', link_url='https://plotly.com/', margin=(0, 25), width=80)\n",
       "        [2] PNG(str, alt_text='Panel', link_url='https://panel.holoviz.org..., margin=(0, 25), width=80)\n",
       "    [2] Row(align='center', css_classes=['panel-markdown-center'])\n",
       "        [0] Markdown(str)\n",
       "    [3] FlexBox(align_items='center', justify_content='space-around', objects=[Column\n",
       "    [0] ParamMetho...], sizing_mode='stretch_width')\n",
       "    [4] Row(align='center', sizing_mode='stretch_width')\n",
       "        [0] Markdown(str, css_classes=['panel-markdown-center'], max_width=650, sizing_mode='stretch_width')\n",
       "    [5] FlexBox(align_items='center', justify_content='space-around', objects=[Column(align='center')\n",
       "  ...], sizing_mode='stretch_width')\n",
       "    [6] FileDownload(_transfers=1, align='center', button_type='primary', callback=<bound method Forecaster.g..., data='data:text/plain;charset=U..., embed=True, filename='data.csv', label='Download', max_width=300)"
      ]
     },
     "execution_count": 17,
     "metadata": {
      "application/vnd.holoviews_exec.v0+json": {
       "id": "1002"
      }
     },
     "output_type": "execute_result"
    }
   ],
   "source": [
    "panel"
   ]
  },
  {
   "cell_type": "markdown",
   "metadata": {},
   "source": [
    "## Share our dashboard as an HTML file"
   ]
  },
  {
   "cell_type": "markdown",
   "metadata": {},
   "source": [
    "What if we want to share our dashboard with someone who doesn't have Python? No problem! Let's export the dashboard as a HTML file. "
   ]
  },
  {
   "cell_type": "code",
   "execution_count": 18,
   "metadata": {},
   "outputs": [],
   "source": [
    "from bokeh.resources import INLINE\n",
    "import warnings"
   ]
  },
  {
   "cell_type": "code",
   "execution_count": 19,
   "metadata": {},
   "outputs": [
    {
     "name": "stderr",
     "output_type": "stream",
     "text": [
      "23:00:36 - cmdstanpy - INFO - Chain [1] start processing\n",
      "23:00:36 - cmdstanpy - INFO - Chain [1] done processing\n",
      "23:00:45 - cmdstanpy - INFO - Chain [1] start processing\n",
      "23:00:45 - cmdstanpy - INFO - Chain [1] done processing\n",
      "23:00:46 - cmdstanpy - INFO - Chain [1] start processing\n",
      "23:00:46 - cmdstanpy - INFO - Chain [1] done processing\n",
      "23:00:53 - cmdstanpy - INFO - Chain [1] start processing\n",
      "23:00:53 - cmdstanpy - INFO - Chain [1] done processing\n",
      "23:00:59 - cmdstanpy - INFO - Chain [1] start processing\n",
      "23:00:59 - cmdstanpy - INFO - Chain [1] done processing\n",
      "23:01:01 - cmdstanpy - INFO - Chain [1] start processing\n",
      "23:01:01 - cmdstanpy - INFO - Chain [1] done processing\n",
      "23:01:02 - cmdstanpy - INFO - Chain [1] start processing\n",
      "23:01:02 - cmdstanpy - INFO - Chain [1] done processing\n",
      "23:01:08 - cmdstanpy - INFO - Chain [1] start processing\n",
      "23:01:08 - cmdstanpy - INFO - Chain [1] done processing\n",
      "23:01:15 - cmdstanpy - INFO - Chain [1] start processing\n",
      "23:01:15 - cmdstanpy - INFO - Chain [1] done processing\n",
      "23:01:16 - cmdstanpy - INFO - Chain [1] start processing\n",
      "23:01:16 - cmdstanpy - INFO - Chain [1] done processing\n",
      "23:01:23 - cmdstanpy - INFO - Chain [1] start processing\n",
      "23:01:23 - cmdstanpy - INFO - Chain [1] done processing\n",
      "23:01:29 - cmdstanpy - INFO - Chain [1] start processing\n",
      "23:01:29 - cmdstanpy - INFO - Chain [1] done processing\n",
      "23:01:30 - cmdstanpy - INFO - Chain [1] start processing\n",
      "23:01:30 - cmdstanpy - INFO - Chain [1] done processing\n",
      "23:01:32 - cmdstanpy - INFO - Chain [1] start processing\n",
      "23:01:32 - cmdstanpy - INFO - Chain [1] done processing\n"
     ]
    }
   ],
   "source": [
    "with warnings.catch_warnings():\n",
    "    warnings.simplefilter(action=\"ignore\", category=FutureWarning)\n",
    "    panel.save(\n",
    "        \"forecast.html\",\n",
    "        resources=INLINE,\n",
    "        embed=True,\n",
    "        embed_states={\n",
    "            panel.select(lambda x: x.name == \"Periods\")[0]: [3, 6, 12, 24, 36],\n",
    "            panel.select(lambda x: x.name == \"Toggle trend\")[0]: [True, False],\n",
    "            panel.select(lambda x: x.name == \"Toggle seasonality\")[0]: [True, False],\n",
    "            panel.select(lambda x: x.name == \"Toggle outliers\")[0]: [True, False],\n",
    "        },\n",
    "        progress=False,\n",
    "    )\n",
    "\n",
    "!open forecast.html"
   ]
  },
  {
   "cell_type": "markdown",
   "metadata": {},
   "source": [
    "This generates a file, forecast.html, that can be shared by email and opened on any device with a web browser!"
   ]
  },
  {
   "cell_type": "markdown",
   "metadata": {},
   "source": [
    "<div class=\"alert alert-info\">\n",
    "Panel also makes it easy to share your dashboard in other ways. It can also be shared by hosting it on a server, allowing your stakeholders to access it via a URL. This also allows you to control access and update the dashboard with new data automatically.\n",
    "</div>"
   ]
  },
  {
   "cell_type": "markdown",
   "metadata": {},
   "source": [
    "## Conclusion\n",
    "We hope this gives you a glimpse of the value that data science and analytics can provide – before you invest your time and resources."
   ]
  }
 ],
 "metadata": {
  "anaconda-cloud": {},
  "kernelspec": {
   "display_name": "Python 3 (ipykernel)",
   "language": "python",
   "name": "python3"
  },
  "language_info": {
   "codemirror_mode": {
    "name": "ipython",
    "version": 3
   },
   "file_extension": ".py",
   "mimetype": "text/x-python",
   "name": "python",
   "nbconvert_exporter": "python",
   "pygments_lexer": "ipython3",
   "version": "3.9.0"
  },
  "toc": {
   "base_numbering": 1,
   "nav_menu": {},
   "number_sections": true,
   "sideBar": true,
   "skip_h1_title": true,
   "title_cell": "Table of Contents",
   "title_sidebar": "Contents",
   "toc_cell": false,
   "toc_position": {
    "height": "calc(100% - 480px)",
    "left": "10px",
    "top": "150px",
    "width": "165px"
   },
   "toc_section_display": true,
   "toc_window_display": true
  }
 },
 "nbformat": 4,
 "nbformat_minor": 1
}
